{
 "cells": [
  {
   "attachments": {},
   "cell_type": "markdown",
   "metadata": {},
   "source": [
    "# 第8章 方差分析"
   ]
  },
  {
   "attachments": {},
   "cell_type": "markdown",
   "metadata": {},
   "source": [
    "## 初始化"
   ]
  },
  {
   "cell_type": "code",
   "execution_count": 1,
   "metadata": {},
   "outputs": [],
   "source": [
    "# 本章需要用到的库\n",
    "import numpy as np # 导入numpy库\n",
    "import pandas as pd # 导入pandas库\n",
    "import matplotlib.pyplot as plt # 导入matplotlib库\n",
    "import seaborn as sns # 导入seaborn库\n",
    "from scipy.stats import shapiro, kstest # 导入正态性检验函数: S-W检验和K-S检验\n",
    "from scipy.stats import bartlett, levene # 导入方差齐性检验函数: Bartlett检验和Levene检验\n",
    "import statsmodels.api as sm # 导入statsmodels库\n",
    "from statsmodels.formula.api import ols # 导入普通最小二乘法函数\n",
    "from statsmodels.stats.anova import anova_lm # 导入方差分析函数\n",
    "from statsmodels.stats.multicomp import MultiComparison # 导入多重比较函数\n",
    "from statsmodels.graphics.api import interaction_plot # 导入交互作用图函数\n",
    "\n",
    "# 设置初始化\n",
    "plt.rcParams['font.sans-serif'] = ['SimHei'] # 用来正常显示中文标签\n",
    "plt.rcParams['axes.unicode_minus'] = False # 用来正常显示负号"
   ]
  },
  {
   "attachments": {},
   "cell_type": "markdown",
   "metadata": {},
   "source": [
    "## 8.1 方差分析的原理"
   ]
  },
  {
   "attachments": {},
   "cell_type": "markdown",
   "metadata": {},
   "source": [
    "### 8.1.1 什么是方差分析"
   ]
  },
  {
   "attachments": {},
   "cell_type": "markdown",
   "metadata": {},
   "source": [
    "### 8.1.2 误差分解"
   ]
  },
  {
   "attachments": {},
   "cell_type": "markdown",
   "metadata": {},
   "source": [
    "## 8.2 单因子方差分析"
   ]
  },
  {
   "attachments": {},
   "cell_type": "markdown",
   "metadata": {},
   "source": [
    "### 8.2.1 数学模型"
   ]
  },
  {
   "attachments": {},
   "cell_type": "markdown",
   "metadata": {},
   "source": [
    "### 8.2.2 效应检验"
   ]
  },
  {
   "cell_type": "code",
   "execution_count": 3,
   "metadata": {},
   "outputs": [
    {
     "data": {
      "text/html": [
       "<div>\n",
       "<style scoped>\n",
       "    .dataframe tbody tr th:only-of-type {\n",
       "        vertical-align: middle;\n",
       "    }\n",
       "\n",
       "    .dataframe tbody tr th {\n",
       "        vertical-align: top;\n",
       "    }\n",
       "\n",
       "    .dataframe thead th {\n",
       "        text-align: right;\n",
       "    }\n",
       "</style>\n",
       "<table border=\"1\" class=\"dataframe\">\n",
       "  <thead>\n",
       "    <tr style=\"text-align: right;\">\n",
       "      <th></th>\n",
       "      <th>品种1</th>\n",
       "      <th>品种2</th>\n",
       "      <th>品种3</th>\n",
       "    </tr>\n",
       "  </thead>\n",
       "  <tbody>\n",
       "    <tr>\n",
       "      <th>0</th>\n",
       "      <td>81</td>\n",
       "      <td>71</td>\n",
       "      <td>76</td>\n",
       "    </tr>\n",
       "    <tr>\n",
       "      <th>1</th>\n",
       "      <td>82</td>\n",
       "      <td>72</td>\n",
       "      <td>79</td>\n",
       "    </tr>\n",
       "    <tr>\n",
       "      <th>2</th>\n",
       "      <td>79</td>\n",
       "      <td>72</td>\n",
       "      <td>77</td>\n",
       "    </tr>\n",
       "    <tr>\n",
       "      <th>3</th>\n",
       "      <td>81</td>\n",
       "      <td>66</td>\n",
       "      <td>76</td>\n",
       "    </tr>\n",
       "    <tr>\n",
       "      <th>4</th>\n",
       "      <td>78</td>\n",
       "      <td>72</td>\n",
       "      <td>78</td>\n",
       "    </tr>\n",
       "    <tr>\n",
       "      <th>5</th>\n",
       "      <td>89</td>\n",
       "      <td>77</td>\n",
       "      <td>89</td>\n",
       "    </tr>\n",
       "    <tr>\n",
       "      <th>6</th>\n",
       "      <td>92</td>\n",
       "      <td>81</td>\n",
       "      <td>87</td>\n",
       "    </tr>\n",
       "    <tr>\n",
       "      <th>7</th>\n",
       "      <td>87</td>\n",
       "      <td>77</td>\n",
       "      <td>84</td>\n",
       "    </tr>\n",
       "    <tr>\n",
       "      <th>8</th>\n",
       "      <td>85</td>\n",
       "      <td>73</td>\n",
       "      <td>87</td>\n",
       "    </tr>\n",
       "    <tr>\n",
       "      <th>9</th>\n",
       "      <td>86</td>\n",
       "      <td>79</td>\n",
       "      <td>87</td>\n",
       "    </tr>\n",
       "  </tbody>\n",
       "</table>\n",
       "</div>"
      ],
      "text/plain": [
       "   品种1  品种2  品种3\n",
       "0   81   71   76\n",
       "1   82   72   79\n",
       "2   79   72   77\n",
       "3   81   66   76\n",
       "4   78   72   78\n",
       "5   89   77   89\n",
       "6   92   81   87\n",
       "7   87   77   84\n",
       "8   85   73   87\n",
       "9   86   79   87"
      ]
     },
     "execution_count": 3,
     "metadata": {},
     "output_type": "execute_result"
    }
   ],
   "source": [
    "example8_1 = pd.read_csv('./pydata/chap08/example8_1.csv', encoding='gbk') # 读取数据\n",
    "example8_1"
   ]
  },
  {
   "cell_type": "code",
   "execution_count": 7,
   "metadata": {},
   "outputs": [
    {
     "data": {
      "text/html": [
       "<div>\n",
       "<style scoped>\n",
       "    .dataframe tbody tr th:only-of-type {\n",
       "        vertical-align: middle;\n",
       "    }\n",
       "\n",
       "    .dataframe tbody tr th {\n",
       "        vertical-align: top;\n",
       "    }\n",
       "\n",
       "    .dataframe thead th {\n",
       "        text-align: right;\n",
       "    }\n",
       "</style>\n",
       "<table border=\"1\" class=\"dataframe\">\n",
       "  <thead>\n",
       "    <tr style=\"text-align: right;\">\n",
       "      <th></th>\n",
       "      <th>品种</th>\n",
       "      <th>产量</th>\n",
       "    </tr>\n",
       "  </thead>\n",
       "  <tbody>\n",
       "    <tr>\n",
       "      <th>0</th>\n",
       "      <td>品种1</td>\n",
       "      <td>81</td>\n",
       "    </tr>\n",
       "    <tr>\n",
       "      <th>1</th>\n",
       "      <td>品种1</td>\n",
       "      <td>82</td>\n",
       "    </tr>\n",
       "    <tr>\n",
       "      <th>2</th>\n",
       "      <td>品种1</td>\n",
       "      <td>79</td>\n",
       "    </tr>\n",
       "    <tr>\n",
       "      <th>3</th>\n",
       "      <td>品种1</td>\n",
       "      <td>81</td>\n",
       "    </tr>\n",
       "    <tr>\n",
       "      <th>4</th>\n",
       "      <td>品种1</td>\n",
       "      <td>78</td>\n",
       "    </tr>\n",
       "  </tbody>\n",
       "</table>\n",
       "</div>"
      ],
      "text/plain": [
       "    品种  产量\n",
       "0  品种1  81\n",
       "1  品种1  82\n",
       "2  品种1  79\n",
       "3  品种1  81\n",
       "4  品种1  78"
      ]
     },
     "execution_count": 7,
     "metadata": {},
     "output_type": "execute_result"
    }
   ],
   "source": [
    "example8_2 = pd.melt(\n",
    "    example8_1, value_vars=['品种1', '品种2', '品种3'], \n",
    "    var_name='品种', value_name='产量'\n",
    ") # 转换数据格式\n",
    "example8_2.to_csv('./pydata/chap08/example8_2.csv', encoding='gbk', index=False) # 保存数据\n",
    "example8_2.head() # 显示前5行数据"
   ]
  },
  {
   "attachments": {},
   "cell_type": "markdown",
   "metadata": {},
   "source": [
    "提出假设：\n",
    "- $H_0: \\alpha_1 = \\alpha_2 = \\alpha_3 = 0$(品种对产量的影响不显著)\n",
    "- $H_1: \\alpha_1, \\alpha_2, \\alpha_3$ 至少有一个不等于0(品种对产量的影响显著)"
   ]
  },
  {
   "cell_type": "code",
   "execution_count": 9,
   "metadata": {},
   "outputs": [
    {
     "data": {
      "text/html": [
       "<div>\n",
       "<style scoped>\n",
       "    .dataframe tbody tr th:only-of-type {\n",
       "        vertical-align: middle;\n",
       "    }\n",
       "\n",
       "    .dataframe tbody tr th {\n",
       "        vertical-align: top;\n",
       "    }\n",
       "\n",
       "    .dataframe thead th {\n",
       "        text-align: right;\n",
       "    }\n",
       "</style>\n",
       "<table border=\"1\" class=\"dataframe\">\n",
       "  <thead>\n",
       "    <tr style=\"text-align: right;\">\n",
       "      <th></th>\n",
       "      <th>df</th>\n",
       "      <th>sum_sq</th>\n",
       "      <th>mean_sq</th>\n",
       "      <th>F</th>\n",
       "      <th>PR(&gt;F)</th>\n",
       "    </tr>\n",
       "  </thead>\n",
       "  <tbody>\n",
       "    <tr>\n",
       "      <th>品种</th>\n",
       "      <td>2.0</td>\n",
       "      <td>560.0</td>\n",
       "      <td>280.000000</td>\n",
       "      <td>12.312704</td>\n",
       "      <td>0.000158</td>\n",
       "    </tr>\n",
       "    <tr>\n",
       "      <th>Residual</th>\n",
       "      <td>27.0</td>\n",
       "      <td>614.0</td>\n",
       "      <td>22.740741</td>\n",
       "      <td>NaN</td>\n",
       "      <td>NaN</td>\n",
       "    </tr>\n",
       "  </tbody>\n",
       "</table>\n",
       "</div>"
      ],
      "text/plain": [
       "            df  sum_sq     mean_sq          F    PR(>F)\n",
       "品种         2.0   560.0  280.000000  12.312704  0.000158\n",
       "Residual  27.0   614.0   22.740741        NaN       NaN"
      ]
     },
     "execution_count": 9,
     "metadata": {},
     "output_type": "execute_result"
    }
   ],
   "source": [
    "example8_2 = pd.read_csv('./pydata/chap08/example8_2.csv', encoding='gbk') # 读取数据\n",
    "model = ols('产量 ~ 品种', data=example8_2).fit() # 拟合方差分析模型\n",
    "anova_lm(model, typ=1) # 执行方差分析"
   ]
  },
  {
   "cell_type": "code",
   "execution_count": 10,
   "metadata": {},
   "outputs": [
    {
     "data": {
      "text/html": [
       "<table class=\"simpletable\">\n",
       "<caption>OLS Regression Results</caption>\n",
       "<tr>\n",
       "  <th>Dep. Variable:</th>           <td>产量</td>        <th>  R-squared:         </th> <td>   0.477</td>\n",
       "</tr>\n",
       "<tr>\n",
       "  <th>Model:</th>                   <td>OLS</td>       <th>  Adj. R-squared:    </th> <td>   0.438</td>\n",
       "</tr>\n",
       "<tr>\n",
       "  <th>Method:</th>             <td>Least Squares</td>  <th>  F-statistic:       </th> <td>   12.31</td>\n",
       "</tr>\n",
       "<tr>\n",
       "  <th>Date:</th>             <td>Sun, 14 May 2023</td> <th>  Prob (F-statistic):</th> <td>0.000158</td>\n",
       "</tr>\n",
       "<tr>\n",
       "  <th>Time:</th>                 <td>19:36:42</td>     <th>  Log-Likelihood:    </th> <td> -87.850</td>\n",
       "</tr>\n",
       "<tr>\n",
       "  <th>No. Observations:</th>      <td>    30</td>      <th>  AIC:               </th> <td>   181.7</td>\n",
       "</tr>\n",
       "<tr>\n",
       "  <th>Df Residuals:</th>          <td>    27</td>      <th>  BIC:               </th> <td>   185.9</td>\n",
       "</tr>\n",
       "<tr>\n",
       "  <th>Df Model:</th>              <td>     2</td>      <th>                     </th>     <td> </td>   \n",
       "</tr>\n",
       "<tr>\n",
       "  <th>Covariance Type:</th>      <td>nonrobust</td>    <th>                     </th>     <td> </td>   \n",
       "</tr>\n",
       "</table>\n",
       "<table class=\"simpletable\">\n",
       "<tr>\n",
       "      <td></td>         <th>coef</th>     <th>std err</th>      <th>t</th>      <th>P>|t|</th>  <th>[0.025</th>    <th>0.975]</th>  \n",
       "</tr>\n",
       "<tr>\n",
       "  <th>Intercept</th> <td>   84.0000</td> <td>    1.508</td> <td>   55.703</td> <td> 0.000</td> <td>   80.906</td> <td>   87.094</td>\n",
       "</tr>\n",
       "<tr>\n",
       "  <th>品种[T.品种2]</th> <td>  -10.0000</td> <td>    2.133</td> <td>   -4.689</td> <td> 0.000</td> <td>  -14.376</td> <td>   -5.624</td>\n",
       "</tr>\n",
       "<tr>\n",
       "  <th>品种[T.品种3]</th> <td>   -2.0000</td> <td>    2.133</td> <td>   -0.938</td> <td> 0.357</td> <td>   -6.376</td> <td>    2.376</td>\n",
       "</tr>\n",
       "</table>\n",
       "<table class=\"simpletable\">\n",
       "<tr>\n",
       "  <th>Omnibus:</th>       <td> 6.194</td> <th>  Durbin-Watson:     </th> <td>   1.094</td>\n",
       "</tr>\n",
       "<tr>\n",
       "  <th>Prob(Omnibus):</th> <td> 0.045</td> <th>  Jarque-Bera (JB):  </th> <td>   1.968</td>\n",
       "</tr>\n",
       "<tr>\n",
       "  <th>Skew:</th>          <td> 0.110</td> <th>  Prob(JB):          </th> <td>   0.374</td>\n",
       "</tr>\n",
       "<tr>\n",
       "  <th>Kurtosis:</th>      <td> 1.765</td> <th>  Cond. No.          </th> <td>    3.73</td>\n",
       "</tr>\n",
       "</table><br/><br/>Notes:<br/>[1] Standard Errors assume that the covariance matrix of the errors is correctly specified."
      ],
      "text/plain": [
       "<class 'statsmodels.iolib.summary.Summary'>\n",
       "\"\"\"\n",
       "                            OLS Regression Results                            \n",
       "==============================================================================\n",
       "Dep. Variable:                     产量   R-squared:                       0.477\n",
       "Model:                            OLS   Adj. R-squared:                  0.438\n",
       "Method:                 Least Squares   F-statistic:                     12.31\n",
       "Date:                Sun, 14 May 2023   Prob (F-statistic):           0.000158\n",
       "Time:                        19:36:42   Log-Likelihood:                -87.850\n",
       "No. Observations:                  30   AIC:                             181.7\n",
       "Df Residuals:                      27   BIC:                             185.9\n",
       "Df Model:                           2                                         \n",
       "Covariance Type:            nonrobust                                         \n",
       "==============================================================================\n",
       "                 coef    std err          t      P>|t|      [0.025      0.975]\n",
       "------------------------------------------------------------------------------\n",
       "Intercept     84.0000      1.508     55.703      0.000      80.906      87.094\n",
       "品种[T.品种2]    -10.0000      2.133     -4.689      0.000     -14.376      -5.624\n",
       "品种[T.品种3]     -2.0000      2.133     -0.938      0.357      -6.376       2.376\n",
       "==============================================================================\n",
       "Omnibus:                        6.194   Durbin-Watson:                   1.094\n",
       "Prob(Omnibus):                  0.045   Jarque-Bera (JB):                1.968\n",
       "Skew:                           0.110   Prob(JB):                        0.374\n",
       "Kurtosis:                       1.765   Cond. No.                         3.73\n",
       "==============================================================================\n",
       "\n",
       "Notes:\n",
       "[1] Standard Errors assume that the covariance matrix of the errors is correctly specified.\n",
       "\"\"\""
      ]
     },
     "execution_count": 10,
     "metadata": {},
     "output_type": "execute_result"
    }
   ],
   "source": [
    "model.summary() # 显示方差分析结果"
   ]
  },
  {
   "attachments": {},
   "cell_type": "markdown",
   "metadata": {},
   "source": [
    "由于P<0.05, 所以拒绝原假设。"
   ]
  },
  {
   "cell_type": "code",
   "execution_count": 16,
   "metadata": {},
   "outputs": [
    {
     "data": {
      "text/html": [
       "<div>\n",
       "<style scoped>\n",
       "    .dataframe tbody tr th:only-of-type {\n",
       "        vertical-align: middle;\n",
       "    }\n",
       "\n",
       "    .dataframe tbody tr th {\n",
       "        vertical-align: top;\n",
       "    }\n",
       "\n",
       "    .dataframe thead th {\n",
       "        text-align: right;\n",
       "    }\n",
       "</style>\n",
       "<table border=\"1\" class=\"dataframe\">\n",
       "  <thead>\n",
       "    <tr style=\"text-align: right;\">\n",
       "      <th></th>\n",
       "      <th>0</th>\n",
       "      <th>1</th>\n",
       "    </tr>\n",
       "  </thead>\n",
       "  <tbody>\n",
       "    <tr>\n",
       "      <th>Intercept</th>\n",
       "      <td>80.905833</td>\n",
       "      <td>87.094167</td>\n",
       "    </tr>\n",
       "    <tr>\n",
       "      <th>品种[T.品种2]</th>\n",
       "      <td>-14.375813</td>\n",
       "      <td>-5.624187</td>\n",
       "    </tr>\n",
       "    <tr>\n",
       "      <th>品种[T.品种3]</th>\n",
       "      <td>-6.375813</td>\n",
       "      <td>2.375813</td>\n",
       "    </tr>\n",
       "  </tbody>\n",
       "</table>\n",
       "</div>"
      ],
      "text/plain": [
       "                   0          1\n",
       "Intercept  80.905833  87.094167\n",
       "品种[T.品种2] -14.375813  -5.624187\n",
       "品种[T.品种3]  -6.375813   2.375813"
      ]
     },
     "execution_count": 16,
     "metadata": {},
     "output_type": "execute_result"
    }
   ],
   "source": [
    "model.conf_int()"
   ]
  },
  {
   "cell_type": "code",
   "execution_count": 17,
   "metadata": {},
   "outputs": [
    {
     "data": {
      "text/html": [
       "<div>\n",
       "<style scoped>\n",
       "    .dataframe tbody tr th:only-of-type {\n",
       "        vertical-align: middle;\n",
       "    }\n",
       "\n",
       "    .dataframe tbody tr th {\n",
       "        vertical-align: top;\n",
       "    }\n",
       "\n",
       "    .dataframe thead th {\n",
       "        text-align: right;\n",
       "    }\n",
       "</style>\n",
       "<table border=\"1\" class=\"dataframe\">\n",
       "  <thead>\n",
       "    <tr style=\"text-align: right;\">\n",
       "      <th></th>\n",
       "      <th>品种1</th>\n",
       "      <th>品种2</th>\n",
       "      <th>品种3</th>\n",
       "    </tr>\n",
       "  </thead>\n",
       "  <tbody>\n",
       "    <tr>\n",
       "      <th>lci</th>\n",
       "      <td>80.905833</td>\n",
       "      <td>70.905833</td>\n",
       "      <td>78.905833</td>\n",
       "    </tr>\n",
       "    <tr>\n",
       "      <th>mean</th>\n",
       "      <td>84.000000</td>\n",
       "      <td>74.000000</td>\n",
       "      <td>82.000000</td>\n",
       "    </tr>\n",
       "    <tr>\n",
       "      <th>uci</th>\n",
       "      <td>87.094167</td>\n",
       "      <td>77.094167</td>\n",
       "      <td>85.094167</td>\n",
       "    </tr>\n",
       "  </tbody>\n",
       "</table>\n",
       "</div>"
      ],
      "text/plain": [
       "            品种1        品种2        品种3\n",
       "lci   80.905833  70.905833  78.905833\n",
       "mean  84.000000  74.000000  82.000000\n",
       "uci   87.094167  77.094167  85.094167"
      ]
     },
     "execution_count": 17,
     "metadata": {},
     "output_type": "execute_result"
    }
   ],
   "source": [
    "mean = model.params.values[0] # 品种1(参照的基础水平)的平均产量\n",
    "lci, uci = model.conf_int().iloc[0].values # 品种1(参照的基础水平)的置信区间\n",
    "df_mean = pd.DataFrame([lci, mean, uci], index=['lci', 'mean', 'uci'], columns=['品种1']) # 构建数据框\n",
    "df_mean['品种2'] = df_mean['品种1'] + model.params.values[1] # 品种2的平均产量\n",
    "df_mean['品种3'] = df_mean['品种1'] + model.params.values[2] # 品种3的平均产量\n",
    "df_mean"
   ]
  },
  {
   "cell_type": "code",
   "execution_count": 19,
   "metadata": {},
   "outputs": [
    {
     "data": {
      "image/png": "[encoded data removed]",
      "text/plain": [
       "<Figure size 900x600 with 1 Axes>"
      ]
     },
     "metadata": {},
     "output_type": "display_data"
    }
   ],
   "source": [
    "ax = df_mean.T.plot(\n",
    "    ls='', marker='o', legend=False, c='black', \n",
    "    figsize=(9, 6), xlabel='品种', ylabel='产量'\n",
    ") # 绘制图形\n",
    "ax = df_mean.T['mean'].plot()"
   ]
  },
  {
   "cell_type": "code",
   "execution_count": 25,
   "metadata": {},
   "outputs": [
    {
     "data": {
      "image/png": "[encoded data removed]",
      "text/plain": [
       "<Figure size 900x600 with 1 Axes>"
      ]
     },
     "metadata": {},
     "output_type": "display_data"
    }
   ],
   "source": [
    "plt.figure(figsize=(9, 6)) # 设置图形大小\n",
    "sns.pointplot(\n",
    "    x='品种', y='产量', data=example8_2,\n",
    "    capsize=.1, errwidth=1\n",
    ")\n",
    "plt.xlabel('品种') # 添加横轴标签\n",
    "plt.ylabel('产量') # 添加纵轴标签\n",
    "plt.show() # 显示图形"
   ]
  },
  {
   "attachments": {},
   "cell_type": "markdown",
   "metadata": {},
   "source": [
    "### 8.2.3 效应量分析"
   ]
  },
  {
   "cell_type": "code",
   "execution_count": 27,
   "metadata": {},
   "outputs": [
    {
     "name": "stdout",
     "output_type": "stream",
     "text": [
      "效应量为 0.477\n"
     ]
    }
   ],
   "source": [
    "# 效应量分析，接上例8-2中的模型\n",
    "print(f'效应量为 {model.rsquared:.4g}') # 显示效应量"
   ]
  },
  {
   "attachments": {},
   "cell_type": "markdown",
   "metadata": {},
   "source": [
    "在产量取值的总误差中被品种解释的比例为47.7%。"
   ]
  },
  {
   "attachments": {},
   "cell_type": "markdown",
   "metadata": {},
   "source": [
    "### 8.2.4 多重比较"
   ]
  },
  {
   "cell_type": "code",
   "execution_count": 30,
   "metadata": {},
   "outputs": [
    {
     "data": {
      "text/html": [
       "<table class=\"simpletable\">\n",
       "<caption>Multiple Comparison of Means - Tukey HSD, FWER=0.05</caption>\n",
       "<tr>\n",
       "  <th>group1</th> <th>group2</th> <th>meandiff</th>  <th>p-adj</th>   <th>lower</th>   <th>upper</th>  <th>reject</th>\n",
       "</tr>\n",
       "<tr>\n",
       "    <td>品种1</td>    <td>品种2</td>    <td>-10.0</td>  <td>0.0002</td> <td>-15.2877</td> <td>-4.7123</td>  <td>True</td> \n",
       "</tr>\n",
       "<tr>\n",
       "    <td>品种1</td>    <td>品种3</td>    <td>-2.0</td>   <td>0.6216</td>  <td>-7.2877</td> <td>3.2877</td>   <td>False</td>\n",
       "</tr>\n",
       "<tr>\n",
       "    <td>品种2</td>    <td>品种3</td>     <td>8.0</td>   <td>0.0024</td>  <td>2.7123</td>  <td>13.2877</td>  <td>True</td> \n",
       "</tr>\n",
       "</table>"
      ],
      "text/plain": [
       "<class 'statsmodels.iolib.table.SimpleTable'>"
      ]
     },
     "execution_count": 30,
     "metadata": {},
     "output_type": "execute_result"
    }
   ],
   "source": [
    "mc = MultiComparison(example8_2['产量'], example8_2['品种']) # 创建多重比较对象\n",
    "mc.tukeyhsd(alpha=0.05).summary() # 执行多重比较"
   ]
  },
  {
   "attachments": {},
   "cell_type": "markdown",
   "metadata": {},
   "source": [
    "结果显示，品种3与品种1之间的差异不显著，品种1与品种2、品种3与品种2之间的差异均显著。"
   ]
  },
  {
   "attachments": {},
   "cell_type": "markdown",
   "metadata": {},
   "source": [
    "## 8.3 双因子方差分析"
   ]
  },
  {
   "attachments": {},
   "cell_type": "markdown",
   "metadata": {},
   "source": [
    "### 8.3.1 数学模型"
   ]
  },
  {
   "attachments": {},
   "cell_type": "markdown",
   "metadata": {},
   "source": [
    "### 8.3.2 主效应分析"
   ]
  },
  {
   "attachments": {},
   "cell_type": "markdown",
   "metadata": {},
   "source": [
    "检验因子A的假设：\n",
    "- $H_0: \\alpha_i = 0, (i=1,2,\\cdots,I)$ (因子A的处理效应不显著)\n",
    "- $H_1: \\alpha_i$ 至少有一个不等于0 (因子A的处理效应显著)\n",
    "\n",
    "检验因子B的假设：\n",
    "- $H_0: \\beta_j = 0, (j=1,2,\\cdots,J)$ (因子B的处理效应不显著)\n",
    "- $H_1: \\beta_j$ 至少有一个不等于0 (因子B的处理效应显著)"
   ]
  },
  {
   "cell_type": "code",
   "execution_count": 40,
   "metadata": {},
   "outputs": [
    {
     "data": {
      "text/html": [
       "<div>\n",
       "<style scoped>\n",
       "    .dataframe tbody tr th:only-of-type {\n",
       "        vertical-align: middle;\n",
       "    }\n",
       "\n",
       "    .dataframe tbody tr th {\n",
       "        vertical-align: top;\n",
       "    }\n",
       "\n",
       "    .dataframe thead th {\n",
       "        text-align: right;\n",
       "    }\n",
       "</style>\n",
       "<table border=\"1\" class=\"dataframe\">\n",
       "  <thead>\n",
       "    <tr style=\"text-align: right;\">\n",
       "      <th></th>\n",
       "      <th>施肥方式</th>\n",
       "      <th>品种1</th>\n",
       "      <th>品种2</th>\n",
       "      <th>品种3</th>\n",
       "    </tr>\n",
       "  </thead>\n",
       "  <tbody>\n",
       "    <tr>\n",
       "      <th>0</th>\n",
       "      <td>甲</td>\n",
       "      <td>81</td>\n",
       "      <td>71</td>\n",
       "      <td>76</td>\n",
       "    </tr>\n",
       "    <tr>\n",
       "      <th>1</th>\n",
       "      <td>甲</td>\n",
       "      <td>82</td>\n",
       "      <td>72</td>\n",
       "      <td>79</td>\n",
       "    </tr>\n",
       "    <tr>\n",
       "      <th>2</th>\n",
       "      <td>甲</td>\n",
       "      <td>79</td>\n",
       "      <td>72</td>\n",
       "      <td>77</td>\n",
       "    </tr>\n",
       "    <tr>\n",
       "      <th>3</th>\n",
       "      <td>甲</td>\n",
       "      <td>81</td>\n",
       "      <td>66</td>\n",
       "      <td>76</td>\n",
       "    </tr>\n",
       "    <tr>\n",
       "      <th>4</th>\n",
       "      <td>甲</td>\n",
       "      <td>78</td>\n",
       "      <td>72</td>\n",
       "      <td>78</td>\n",
       "    </tr>\n",
       "    <tr>\n",
       "      <th>5</th>\n",
       "      <td>乙</td>\n",
       "      <td>89</td>\n",
       "      <td>77</td>\n",
       "      <td>89</td>\n",
       "    </tr>\n",
       "    <tr>\n",
       "      <th>6</th>\n",
       "      <td>乙</td>\n",
       "      <td>92</td>\n",
       "      <td>81</td>\n",
       "      <td>87</td>\n",
       "    </tr>\n",
       "    <tr>\n",
       "      <th>7</th>\n",
       "      <td>乙</td>\n",
       "      <td>87</td>\n",
       "      <td>77</td>\n",
       "      <td>84</td>\n",
       "    </tr>\n",
       "    <tr>\n",
       "      <th>8</th>\n",
       "      <td>乙</td>\n",
       "      <td>85</td>\n",
       "      <td>73</td>\n",
       "      <td>87</td>\n",
       "    </tr>\n",
       "    <tr>\n",
       "      <th>9</th>\n",
       "      <td>乙</td>\n",
       "      <td>86</td>\n",
       "      <td>79</td>\n",
       "      <td>87</td>\n",
       "    </tr>\n",
       "  </tbody>\n",
       "</table>\n",
       "</div>"
      ],
      "text/plain": [
       "  施肥方式  品种1  品种2  品种3\n",
       "0    甲   81   71   76\n",
       "1    甲   82   72   79\n",
       "2    甲   79   72   77\n",
       "3    甲   81   66   76\n",
       "4    甲   78   72   78\n",
       "5    乙   89   77   89\n",
       "6    乙   92   81   87\n",
       "7    乙   87   77   84\n",
       "8    乙   85   73   87\n",
       "9    乙   86   79   87"
      ]
     },
     "execution_count": 40,
     "metadata": {},
     "output_type": "execute_result"
    }
   ],
   "source": [
    "table8_4 = pd.read_csv('./pydata/chap08/table8_4.csv', encoding='gbk') # 读取数据\n",
    "table8_4"
   ]
  },
  {
   "cell_type": "code",
   "execution_count": 41,
   "metadata": {},
   "outputs": [
    {
     "data": {
      "text/html": [
       "<div>\n",
       "<style scoped>\n",
       "    .dataframe tbody tr th:only-of-type {\n",
       "        vertical-align: middle;\n",
       "    }\n",
       "\n",
       "    .dataframe tbody tr th {\n",
       "        vertical-align: top;\n",
       "    }\n",
       "\n",
       "    .dataframe thead th {\n",
       "        text-align: right;\n",
       "    }\n",
       "</style>\n",
       "<table border=\"1\" class=\"dataframe\">\n",
       "  <thead>\n",
       "    <tr style=\"text-align: right;\">\n",
       "      <th></th>\n",
       "      <th>施肥方式</th>\n",
       "      <th>品种</th>\n",
       "      <th>产量</th>\n",
       "    </tr>\n",
       "  </thead>\n",
       "  <tbody>\n",
       "    <tr>\n",
       "      <th>0</th>\n",
       "      <td>甲</td>\n",
       "      <td>品种1</td>\n",
       "      <td>81</td>\n",
       "    </tr>\n",
       "    <tr>\n",
       "      <th>1</th>\n",
       "      <td>甲</td>\n",
       "      <td>品种1</td>\n",
       "      <td>82</td>\n",
       "    </tr>\n",
       "    <tr>\n",
       "      <th>2</th>\n",
       "      <td>甲</td>\n",
       "      <td>品种1</td>\n",
       "      <td>79</td>\n",
       "    </tr>\n",
       "    <tr>\n",
       "      <th>3</th>\n",
       "      <td>甲</td>\n",
       "      <td>品种1</td>\n",
       "      <td>81</td>\n",
       "    </tr>\n",
       "    <tr>\n",
       "      <th>4</th>\n",
       "      <td>甲</td>\n",
       "      <td>品种1</td>\n",
       "      <td>78</td>\n",
       "    </tr>\n",
       "  </tbody>\n",
       "</table>\n",
       "</div>"
      ],
      "text/plain": [
       "  施肥方式   品种  产量\n",
       "0    甲  品种1  81\n",
       "1    甲  品种1  82\n",
       "2    甲  品种1  79\n",
       "3    甲  品种1  81\n",
       "4    甲  品种1  78"
      ]
     },
     "execution_count": 41,
     "metadata": {},
     "output_type": "execute_result"
    }
   ],
   "source": [
    "example8_4 = pd.melt(\n",
    "    table8_4, id_vars=['施肥方式'],\n",
    "    value_vars=['品种1', '品种2', '品种3'],\n",
    "    var_name='品种', value_name='产量'\n",
    ") # 转换数据格式\n",
    "example8_4.to_csv('./pydata/chap08/example8_4.csv', encoding='gbk', index=False) # 保存数据\n",
    "example8_4.head() # 显示前5行数据"
   ]
  },
  {
   "cell_type": "code",
   "execution_count": 42,
   "metadata": {},
   "outputs": [
    {
     "data": {
      "text/html": [
       "<div>\n",
       "<style scoped>\n",
       "    .dataframe tbody tr th:only-of-type {\n",
       "        vertical-align: middle;\n",
       "    }\n",
       "\n",
       "    .dataframe tbody tr th {\n",
       "        vertical-align: top;\n",
       "    }\n",
       "\n",
       "    .dataframe thead th {\n",
       "        text-align: right;\n",
       "    }\n",
       "</style>\n",
       "<table border=\"1\" class=\"dataframe\">\n",
       "  <thead>\n",
       "    <tr style=\"text-align: right;\">\n",
       "      <th></th>\n",
       "      <th>df</th>\n",
       "      <th>sum_sq</th>\n",
       "      <th>mean_sq</th>\n",
       "      <th>F</th>\n",
       "      <th>PR(&gt;F)</th>\n",
       "    </tr>\n",
       "  </thead>\n",
       "  <tbody>\n",
       "    <tr>\n",
       "      <th>品种</th>\n",
       "      <td>2.0</td>\n",
       "      <td>560.0</td>\n",
       "      <td>280.000000</td>\n",
       "      <td>54.328358</td>\n",
       "      <td>5.184290e-10</td>\n",
       "    </tr>\n",
       "    <tr>\n",
       "      <th>施肥方式</th>\n",
       "      <td>1.0</td>\n",
       "      <td>480.0</td>\n",
       "      <td>480.000000</td>\n",
       "      <td>93.134328</td>\n",
       "      <td>4.422633e-10</td>\n",
       "    </tr>\n",
       "    <tr>\n",
       "      <th>Residual</th>\n",
       "      <td>26.0</td>\n",
       "      <td>134.0</td>\n",
       "      <td>5.153846</td>\n",
       "      <td>NaN</td>\n",
       "      <td>NaN</td>\n",
       "    </tr>\n",
       "  </tbody>\n",
       "</table>\n",
       "</div>"
      ],
      "text/plain": [
       "            df  sum_sq     mean_sq          F        PR(>F)\n",
       "品种         2.0   560.0  280.000000  54.328358  5.184290e-10\n",
       "施肥方式       1.0   480.0  480.000000  93.134328  4.422633e-10\n",
       "Residual  26.0   134.0    5.153846        NaN           NaN"
      ]
     },
     "execution_count": 42,
     "metadata": {},
     "output_type": "execute_result"
    }
   ],
   "source": [
    "model2m = ols('产量 ~ 品种 + 施肥方式', data=example8_4).fit() # 拟合方差分析模型\n",
    "anova_lm(model2m, typ=1) # 执行方差分析"
   ]
  },
  {
   "cell_type": "code",
   "execution_count": 43,
   "metadata": {},
   "outputs": [
    {
     "data": {
      "text/html": [
       "<table class=\"simpletable\">\n",
       "<caption>OLS Regression Results</caption>\n",
       "<tr>\n",
       "  <th>Dep. Variable:</th>           <td>产量</td>        <th>  R-squared:         </th> <td>   0.886</td>\n",
       "</tr>\n",
       "<tr>\n",
       "  <th>Model:</th>                   <td>OLS</td>       <th>  Adj. R-squared:    </th> <td>   0.873</td>\n",
       "</tr>\n",
       "<tr>\n",
       "  <th>Method:</th>             <td>Least Squares</td>  <th>  F-statistic:       </th> <td>   67.26</td>\n",
       "</tr>\n",
       "<tr>\n",
       "  <th>Date:</th>             <td>Sun, 14 May 2023</td> <th>  Prob (F-statistic):</th> <td>2.21e-12</td>\n",
       "</tr>\n",
       "<tr>\n",
       "  <th>Time:</th>                 <td>20:05:35</td>     <th>  Log-Likelihood:    </th> <td> -65.018</td>\n",
       "</tr>\n",
       "<tr>\n",
       "  <th>No. Observations:</th>      <td>    30</td>      <th>  AIC:               </th> <td>   138.0</td>\n",
       "</tr>\n",
       "<tr>\n",
       "  <th>Df Residuals:</th>          <td>    26</td>      <th>  BIC:               </th> <td>   143.6</td>\n",
       "</tr>\n",
       "<tr>\n",
       "  <th>Df Model:</th>              <td>     3</td>      <th>                     </th>     <td> </td>   \n",
       "</tr>\n",
       "<tr>\n",
       "  <th>Covariance Type:</th>      <td>nonrobust</td>    <th>                     </th>     <td> </td>   \n",
       "</tr>\n",
       "</table>\n",
       "<table class=\"simpletable\">\n",
       "<tr>\n",
       "      <td></td>         <th>coef</th>     <th>std err</th>      <th>t</th>      <th>P>|t|</th>  <th>[0.025</th>    <th>0.975]</th>  \n",
       "</tr>\n",
       "<tr>\n",
       "  <th>Intercept</th> <td>   88.0000</td> <td>    0.829</td> <td>  106.157</td> <td> 0.000</td> <td>   86.296</td> <td>   89.704</td>\n",
       "</tr>\n",
       "<tr>\n",
       "  <th>品种[T.品种2]</th> <td>  -10.0000</td> <td>    1.015</td> <td>   -9.850</td> <td> 0.000</td> <td>  -12.087</td> <td>   -7.913</td>\n",
       "</tr>\n",
       "<tr>\n",
       "  <th>品种[T.品种3]</th> <td>   -2.0000</td> <td>    1.015</td> <td>   -1.970</td> <td> 0.060</td> <td>   -4.087</td> <td>    0.087</td>\n",
       "</tr>\n",
       "<tr>\n",
       "  <th>施肥方式[T.甲]</th> <td>   -8.0000</td> <td>    0.829</td> <td>   -9.651</td> <td> 0.000</td> <td>   -9.704</td> <td>   -6.296</td>\n",
       "</tr>\n",
       "</table>\n",
       "<table class=\"simpletable\">\n",
       "<tr>\n",
       "  <th>Omnibus:</th>       <td> 0.889</td> <th>  Durbin-Watson:     </th> <td>   2.269</td>\n",
       "</tr>\n",
       "<tr>\n",
       "  <th>Prob(Omnibus):</th> <td> 0.641</td> <th>  Jarque-Bera (JB):  </th> <td>   0.880</td>\n",
       "</tr>\n",
       "<tr>\n",
       "  <th>Skew:</th>          <td>-0.360</td> <th>  Prob(JB):          </th> <td>   0.644</td>\n",
       "</tr>\n",
       "<tr>\n",
       "  <th>Kurtosis:</th>      <td> 2.570</td> <th>  Cond. No.          </th> <td>    4.22</td>\n",
       "</tr>\n",
       "</table><br/><br/>Notes:<br/>[1] Standard Errors assume that the covariance matrix of the errors is correctly specified."
      ],
      "text/plain": [
       "<class 'statsmodels.iolib.summary.Summary'>\n",
       "\"\"\"\n",
       "                            OLS Regression Results                            \n",
       "==============================================================================\n",
       "Dep. Variable:                     产量   R-squared:                       0.886\n",
       "Model:                            OLS   Adj. R-squared:                  0.873\n",
       "Method:                 Least Squares   F-statistic:                     67.26\n",
       "Date:                Sun, 14 May 2023   Prob (F-statistic):           2.21e-12\n",
       "Time:                        20:05:35   Log-Likelihood:                -65.018\n",
       "No. Observations:                  30   AIC:                             138.0\n",
       "Df Residuals:                      26   BIC:                             143.6\n",
       "Df Model:                           3                                         \n",
       "Covariance Type:            nonrobust                                         \n",
       "==============================================================================\n",
       "                 coef    std err          t      P>|t|      [0.025      0.975]\n",
       "------------------------------------------------------------------------------\n",
       "Intercept     88.0000      0.829    106.157      0.000      86.296      89.704\n",
       "品种[T.品种2]    -10.0000      1.015     -9.850      0.000     -12.087      -7.913\n",
       "品种[T.品种3]     -2.0000      1.015     -1.970      0.060      -4.087       0.087\n",
       "施肥方式[T.甲]     -8.0000      0.829     -9.651      0.000      -9.704      -6.296\n",
       "==============================================================================\n",
       "Omnibus:                        0.889   Durbin-Watson:                   2.269\n",
       "Prob(Omnibus):                  0.641   Jarque-Bera (JB):                0.880\n",
       "Skew:                          -0.360   Prob(JB):                        0.644\n",
       "Kurtosis:                       2.570   Cond. No.                         4.22\n",
       "==============================================================================\n",
       "\n",
       "Notes:\n",
       "[1] Standard Errors assume that the covariance matrix of the errors is correctly specified.\n",
       "\"\"\""
      ]
     },
     "execution_count": 43,
     "metadata": {},
     "output_type": "execute_result"
    }
   ],
   "source": [
    "model2m.summary() # 显示方差分析结果"
   ]
  },
  {
   "attachments": {},
   "cell_type": "markdown",
   "metadata": {},
   "source": [
    "检验品种和施肥方式两个因子的P值均接近于0，表示两个因子对产量均有显著影响。"
   ]
  },
  {
   "cell_type": "code",
   "execution_count": 47,
   "metadata": {},
   "outputs": [
    {
     "data": {
      "text/html": [
       "<div>\n",
       "<style scoped>\n",
       "    .dataframe tbody tr th:only-of-type {\n",
       "        vertical-align: middle;\n",
       "    }\n",
       "\n",
       "    .dataframe tbody tr th {\n",
       "        vertical-align: top;\n",
       "    }\n",
       "\n",
       "    .dataframe thead th {\n",
       "        text-align: right;\n",
       "    }\n",
       "</style>\n",
       "<table border=\"1\" class=\"dataframe\">\n",
       "  <thead>\n",
       "    <tr style=\"text-align: right;\">\n",
       "      <th></th>\n",
       "      <th>df</th>\n",
       "      <th>sum_sq</th>\n",
       "      <th>mean_sq</th>\n",
       "      <th>F</th>\n",
       "      <th>PR(&gt;F)</th>\n",
       "      <th>eta_sq</th>\n",
       "      <th>eta_sq_part</th>\n",
       "    </tr>\n",
       "  </thead>\n",
       "  <tbody>\n",
       "    <tr>\n",
       "      <th>品种</th>\n",
       "      <td>2.0</td>\n",
       "      <td>560.0</td>\n",
       "      <td>280.000000</td>\n",
       "      <td>54.328358</td>\n",
       "      <td>5.184290e-10</td>\n",
       "      <td>0.477002</td>\n",
       "      <td>0.806916</td>\n",
       "    </tr>\n",
       "    <tr>\n",
       "      <th>施肥方式</th>\n",
       "      <td>1.0</td>\n",
       "      <td>480.0</td>\n",
       "      <td>480.000000</td>\n",
       "      <td>93.134328</td>\n",
       "      <td>4.422633e-10</td>\n",
       "      <td>0.408859</td>\n",
       "      <td>0.781759</td>\n",
       "    </tr>\n",
       "    <tr>\n",
       "      <th>Residual</th>\n",
       "      <td>26.0</td>\n",
       "      <td>134.0</td>\n",
       "      <td>5.153846</td>\n",
       "      <td>NaN</td>\n",
       "      <td>NaN</td>\n",
       "      <td>0.114140</td>\n",
       "      <td>NaN</td>\n",
       "    </tr>\n",
       "  </tbody>\n",
       "</table>\n",
       "</div>"
      ],
      "text/plain": [
       "            df  sum_sq     mean_sq          F        PR(>F)    eta_sq   \n",
       "品种         2.0   560.0  280.000000  54.328358  5.184290e-10  0.477002  \\\n",
       "施肥方式       1.0   480.0  480.000000  93.134328  4.422633e-10  0.408859   \n",
       "Residual  26.0   134.0    5.153846        NaN           NaN  0.114140   \n",
       "\n",
       "          eta_sq_part  \n",
       "品种           0.806916  \n",
       "施肥方式         0.781759  \n",
       "Residual          NaN  "
      ]
     },
     "execution_count": 47,
     "metadata": {},
     "output_type": "execute_result"
    }
   ],
   "source": [
    "# 计算主效应方差分析的效应量\n",
    "df_res = anova_lm(model2m, typ=1) # 执行方差分析\n",
    "df_res['eta_sq'] = df_res['sum_sq'] / df_res['sum_sq'].sum() # 计算主效应量\n",
    "df_res['eta_sq_part'] = df_res['sum_sq'] / (df_res['sum_sq'] + df_res.loc['Residual', 'sum_sq']) # 计算偏效应量\n",
    "df_res.loc['Residual', 'eta_sq_part'] = np.nan\n",
    "df_res"
   ]
  },
  {
   "attachments": {},
   "cell_type": "markdown",
   "metadata": {},
   "source": [
    "偏效应分析结果表明：\n",
    "- 在排除施肥方式的影响后，品种因子解释了产量误差的80.69%\n",
    "- 在排除品种的影响后，施肥方式因子解释了产量误差的78.18%\n",
    "\n",
    "主效应分析结果表明：\n",
    "- 品种因子单独解释了产量误差的47.70%\n",
    "- 施肥方式因子单独解释了产量误差的40.89%\n",
    "\n",
    "联合效应分析结果表明：\n",
    "- 将品种主效应量和施肥方式主效应量相加，得到的联合效应量为0.4770+0.4089=0.8859，表明品种和施肥方式两个因子联合起来总共解释产量误差的88.59%。"
   ]
  },
  {
   "attachments": {},
   "cell_type": "markdown",
   "metadata": {},
   "source": [
    "### 8.3.3 交互效应分析"
   ]
  },
  {
   "attachments": {},
   "cell_type": "markdown",
   "metadata": {},
   "source": [
    "检验交互效应的假设：\n",
    "- $H_0: \\gamma_{ij} = 0, (i=1,2,\\cdots,I; j=1,2,\\cdots,J)$ (交互效应不显著)\n",
    "- $H_1: \\gamma_{ij}$ 至少有一个不等于0 (交互效应显著)"
   ]
  },
  {
   "cell_type": "code",
   "execution_count": 48,
   "metadata": {},
   "outputs": [
    {
     "data": {
      "text/html": [
       "<div>\n",
       "<style scoped>\n",
       "    .dataframe tbody tr th:only-of-type {\n",
       "        vertical-align: middle;\n",
       "    }\n",
       "\n",
       "    .dataframe tbody tr th {\n",
       "        vertical-align: top;\n",
       "    }\n",
       "\n",
       "    .dataframe thead th {\n",
       "        text-align: right;\n",
       "    }\n",
       "</style>\n",
       "<table border=\"1\" class=\"dataframe\">\n",
       "  <thead>\n",
       "    <tr style=\"text-align: right;\">\n",
       "      <th></th>\n",
       "      <th>df</th>\n",
       "      <th>sum_sq</th>\n",
       "      <th>mean_sq</th>\n",
       "      <th>F</th>\n",
       "      <th>PR(&gt;F)</th>\n",
       "    </tr>\n",
       "  </thead>\n",
       "  <tbody>\n",
       "    <tr>\n",
       "      <th>品种</th>\n",
       "      <td>2.0</td>\n",
       "      <td>560.0</td>\n",
       "      <td>280.00</td>\n",
       "      <td>54.368932</td>\n",
       "      <td>1.220666e-09</td>\n",
       "    </tr>\n",
       "    <tr>\n",
       "      <th>施肥方式</th>\n",
       "      <td>1.0</td>\n",
       "      <td>480.0</td>\n",
       "      <td>480.00</td>\n",
       "      <td>93.203883</td>\n",
       "      <td>9.729467e-10</td>\n",
       "    </tr>\n",
       "    <tr>\n",
       "      <th>品种:施肥方式</th>\n",
       "      <td>2.0</td>\n",
       "      <td>10.4</td>\n",
       "      <td>5.20</td>\n",
       "      <td>1.009709</td>\n",
       "      <td>3.792836e-01</td>\n",
       "    </tr>\n",
       "    <tr>\n",
       "      <th>Residual</th>\n",
       "      <td>24.0</td>\n",
       "      <td>123.6</td>\n",
       "      <td>5.15</td>\n",
       "      <td>NaN</td>\n",
       "      <td>NaN</td>\n",
       "    </tr>\n",
       "  </tbody>\n",
       "</table>\n",
       "</div>"
      ],
      "text/plain": [
       "            df  sum_sq  mean_sq          F        PR(>F)\n",
       "品种         2.0   560.0   280.00  54.368932  1.220666e-09\n",
       "施肥方式       1.0   480.0   480.00  93.203883  9.729467e-10\n",
       "品种:施肥方式    2.0    10.4     5.20   1.009709  3.792836e-01\n",
       "Residual  24.0   123.6     5.15        NaN           NaN"
      ]
     },
     "execution_count": 48,
     "metadata": {},
     "output_type": "execute_result"
    }
   ],
   "source": [
    "model2i = ols('产量 ~ 品种 + 施肥方式 + 品种:施肥方式', data=example8_4).fit() # 拟合方差分析模型\n",
    "anova_lm(model2i, typ=1) # 执行方差分析"
   ]
  },
  {
   "cell_type": "code",
   "execution_count": 49,
   "metadata": {},
   "outputs": [
    {
     "data": {
      "text/html": [
       "<table class=\"simpletable\">\n",
       "<caption>OLS Regression Results</caption>\n",
       "<tr>\n",
       "  <th>Dep. Variable:</th>           <td>产量</td>        <th>  R-squared:         </th> <td>   0.895</td>\n",
       "</tr>\n",
       "<tr>\n",
       "  <th>Model:</th>                   <td>OLS</td>       <th>  Adj. R-squared:    </th> <td>   0.873</td>\n",
       "</tr>\n",
       "<tr>\n",
       "  <th>Method:</th>             <td>Least Squares</td>  <th>  F-statistic:       </th> <td>   40.79</td>\n",
       "</tr>\n",
       "<tr>\n",
       "  <th>Date:</th>             <td>Sun, 14 May 2023</td> <th>  Prob (F-statistic):</th> <td>5.77e-11</td>\n",
       "</tr>\n",
       "<tr>\n",
       "  <th>Time:</th>                 <td>20:19:59</td>     <th>  Log-Likelihood:    </th> <td> -63.806</td>\n",
       "</tr>\n",
       "<tr>\n",
       "  <th>No. Observations:</th>      <td>    30</td>      <th>  AIC:               </th> <td>   139.6</td>\n",
       "</tr>\n",
       "<tr>\n",
       "  <th>Df Residuals:</th>          <td>    24</td>      <th>  BIC:               </th> <td>   148.0</td>\n",
       "</tr>\n",
       "<tr>\n",
       "  <th>Df Model:</th>              <td>     5</td>      <th>                     </th>     <td> </td>   \n",
       "</tr>\n",
       "<tr>\n",
       "  <th>Covariance Type:</th>      <td>nonrobust</td>    <th>                     </th>     <td> </td>   \n",
       "</tr>\n",
       "</table>\n",
       "<table class=\"simpletable\">\n",
       "<tr>\n",
       "           <td></td>              <th>coef</th>     <th>std err</th>      <th>t</th>      <th>P>|t|</th>  <th>[0.025</th>    <th>0.975]</th>  \n",
       "</tr>\n",
       "<tr>\n",
       "  <th>Intercept</th>           <td>   87.8000</td> <td>    1.015</td> <td>   86.512</td> <td> 0.000</td> <td>   85.705</td> <td>   89.895</td>\n",
       "</tr>\n",
       "<tr>\n",
       "  <th>品种[T.品种2]</th>           <td>  -10.4000</td> <td>    1.435</td> <td>   -7.246</td> <td> 0.000</td> <td>  -13.362</td> <td>   -7.438</td>\n",
       "</tr>\n",
       "<tr>\n",
       "  <th>品种[T.品种3]</th>           <td>   -1.0000</td> <td>    1.435</td> <td>   -0.697</td> <td> 0.493</td> <td>   -3.962</td> <td>    1.962</td>\n",
       "</tr>\n",
       "<tr>\n",
       "  <th>施肥方式[T.甲]</th>           <td>   -7.6000</td> <td>    1.435</td> <td>   -5.295</td> <td> 0.000</td> <td>  -10.562</td> <td>   -4.638</td>\n",
       "</tr>\n",
       "<tr>\n",
       "  <th>品种[T.品种2]:施肥方式[T.甲]</th> <td>    0.8000</td> <td>    2.030</td> <td>    0.394</td> <td> 0.697</td> <td>   -3.389</td> <td>    4.989</td>\n",
       "</tr>\n",
       "<tr>\n",
       "  <th>品种[T.品种3]:施肥方式[T.甲]</th> <td>   -2.0000</td> <td>    2.030</td> <td>   -0.985</td> <td> 0.334</td> <td>   -6.189</td> <td>    2.189</td>\n",
       "</tr>\n",
       "</table>\n",
       "<table class=\"simpletable\">\n",
       "<tr>\n",
       "  <th>Omnibus:</th>       <td> 1.127</td> <th>  Durbin-Watson:     </th> <td>   2.334</td>\n",
       "</tr>\n",
       "<tr>\n",
       "  <th>Prob(Omnibus):</th> <td> 0.569</td> <th>  Jarque-Bera (JB):  </th> <td>   0.644</td>\n",
       "</tr>\n",
       "<tr>\n",
       "  <th>Skew:</th>          <td>-0.359</td> <th>  Prob(JB):          </th> <td>   0.725</td>\n",
       "</tr>\n",
       "<tr>\n",
       "  <th>Kurtosis:</th>      <td> 3.007</td> <th>  Cond. No.          </th> <td>    9.77</td>\n",
       "</tr>\n",
       "</table><br/><br/>Notes:<br/>[1] Standard Errors assume that the covariance matrix of the errors is correctly specified."
      ],
      "text/plain": [
       "<class 'statsmodels.iolib.summary.Summary'>\n",
       "\"\"\"\n",
       "                            OLS Regression Results                            \n",
       "==============================================================================\n",
       "Dep. Variable:                     产量   R-squared:                       0.895\n",
       "Model:                            OLS   Adj. R-squared:                  0.873\n",
       "Method:                 Least Squares   F-statistic:                     40.79\n",
       "Date:                Sun, 14 May 2023   Prob (F-statistic):           5.77e-11\n",
       "Time:                        20:19:59   Log-Likelihood:                -63.806\n",
       "No. Observations:                  30   AIC:                             139.6\n",
       "Df Residuals:                      24   BIC:                             148.0\n",
       "Df Model:                           5                                         \n",
       "Covariance Type:            nonrobust                                         \n",
       "=======================================================================================\n",
       "                          coef    std err          t      P>|t|      [0.025      0.975]\n",
       "---------------------------------------------------------------------------------------\n",
       "Intercept              87.8000      1.015     86.512      0.000      85.705      89.895\n",
       "品种[T.品种2]             -10.4000      1.435     -7.246      0.000     -13.362      -7.438\n",
       "品种[T.品种3]              -1.0000      1.435     -0.697      0.493      -3.962       1.962\n",
       "施肥方式[T.甲]              -7.6000      1.435     -5.295      0.000     -10.562      -4.638\n",
       "品种[T.品种2]:施肥方式[T.甲]     0.8000      2.030      0.394      0.697      -3.389       4.989\n",
       "品种[T.品种3]:施肥方式[T.甲]    -2.0000      2.030     -0.985      0.334      -6.189       2.189\n",
       "==============================================================================\n",
       "Omnibus:                        1.127   Durbin-Watson:                   2.334\n",
       "Prob(Omnibus):                  0.569   Jarque-Bera (JB):                0.644\n",
       "Skew:                          -0.359   Prob(JB):                        0.725\n",
       "Kurtosis:                       3.007   Cond. No.                         9.77\n",
       "==============================================================================\n",
       "\n",
       "Notes:\n",
       "[1] Standard Errors assume that the covariance matrix of the errors is correctly specified.\n",
       "\"\"\""
      ]
     },
     "execution_count": 49,
     "metadata": {},
     "output_type": "execute_result"
    }
   ],
   "source": [
    "model2i.summary() # 显示方差分析结果"
   ]
  },
  {
   "attachments": {},
   "cell_type": "markdown",
   "metadata": {},
   "source": [
    "检验交互效应的P=0.379，大于0.05，表示交互效应对产量的影响不显著。"
   ]
  },
  {
   "cell_type": "code",
   "execution_count": 55,
   "metadata": {},
   "outputs": [
    {
     "data": {
      "image/png": "[encoded data removed]",
      "text/plain": [
       "<Figure size 1200x1000 with 4 Axes>"
      ]
     },
     "metadata": {},
     "output_type": "display_data"
    }
   ],
   "source": [
    "y_col = '产量' # 因变量列名\n",
    "x1_col = '品种' # 自变量列名\n",
    "x2_col = '施肥方式' # 自变量列名\n",
    "\n",
    "plt.subplots(2, 2, figsize=(12, 10)) # 设置图形大小\n",
    "\n",
    "ax1 = plt.subplot(221) # 创建子图1\n",
    "interaction_plot(\n",
    "    x=example8_4[x2_col], trace=example8_4[x1_col], response=example8_4[y_col],\n",
    "    xlabel=x2_col, ylabel=y_col, ax=ax1\n",
    ") # 绘制交互作用图\n",
    "ax1.set_title(f'{y_col}~{x2_col}|{x1_col}') # 添加子图标题\n",
    "\n",
    "ax2 = plt.subplot(222) # 创建子图2\n",
    "example8_4.boxplot(column=y_col, by=x1_col, grid=False, ax=ax2) # 绘制箱线图\n",
    "ax2.set_title(f'{y_col}~{x1_col}|{x1_col}') # 添加子图标题\n",
    "\n",
    "ax3 = plt.subplot(223) # 创建子图3\n",
    "example8_4.boxplot(column=y_col, by=x2_col, grid=False, ax=ax3) # 绘制箱线图\n",
    "ax3.set_title(f'{y_col}~{x2_col}|{x2_col}') # 添加子图标题\n",
    "\n",
    "ax4 = plt.subplot(224) # 创建子图4\n",
    "interaction_plot(\n",
    "    x=example8_4[x1_col], trace=example8_4[x2_col], response=example8_4[y_col],\n",
    "    xlabel=x1_col, ylabel=y_col, ax=ax4\n",
    ") # 绘制交互作用图\n",
    "ax4.set_title(f'{y_col}~{x1_col}|{x2_col}') # 添加子图标题\n",
    "\n",
    "plt.show() # 显示图形"
   ]
  },
  {
   "cell_type": "code",
   "execution_count": 56,
   "metadata": {},
   "outputs": [
    {
     "data": {
      "text/html": [
       "<div>\n",
       "<style scoped>\n",
       "    .dataframe tbody tr th:only-of-type {\n",
       "        vertical-align: middle;\n",
       "    }\n",
       "\n",
       "    .dataframe tbody tr th {\n",
       "        vertical-align: top;\n",
       "    }\n",
       "\n",
       "    .dataframe thead th {\n",
       "        text-align: right;\n",
       "    }\n",
       "</style>\n",
       "<table border=\"1\" class=\"dataframe\">\n",
       "  <thead>\n",
       "    <tr style=\"text-align: right;\">\n",
       "      <th></th>\n",
       "      <th>df</th>\n",
       "      <th>sum_sq</th>\n",
       "      <th>mean_sq</th>\n",
       "      <th>F</th>\n",
       "      <th>PR(&gt;F)</th>\n",
       "      <th>eta_sq</th>\n",
       "      <th>eta_sq_part</th>\n",
       "    </tr>\n",
       "  </thead>\n",
       "  <tbody>\n",
       "    <tr>\n",
       "      <th>品种</th>\n",
       "      <td>2.0</td>\n",
       "      <td>560.0</td>\n",
       "      <td>280.00</td>\n",
       "      <td>54.368932</td>\n",
       "      <td>1.220666e-09</td>\n",
       "      <td>0.477002</td>\n",
       "      <td>0.819193</td>\n",
       "    </tr>\n",
       "    <tr>\n",
       "      <th>施肥方式</th>\n",
       "      <td>1.0</td>\n",
       "      <td>480.0</td>\n",
       "      <td>480.00</td>\n",
       "      <td>93.203883</td>\n",
       "      <td>9.729467e-10</td>\n",
       "      <td>0.408859</td>\n",
       "      <td>0.795229</td>\n",
       "    </tr>\n",
       "    <tr>\n",
       "      <th>品种:施肥方式</th>\n",
       "      <td>2.0</td>\n",
       "      <td>10.4</td>\n",
       "      <td>5.20</td>\n",
       "      <td>1.009709</td>\n",
       "      <td>3.792836e-01</td>\n",
       "      <td>0.008859</td>\n",
       "      <td>0.077612</td>\n",
       "    </tr>\n",
       "    <tr>\n",
       "      <th>Residual</th>\n",
       "      <td>24.0</td>\n",
       "      <td>123.6</td>\n",
       "      <td>5.15</td>\n",
       "      <td>NaN</td>\n",
       "      <td>NaN</td>\n",
       "      <td>0.105281</td>\n",
       "      <td>NaN</td>\n",
       "    </tr>\n",
       "  </tbody>\n",
       "</table>\n",
       "</div>"
      ],
      "text/plain": [
       "            df  sum_sq  mean_sq          F        PR(>F)    eta_sq   \n",
       "品种         2.0   560.0   280.00  54.368932  1.220666e-09  0.477002  \\\n",
       "施肥方式       1.0   480.0   480.00  93.203883  9.729467e-10  0.408859   \n",
       "品种:施肥方式    2.0    10.4     5.20   1.009709  3.792836e-01  0.008859   \n",
       "Residual  24.0   123.6     5.15        NaN           NaN  0.105281   \n",
       "\n",
       "          eta_sq_part  \n",
       "品种           0.819193  \n",
       "施肥方式         0.795229  \n",
       "品种:施肥方式      0.077612  \n",
       "Residual          NaN  "
      ]
     },
     "execution_count": 56,
     "metadata": {},
     "output_type": "execute_result"
    }
   ],
   "source": [
    "# 交互效应方差分析的效应量\n",
    "df_res = anova_lm(model2i, typ=1) # 执行方差分析\n",
    "df_res['eta_sq'] = df_res['sum_sq'] / df_res['sum_sq'].sum() # 计算主效应量\n",
    "df_res['eta_sq_part'] = df_res['sum_sq'] / (df_res['sum_sq'] + df_res.loc['Residual', 'sum_sq']) # 计算偏效应量\n",
    "df_res.loc['Residual', 'eta_sq_part'] = np.nan\n",
    "df_res"
   ]
  },
  {
   "attachments": {},
   "cell_type": "markdown",
   "metadata": {},
   "source": [
    "偏效应分析结果表明：\n",
    "- 在排除施肥方式和交互效应的影响后，品种因子解释了产量误差的81.92%\n",
    "- 在排除品种和交互效应的影响后，施肥方式因子解释了产量误差的79.52%\n",
    "- 在排除品种和施肥方式的影响后，交互效应解释了产量误差的7.76%"
   ]
  },
  {
   "attachments": {},
   "cell_type": "markdown",
   "metadata": {},
   "source": [
    "## 8.4 方差分析的假定及其检验"
   ]
  },
  {
   "attachments": {},
   "cell_type": "markdown",
   "metadata": {},
   "source": [
    "### 8.4.1 正态性检验"
   ]
  },
  {
   "cell_type": "code",
   "execution_count": 58,
   "metadata": {},
   "outputs": [
    {
     "data": {
      "text/html": [
       "<div>\n",
       "<style scoped>\n",
       "    .dataframe tbody tr th:only-of-type {\n",
       "        vertical-align: middle;\n",
       "    }\n",
       "\n",
       "    .dataframe tbody tr th {\n",
       "        vertical-align: top;\n",
       "    }\n",
       "\n",
       "    .dataframe thead th {\n",
       "        text-align: right;\n",
       "    }\n",
       "</style>\n",
       "<table border=\"1\" class=\"dataframe\">\n",
       "  <thead>\n",
       "    <tr style=\"text-align: right;\">\n",
       "      <th></th>\n",
       "      <th>品种1</th>\n",
       "      <th>品种2</th>\n",
       "      <th>品种3</th>\n",
       "    </tr>\n",
       "  </thead>\n",
       "  <tbody>\n",
       "    <tr>\n",
       "      <th>0</th>\n",
       "      <td>81</td>\n",
       "      <td>71</td>\n",
       "      <td>76</td>\n",
       "    </tr>\n",
       "    <tr>\n",
       "      <th>1</th>\n",
       "      <td>82</td>\n",
       "      <td>72</td>\n",
       "      <td>79</td>\n",
       "    </tr>\n",
       "    <tr>\n",
       "      <th>2</th>\n",
       "      <td>79</td>\n",
       "      <td>72</td>\n",
       "      <td>77</td>\n",
       "    </tr>\n",
       "    <tr>\n",
       "      <th>3</th>\n",
       "      <td>81</td>\n",
       "      <td>66</td>\n",
       "      <td>76</td>\n",
       "    </tr>\n",
       "    <tr>\n",
       "      <th>4</th>\n",
       "      <td>78</td>\n",
       "      <td>72</td>\n",
       "      <td>78</td>\n",
       "    </tr>\n",
       "    <tr>\n",
       "      <th>5</th>\n",
       "      <td>89</td>\n",
       "      <td>77</td>\n",
       "      <td>89</td>\n",
       "    </tr>\n",
       "    <tr>\n",
       "      <th>6</th>\n",
       "      <td>92</td>\n",
       "      <td>81</td>\n",
       "      <td>87</td>\n",
       "    </tr>\n",
       "    <tr>\n",
       "      <th>7</th>\n",
       "      <td>87</td>\n",
       "      <td>77</td>\n",
       "      <td>84</td>\n",
       "    </tr>\n",
       "    <tr>\n",
       "      <th>8</th>\n",
       "      <td>85</td>\n",
       "      <td>73</td>\n",
       "      <td>87</td>\n",
       "    </tr>\n",
       "    <tr>\n",
       "      <th>9</th>\n",
       "      <td>86</td>\n",
       "      <td>79</td>\n",
       "      <td>87</td>\n",
       "    </tr>\n",
       "  </tbody>\n",
       "</table>\n",
       "</div>"
      ],
      "text/plain": [
       "   品种1  品种2  品种3\n",
       "0   81   71   76\n",
       "1   82   72   79\n",
       "2   79   72   77\n",
       "3   81   66   76\n",
       "4   78   72   78\n",
       "5   89   77   89\n",
       "6   92   81   87\n",
       "7   87   77   84\n",
       "8   85   73   87\n",
       "9   86   79   87"
      ]
     },
     "execution_count": 58,
     "metadata": {},
     "output_type": "execute_result"
    }
   ],
   "source": [
    "example8_1 = pd.read_csv('./pydata/chap08/example8_1.csv', encoding='gbk') # 读取数据\n",
    "example8_1"
   ]
  },
  {
   "cell_type": "code",
   "execution_count": 59,
   "metadata": {},
   "outputs": [
    {
     "data": {
      "image/png": "[encoded data removed]",
      "text/plain": [
       "<Figure size 1600x500 with 3 Axes>"
      ]
     },
     "metadata": {},
     "output_type": "display_data"
    }
   ],
   "source": [
    "# 每个品种产量的正态Q-Q图\n",
    "plt.subplots(1, 3, figsize=(16, 5)) # 设置图形大小\n",
    "\n",
    "ax1 = plt.subplot(131) # 创建子图1\n",
    "pplot_1 = sm.ProbPlot(example8_1['品种1'], fit=True) # 创建概率图对象\n",
    "pplot_1.qqplot(line='r', ax=ax1, xlabel='期望正态值', ylabel='标准化的观测值') # 绘制概率图\n",
    "ax1.set_title('品种1的Q-Q图', fontsize=15) # 添加子图标题\n",
    "\n",
    "ax2 = plt.subplot(132) # 创建子图2\n",
    "ppplot_2 = sm.ProbPlot(example8_1['品种2'], fit=True) # 创建概率图对象\n",
    "ppplot_2.qqplot(line='r', ax=ax2, xlabel='期望正态值', ylabel='标准化的观测值') # 绘制概率图\n",
    "ax2.set_title('品种2的Q-Q图', fontsize=15) # 添加子图标题\n",
    "\n",
    "ax3 = plt.subplot(133) # 创建子图3\n",
    "ppplot_3 = sm.ProbPlot(example8_1['品种3'], fit=True) # 创建概率图对象\n",
    "ppplot_3.qqplot(line='r', ax=ax3, xlabel='期望正态值', ylabel='标准化的观测值') # 绘制概率图\n",
    "ax3.set_title('品种3的Q-Q图', fontsize=15) # 添加子图标题\n",
    "\n",
    "plt.show() # 显示图形"
   ]
  },
  {
   "cell_type": "code",
   "execution_count": 61,
   "metadata": {},
   "outputs": [
    {
     "data": {
      "text/html": [
       "<div>\n",
       "<style scoped>\n",
       "    .dataframe tbody tr th:only-of-type {\n",
       "        vertical-align: middle;\n",
       "    }\n",
       "\n",
       "    .dataframe tbody tr th {\n",
       "        vertical-align: top;\n",
       "    }\n",
       "\n",
       "    .dataframe thead th {\n",
       "        text-align: right;\n",
       "    }\n",
       "</style>\n",
       "<table border=\"1\" class=\"dataframe\">\n",
       "  <thead>\n",
       "    <tr style=\"text-align: right;\">\n",
       "      <th></th>\n",
       "      <th>品种</th>\n",
       "      <th>产量</th>\n",
       "    </tr>\n",
       "  </thead>\n",
       "  <tbody>\n",
       "    <tr>\n",
       "      <th>0</th>\n",
       "      <td>品种1</td>\n",
       "      <td>81</td>\n",
       "    </tr>\n",
       "    <tr>\n",
       "      <th>1</th>\n",
       "      <td>品种1</td>\n",
       "      <td>82</td>\n",
       "    </tr>\n",
       "    <tr>\n",
       "      <th>2</th>\n",
       "      <td>品种1</td>\n",
       "      <td>79</td>\n",
       "    </tr>\n",
       "    <tr>\n",
       "      <th>3</th>\n",
       "      <td>品种1</td>\n",
       "      <td>81</td>\n",
       "    </tr>\n",
       "    <tr>\n",
       "      <th>4</th>\n",
       "      <td>品种1</td>\n",
       "      <td>78</td>\n",
       "    </tr>\n",
       "  </tbody>\n",
       "</table>\n",
       "</div>"
      ],
      "text/plain": [
       "    品种  产量\n",
       "0  品种1  81\n",
       "1  品种1  82\n",
       "2  品种1  79\n",
       "3  品种1  81\n",
       "4  品种1  78"
      ]
     },
     "execution_count": 61,
     "metadata": {},
     "output_type": "execute_result"
    }
   ],
   "source": [
    "example8_2 = pd.read_csv('./pydata/chap08/example8_2.csv', encoding='gbk') # 读取数据\n",
    "example8_2.head() # 显示前5行数据"
   ]
  },
  {
   "cell_type": "code",
   "execution_count": 62,
   "metadata": {},
   "outputs": [
    {
     "data": {
      "image/png": "[encoded data removed]",
      "text/plain": [
       "<Figure size 1200x500 with 2 Axes>"
      ]
     },
     "metadata": {},
     "output_type": "display_data"
    }
   ],
   "source": [
    "# 3个品种产量数据合并后的正态Q-Q图、直方图及核密度曲线\n",
    "plt.subplots(1, 2, figsize=(12, 5)) # 设置图形大小\n",
    "\n",
    "ax1 = plt.subplot(121) # 创建子图1\n",
    "pplot = sm.ProbPlot(example8_2['产量'], fit=True) # 创建概率图对象\n",
    "pplot.qqplot(line='r', ax=ax1, xlabel='期望正态值', ylabel='标准化的观测值') # 绘制概率图\n",
    "\n",
    "ax2 = plt.subplot(122) # 创建子图2\n",
    "example8_2['产量'].plot(kind='hist', bins=5, ax=ax2, density=True, legend=False) # 绘制直方图\n",
    "example8_2['产量'].plot(kind='density', ax=ax2, linewidth=3) # 绘制核密度曲线\n",
    "ax2.set_xlim(65, 93)\n",
    "\n",
    "plt.show() # 显示图形"
   ]
  },
  {
   "attachments": {},
   "cell_type": "markdown",
   "metadata": {},
   "source": [
    "提出假设：\n",
    "- $H_0:$ 产量服从正态分布\n",
    "- $H_1:$ 产量不服从正态分布"
   ]
  },
  {
   "cell_type": "code",
   "execution_count": 64,
   "metadata": {},
   "outputs": [
    {
     "name": "stdout",
     "output_type": "stream",
     "text": [
      "统计量W=0.97299, p值=0.6237\n"
     ]
    }
   ],
   "source": [
    "W, p_value = shapiro(example8_2['产量']) # 执行S-W检验\n",
    "print(f'统计量W={W:.5f}, p值={p_value:.4g}') # 显示检验结果"
   ]
  },
  {
   "cell_type": "code",
   "execution_count": 65,
   "metadata": {},
   "outputs": [
    {
     "name": "stdout",
     "output_type": "stream",
     "text": [
      "统计量D=0.09771, p值=0.9369\n"
     ]
    }
   ],
   "source": [
    "D, p_value = kstest(\n",
    "    example8_2['产量'], 'norm', alternative='two-sided', mode='asymp',\n",
    "    args=(example8_2['产量'].mean(), example8_2['产量'].std())\n",
    ") # 执行K-S检验\n",
    "print(f'统计量D={D:.5f}, p值={p_value:.4g}') # 显示检验结果"
   ]
  },
  {
   "attachments": {},
   "cell_type": "markdown",
   "metadata": {},
   "source": [
    "由于P>0.05，所以不能拒绝原假设。"
   ]
  },
  {
   "attachments": {},
   "cell_type": "markdown",
   "metadata": {},
   "source": [
    "### 8.4.2 方差齐性检验"
   ]
  },
  {
   "cell_type": "code",
   "execution_count": 66,
   "metadata": {},
   "outputs": [
    {
     "data": {
      "image/png": "[encoded data removed]",
      "text/plain": [
       "<Figure size 1200x500 with 2 Axes>"
      ]
     },
     "metadata": {},
     "output_type": "display_data"
    }
   ],
   "source": [
    "model = ols('产量 ~ 品种', data=example8_2).fit() # 拟合方差分析模型\n",
    "plt.subplots(1, 2, figsize=(12, 5)) # 设置图形大小\n",
    "\n",
    "plt.subplot(121) # 创建子图1\n",
    "plt.scatter(model.fittedvalues, model.resid) # 绘制残差图\n",
    "plt.xlabel('拟合值') # 添加横轴标签\n",
    "plt.ylabel('残差') # 添加纵轴标签\n",
    "plt.title('残差值与拟合值图', fontsize=15) # 添加子图标题\n",
    "plt.axhline(0, ls='--') # 添加水平参考线\n",
    "\n",
    "ax2 = plt.subplot(122) # 创建子图2\n",
    "pplot = sm.ProbPlot(model.resid, fit=True) # 创建概率图对象\n",
    "pplot.qqplot(line='r', ax=ax2, xlabel='期望正态值', ylabel='标准化的残差') # 绘制概率图\n",
    "ax2.set_title('残差的Q-Q图', fontsize=15) # 添加子图标题\n",
    "\n",
    "plt.show() # 显示图形"
   ]
  },
  {
   "attachments": {},
   "cell_type": "markdown",
   "metadata": {},
   "source": [
    "提出假设：\n",
    "- $H_0: \\sigma^2_1 = \\sigma^2_2 = \\cdots = \\sigma^2_I$ (产量的方差齐性成立)\n",
    "- $H_1: \\sigma^2_1, \\sigma^2_2, \\cdots, \\sigma^2_I$ 不全相等 (产量的方差齐性不成立)"
   ]
  },
  {
   "cell_type": "code",
   "execution_count": 15,
   "metadata": {},
   "outputs": [
    {
     "data": {
      "text/html": [
       "<div>\n",
       "<style scoped>\n",
       "    .dataframe tbody tr th:only-of-type {\n",
       "        vertical-align: middle;\n",
       "    }\n",
       "\n",
       "    .dataframe tbody tr th {\n",
       "        vertical-align: top;\n",
       "    }\n",
       "\n",
       "    .dataframe thead th {\n",
       "        text-align: right;\n",
       "    }\n",
       "</style>\n",
       "<table border=\"1\" class=\"dataframe\">\n",
       "  <thead>\n",
       "    <tr style=\"text-align: right;\">\n",
       "      <th></th>\n",
       "      <th>施肥方式</th>\n",
       "      <th>品种</th>\n",
       "      <th>产量</th>\n",
       "    </tr>\n",
       "  </thead>\n",
       "  <tbody>\n",
       "    <tr>\n",
       "      <th>0</th>\n",
       "      <td>甲</td>\n",
       "      <td>品种1</td>\n",
       "      <td>81</td>\n",
       "    </tr>\n",
       "    <tr>\n",
       "      <th>1</th>\n",
       "      <td>甲</td>\n",
       "      <td>品种1</td>\n",
       "      <td>82</td>\n",
       "    </tr>\n",
       "    <tr>\n",
       "      <th>2</th>\n",
       "      <td>甲</td>\n",
       "      <td>品种1</td>\n",
       "      <td>79</td>\n",
       "    </tr>\n",
       "    <tr>\n",
       "      <th>3</th>\n",
       "      <td>甲</td>\n",
       "      <td>品种1</td>\n",
       "      <td>81</td>\n",
       "    </tr>\n",
       "    <tr>\n",
       "      <th>4</th>\n",
       "      <td>甲</td>\n",
       "      <td>品种1</td>\n",
       "      <td>78</td>\n",
       "    </tr>\n",
       "  </tbody>\n",
       "</table>\n",
       "</div>"
      ],
      "text/plain": [
       "  施肥方式   品种  产量\n",
       "0    甲  品种1  81\n",
       "1    甲  品种1  82\n",
       "2    甲  品种1  79\n",
       "3    甲  品种1  81\n",
       "4    甲  品种1  78"
      ]
     },
     "execution_count": 15,
     "metadata": {},
     "output_type": "execute_result"
    }
   ],
   "source": [
    "example8_4 = pd.read_csv('./pydata/chap08/example8_4.csv', encoding='gbk') # 读取数据\n",
    "example8_4.head() # 显示前5行数据"
   ]
  },
  {
   "cell_type": "code",
   "execution_count": 16,
   "metadata": {},
   "outputs": [
    {
     "name": "stdout",
     "output_type": "stream",
     "text": [
      "统计量B=0.30152, p值=0.8601\n"
     ]
    }
   ],
   "source": [
    "sample1 = example8_4.loc[example8_4['品种']=='品种1', '产量'].values # 品种1的产量数据\n",
    "sample2 = example8_4.loc[example8_4['品种']=='品种2', '产量'].values # 品种2的产量数据\n",
    "sample3 = example8_4.loc[example8_4['品种']=='品种3', '产量'].values # 品种3的产量数据\n",
    "\n",
    "B, p_value = bartlett(sample1, sample2, sample3) # 执行Bartlett检验\n",
    "print(f'统计量B={B:.5f}, p值={p_value:.4g}') # 显示检验结果"
   ]
  },
  {
   "cell_type": "code",
   "execution_count": 17,
   "metadata": {},
   "outputs": [
    {
     "name": "stdout",
     "output_type": "stream",
     "text": [
      "统计量B=0.42431, p值=0.5148\n"
     ]
    }
   ],
   "source": [
    "sample1 = example8_4.loc[example8_4['施肥方式']=='甲', '产量'].values # 施肥方式甲的产量数据\n",
    "sample2 = example8_4.loc[example8_4['施肥方式']=='乙', '产量'].values # 施肥方式乙的产量数据\n",
    "\n",
    "B, p_value = bartlett(sample1, sample2) # 执行Bartlett检验\n",
    "print(f'统计量B={B:.5f}, p值={p_value:.4g}') # 显示检验结果"
   ]
  },
  {
   "attachments": {},
   "cell_type": "markdown",
   "metadata": {},
   "source": [
    "由于P>0.05，所以不能拒绝原假设。"
   ]
  },
  {
   "cell_type": "code",
   "execution_count": 18,
   "metadata": {},
   "outputs": [
    {
     "name": "stdout",
     "output_type": "stream",
     "text": [
      "统计量F=0.92919, p值=0.4071\n"
     ]
    }
   ],
   "source": [
    "sample1 = example8_4.loc[example8_4['品种']=='品种1', '产量'].values # 品种1的产量数据\n",
    "sample2 = example8_4.loc[example8_4['品种']=='品种2', '产量'].values # 品种2的产量数据\n",
    "sample3 = example8_4.loc[example8_4['品种']=='品种3', '产量'].values # 品种3的产量数据\n",
    "\n",
    "F, p_value = levene(sample1, sample2, sample3) # 执行Levene检验\n",
    "print(f'统计量F={F:.5f}, p值={p_value:.4g}') # 显示检验结果"
   ]
  },
  {
   "cell_type": "code",
   "execution_count": 20,
   "metadata": {},
   "outputs": [
    {
     "name": "stdout",
     "output_type": "stream",
     "text": [
      "统计量F=0.23228, p值=0.6336\n"
     ]
    }
   ],
   "source": [
    "sample1 = example8_4.loc[example8_4['施肥方式']=='甲', '产量'].values # 施肥方式甲的产量数据\n",
    "sample2 = example8_4.loc[example8_4['施肥方式']=='乙', '产量'].values # 施肥方式乙的产量数据\n",
    "\n",
    "F, p_value = levene(sample1, sample2) # 执行Levene检验\n",
    "print(f'统计量F={F:.5f}, p值={p_value:.4g}') # 显示检验结果"
   ]
  },
  {
   "attachments": {},
   "cell_type": "markdown",
   "metadata": {},
   "source": [
    "由于P>0.05，所以不能拒绝原假设。"
   ]
  },
  {
   "attachments": {},
   "cell_type": "markdown",
   "metadata": {},
   "source": [
    "## 习题"
   ]
  },
  {
   "attachments": {},
   "cell_type": "markdown",
   "metadata": {},
   "source": [
    "### 8.1"
   ]
  },
  {
   "cell_type": "code",
   "execution_count": 2,
   "metadata": {},
   "outputs": [
    {
     "data": {
      "text/html": [
       "<div>\n",
       "<style scoped>\n",
       "    .dataframe tbody tr th:only-of-type {\n",
       "        vertical-align: middle;\n",
       "    }\n",
       "\n",
       "    .dataframe tbody tr th {\n",
       "        vertical-align: top;\n",
       "    }\n",
       "\n",
       "    .dataframe thead th {\n",
       "        text-align: right;\n",
       "    }\n",
       "</style>\n",
       "<table border=\"1\" class=\"dataframe\">\n",
       "  <thead>\n",
       "    <tr style=\"text-align: right;\">\n",
       "      <th></th>\n",
       "      <th>机器1</th>\n",
       "      <th>机器2</th>\n",
       "      <th>机器3</th>\n",
       "      <th>机器4</th>\n",
       "    </tr>\n",
       "  </thead>\n",
       "  <tbody>\n",
       "    <tr>\n",
       "      <th>0</th>\n",
       "      <td>4.05</td>\n",
       "      <td>3.99</td>\n",
       "      <td>3.97</td>\n",
       "      <td>4.00</td>\n",
       "    </tr>\n",
       "    <tr>\n",
       "      <th>1</th>\n",
       "      <td>4.01</td>\n",
       "      <td>4.02</td>\n",
       "      <td>3.98</td>\n",
       "      <td>4.02</td>\n",
       "    </tr>\n",
       "    <tr>\n",
       "      <th>2</th>\n",
       "      <td>4.02</td>\n",
       "      <td>4.01</td>\n",
       "      <td>3.97</td>\n",
       "      <td>3.99</td>\n",
       "    </tr>\n",
       "    <tr>\n",
       "      <th>3</th>\n",
       "      <td>4.04</td>\n",
       "      <td>3.99</td>\n",
       "      <td>3.95</td>\n",
       "      <td>4.01</td>\n",
       "    </tr>\n",
       "    <tr>\n",
       "      <th>4</th>\n",
       "      <td>4.00</td>\n",
       "      <td>4.00</td>\n",
       "      <td>4.02</td>\n",
       "      <td>4.00</td>\n",
       "    </tr>\n",
       "    <tr>\n",
       "      <th>5</th>\n",
       "      <td>4.03</td>\n",
       "      <td>4.05</td>\n",
       "      <td>4.00</td>\n",
       "      <td>4.03</td>\n",
       "    </tr>\n",
       "  </tbody>\n",
       "</table>\n",
       "</div>"
      ],
      "text/plain": [
       "    机器1   机器2   机器3   机器4\n",
       "0  4.05  3.99  3.97  4.00\n",
       "1  4.01  4.02  3.98  4.02\n",
       "2  4.02  4.01  3.97  3.99\n",
       "3  4.04  3.99  3.95  4.01\n",
       "4  4.00  4.00  4.02  4.00\n",
       "5  4.03  4.05  4.00  4.03"
      ]
     },
     "execution_count": 2,
     "metadata": {},
     "output_type": "execute_result"
    }
   ],
   "source": [
    "df = pd.read_csv('./exercise/chap08/exercise8_1.csv', encoding='gbk') # 读取数据\n",
    "df"
   ]
  },
  {
   "cell_type": "code",
   "execution_count": 5,
   "metadata": {},
   "outputs": [
    {
     "data": {
      "text/html": [
       "<div>\n",
       "<style scoped>\n",
       "    .dataframe tbody tr th:only-of-type {\n",
       "        vertical-align: middle;\n",
       "    }\n",
       "\n",
       "    .dataframe tbody tr th {\n",
       "        vertical-align: top;\n",
       "    }\n",
       "\n",
       "    .dataframe thead th {\n",
       "        text-align: right;\n",
       "    }\n",
       "</style>\n",
       "<table border=\"1\" class=\"dataframe\">\n",
       "  <thead>\n",
       "    <tr style=\"text-align: right;\">\n",
       "      <th></th>\n",
       "      <th>机器</th>\n",
       "      <th>装填量</th>\n",
       "    </tr>\n",
       "  </thead>\n",
       "  <tbody>\n",
       "    <tr>\n",
       "      <th>0</th>\n",
       "      <td>机器1</td>\n",
       "      <td>4.05</td>\n",
       "    </tr>\n",
       "    <tr>\n",
       "      <th>1</th>\n",
       "      <td>机器1</td>\n",
       "      <td>4.01</td>\n",
       "    </tr>\n",
       "    <tr>\n",
       "      <th>2</th>\n",
       "      <td>机器1</td>\n",
       "      <td>4.02</td>\n",
       "    </tr>\n",
       "    <tr>\n",
       "      <th>3</th>\n",
       "      <td>机器1</td>\n",
       "      <td>4.04</td>\n",
       "    </tr>\n",
       "    <tr>\n",
       "      <th>4</th>\n",
       "      <td>机器1</td>\n",
       "      <td>4.00</td>\n",
       "    </tr>\n",
       "  </tbody>\n",
       "</table>\n",
       "</div>"
      ],
      "text/plain": [
       "    机器   装填量\n",
       "0  机器1  4.05\n",
       "1  机器1  4.01\n",
       "2  机器1  4.02\n",
       "3  机器1  4.04\n",
       "4  机器1  4.00"
      ]
     },
     "execution_count": 5,
     "metadata": {},
     "output_type": "execute_result"
    }
   ],
   "source": [
    "# (1) 检验机器对装填量是否有显著影响（α=0.01）。\n",
    "df_melt = pd.melt(\n",
    "    df, value_vars=['机器1', '机器2', '机器3', '机器4'], \n",
    "    value_name='装填量', var_name='机器'\n",
    ") # 数据转换\n",
    "df_melt.head() # 显示前5行数据"
   ]
  },
  {
   "attachments": {},
   "cell_type": "markdown",
   "metadata": {},
   "source": [
    "提出假设：\n",
    "- $H_0: \\alpha_1 = \\alpha_2 = \\alpha_3 = \\alpha_4 = 0$(机器对装填量的影响不显著)\n",
    "- $H_1: \\alpha_1, \\alpha_2, \\alpha_3, \\alpha_4$ 至少有一个不等于0(机器对装填量的影响显著)"
   ]
  },
  {
   "cell_type": "code",
   "execution_count": 8,
   "metadata": {},
   "outputs": [
    {
     "data": {
      "text/html": [
       "<div>\n",
       "<style scoped>\n",
       "    .dataframe tbody tr th:only-of-type {\n",
       "        vertical-align: middle;\n",
       "    }\n",
       "\n",
       "    .dataframe tbody tr th {\n",
       "        vertical-align: top;\n",
       "    }\n",
       "\n",
       "    .dataframe thead th {\n",
       "        text-align: right;\n",
       "    }\n",
       "</style>\n",
       "<table border=\"1\" class=\"dataframe\">\n",
       "  <thead>\n",
       "    <tr style=\"text-align: right;\">\n",
       "      <th></th>\n",
       "      <th>df</th>\n",
       "      <th>sum_sq</th>\n",
       "      <th>mean_sq</th>\n",
       "      <th>F</th>\n",
       "      <th>PR(&gt;F)</th>\n",
       "    </tr>\n",
       "  </thead>\n",
       "  <tbody>\n",
       "    <tr>\n",
       "      <th>机器</th>\n",
       "      <td>3.0</td>\n",
       "      <td>0.005846</td>\n",
       "      <td>0.001949</td>\n",
       "      <td>4.575995</td>\n",
       "      <td>0.013485</td>\n",
       "    </tr>\n",
       "    <tr>\n",
       "      <th>Residual</th>\n",
       "      <td>20.0</td>\n",
       "      <td>0.008517</td>\n",
       "      <td>0.000426</td>\n",
       "      <td>NaN</td>\n",
       "      <td>NaN</td>\n",
       "    </tr>\n",
       "  </tbody>\n",
       "</table>\n",
       "</div>"
      ],
      "text/plain": [
       "            df    sum_sq   mean_sq         F    PR(>F)\n",
       "机器         3.0  0.005846  0.001949  4.575995  0.013485\n",
       "Residual  20.0  0.008517  0.000426       NaN       NaN"
      ]
     },
     "execution_count": 8,
     "metadata": {},
     "output_type": "execute_result"
    }
   ],
   "source": [
    "model = ols('装填量 ~ 机器', data=df_melt).fit() # 拟合方差分析模型\n",
    "anova_table = anova_lm(model, typ=1) # 方差分析表\n",
    "anova_table # 显示方差分析表"
   ]
  },
  {
   "attachments": {},
   "cell_type": "markdown",
   "metadata": {},
   "source": [
    "由于P>0.01, 所以不能拒绝原假设。"
   ]
  },
  {
   "cell_type": "code",
   "execution_count": 9,
   "metadata": {},
   "outputs": [
    {
     "data": {
      "text/html": [
       "<table class=\"simpletable\">\n",
       "<caption>OLS Regression Results</caption>\n",
       "<tr>\n",
       "  <th>Dep. Variable:</th>           <td>装填量</td>       <th>  R-squared:         </th> <td>   0.407</td>\n",
       "</tr>\n",
       "<tr>\n",
       "  <th>Model:</th>                   <td>OLS</td>       <th>  Adj. R-squared:    </th> <td>   0.318</td>\n",
       "</tr>\n",
       "<tr>\n",
       "  <th>Method:</th>             <td>Least Squares</td>  <th>  F-statistic:       </th> <td>   4.576</td>\n",
       "</tr>\n",
       "<tr>\n",
       "  <th>Date:</th>             <td>Tue, 16 May 2023</td> <th>  Prob (F-statistic):</th>  <td>0.0135</td> \n",
       "</tr>\n",
       "<tr>\n",
       "  <th>Time:</th>                 <td>10:28:24</td>     <th>  Log-Likelihood:    </th> <td>  61.271</td>\n",
       "</tr>\n",
       "<tr>\n",
       "  <th>No. Observations:</th>      <td>    24</td>      <th>  AIC:               </th> <td>  -114.5</td>\n",
       "</tr>\n",
       "<tr>\n",
       "  <th>Df Residuals:</th>          <td>    20</td>      <th>  BIC:               </th> <td>  -109.8</td>\n",
       "</tr>\n",
       "<tr>\n",
       "  <th>Df Model:</th>              <td>     3</td>      <th>                     </th>     <td> </td>   \n",
       "</tr>\n",
       "<tr>\n",
       "  <th>Covariance Type:</th>      <td>nonrobust</td>    <th>                     </th>     <td> </td>   \n",
       "</tr>\n",
       "</table>\n",
       "<table class=\"simpletable\">\n",
       "<tr>\n",
       "      <td></td>         <th>coef</th>     <th>std err</th>      <th>t</th>      <th>P>|t|</th>  <th>[0.025</th>    <th>0.975]</th>  \n",
       "</tr>\n",
       "<tr>\n",
       "  <th>Intercept</th> <td>    4.0250</td> <td>    0.008</td> <td>  477.773</td> <td> 0.000</td> <td>    4.007</td> <td>    4.043</td>\n",
       "</tr>\n",
       "<tr>\n",
       "  <th>机器[T.机器2]</th> <td>   -0.0150</td> <td>    0.012</td> <td>   -1.259</td> <td> 0.223</td> <td>   -0.040</td> <td>    0.010</td>\n",
       "</tr>\n",
       "<tr>\n",
       "  <th>机器[T.机器3]</th> <td>   -0.0433</td> <td>    0.012</td> <td>   -3.637</td> <td> 0.002</td> <td>   -0.068</td> <td>   -0.018</td>\n",
       "</tr>\n",
       "<tr>\n",
       "  <th>机器[T.机器4]</th> <td>   -0.0167</td> <td>    0.012</td> <td>   -1.399</td> <td> 0.177</td> <td>   -0.042</td> <td>    0.008</td>\n",
       "</tr>\n",
       "</table>\n",
       "<table class=\"simpletable\">\n",
       "<tr>\n",
       "  <th>Omnibus:</th>       <td> 1.421</td> <th>  Durbin-Watson:     </th> <td>   2.490</td>\n",
       "</tr>\n",
       "<tr>\n",
       "  <th>Prob(Omnibus):</th> <td> 0.491</td> <th>  Jarque-Bera (JB):  </th> <td>   1.277</td>\n",
       "</tr>\n",
       "<tr>\n",
       "  <th>Skew:</th>          <td> 0.499</td> <th>  Prob(JB):          </th> <td>   0.528</td>\n",
       "</tr>\n",
       "<tr>\n",
       "  <th>Kurtosis:</th>      <td> 2.468</td> <th>  Cond. No.          </th> <td>    4.79</td>\n",
       "</tr>\n",
       "</table><br/><br/>Notes:<br/>[1] Standard Errors assume that the covariance matrix of the errors is correctly specified."
      ],
      "text/plain": [
       "<class 'statsmodels.iolib.summary.Summary'>\n",
       "\"\"\"\n",
       "                            OLS Regression Results                            \n",
       "==============================================================================\n",
       "Dep. Variable:                    装填量   R-squared:                       0.407\n",
       "Model:                            OLS   Adj. R-squared:                  0.318\n",
       "Method:                 Least Squares   F-statistic:                     4.576\n",
       "Date:                Tue, 16 May 2023   Prob (F-statistic):             0.0135\n",
       "Time:                        10:28:24   Log-Likelihood:                 61.271\n",
       "No. Observations:                  24   AIC:                            -114.5\n",
       "Df Residuals:                      20   BIC:                            -109.8\n",
       "Df Model:                           3                                         \n",
       "Covariance Type:            nonrobust                                         \n",
       "==============================================================================\n",
       "                 coef    std err          t      P>|t|      [0.025      0.975]\n",
       "------------------------------------------------------------------------------\n",
       "Intercept      4.0250      0.008    477.773      0.000       4.007       4.043\n",
       "机器[T.机器2]     -0.0150      0.012     -1.259      0.223      -0.040       0.010\n",
       "机器[T.机器3]     -0.0433      0.012     -3.637      0.002      -0.068      -0.018\n",
       "机器[T.机器4]     -0.0167      0.012     -1.399      0.177      -0.042       0.008\n",
       "==============================================================================\n",
       "Omnibus:                        1.421   Durbin-Watson:                   2.490\n",
       "Prob(Omnibus):                  0.491   Jarque-Bera (JB):                1.277\n",
       "Skew:                           0.499   Prob(JB):                        0.528\n",
       "Kurtosis:                       2.468   Cond. No.                         4.79\n",
       "==============================================================================\n",
       "\n",
       "Notes:\n",
       "[1] Standard Errors assume that the covariance matrix of the errors is correctly specified.\n",
       "\"\"\""
      ]
     },
     "execution_count": 9,
     "metadata": {},
     "output_type": "execute_result"
    }
   ],
   "source": [
    "model.summary() # 显示模型汇总信息"
   ]
  },
  {
   "cell_type": "code",
   "execution_count": 11,
   "metadata": {},
   "outputs": [
    {
     "name": "stdout",
     "output_type": "stream",
     "text": [
      "效应量为 0.407\n"
     ]
    }
   ],
   "source": [
    "# (2) 分析效应量\n",
    "print(f'效应量为 {model.rsquared:.4g}') # 显示效应量"
   ]
  },
  {
   "cell_type": "code",
   "execution_count": 12,
   "metadata": {},
   "outputs": [
    {
     "data": {
      "text/html": [
       "<table class=\"simpletable\">\n",
       "<caption>Multiple Comparison of Means - Tukey HSD, FWER=0.01</caption>\n",
       "<tr>\n",
       "  <th>group1</th> <th>group2</th> <th>meandiff</th>  <th>p-adj</th>  <th>lower</th>   <th>upper</th>  <th>reject</th>\n",
       "</tr>\n",
       "<tr>\n",
       "    <td>机器1</td>    <td>机器2</td>   <td>-0.015</td>  <td>0.5982</td> <td>-0.0573</td> <td>0.0273</td>   <td>False</td>\n",
       "</tr>\n",
       "<tr>\n",
       "    <td>机器1</td>    <td>机器3</td>   <td>-0.0433</td> <td>0.0082</td> <td>-0.0856</td> <td>-0.0011</td>  <td>True</td> \n",
       "</tr>\n",
       "<tr>\n",
       "    <td>机器1</td>    <td>机器4</td>   <td>-0.0167</td> <td>0.5144</td> <td>-0.0589</td> <td>0.0256</td>   <td>False</td>\n",
       "</tr>\n",
       "<tr>\n",
       "    <td>机器2</td>    <td>机器3</td>   <td>-0.0283</td>  <td>0.114</td> <td>-0.0706</td> <td>0.0139</td>   <td>False</td>\n",
       "</tr>\n",
       "<tr>\n",
       "    <td>机器2</td>    <td>机器4</td>   <td>-0.0017</td>  <td>0.999</td> <td>-0.0439</td> <td>0.0406</td>   <td>False</td>\n",
       "</tr>\n",
       "<tr>\n",
       "    <td>机器3</td>    <td>机器4</td>   <td>0.0267</td>  <td>0.1471</td> <td>-0.0156</td> <td>0.0689</td>   <td>False</td>\n",
       "</tr>\n",
       "</table>"
      ],
      "text/plain": [
       "<class 'statsmodels.iolib.table.SimpleTable'>"
      ]
     },
     "execution_count": 12,
     "metadata": {},
     "output_type": "execute_result"
    }
   ],
   "source": [
    "# (3) 采用HSD方法比较哪些机器的装填量之间存在显著差异。\n",
    "mc = MultiComparison(df_melt['装填量'], df_melt['机器']) # 创建多重比较对象\n",
    "mc.tukeyhsd(alpha=0.01).summary() # 执行多重比较"
   ]
  },
  {
   "attachments": {},
   "cell_type": "markdown",
   "metadata": {},
   "source": [
    "结果显示，机器1与机器3之间的差异显著，其余两两之间的差异均不显著。"
   ]
  },
  {
   "attachments": {},
   "cell_type": "markdown",
   "metadata": {},
   "source": [
    "提出正态性假设：\n",
    "- $H_0:$ 装填量服从正态分布\n",
    "- $H_1:$ 装填量不服从正态分布"
   ]
  },
  {
   "cell_type": "code",
   "execution_count": 21,
   "metadata": {},
   "outputs": [
    {
     "name": "stdout",
     "output_type": "stream",
     "text": [
      "统计量W=0.97509, p值=0.7912\n",
      "统计量D=0.10958, p值=0.9354\n"
     ]
    }
   ],
   "source": [
    "# (4) 检验装填量是否满足正态性和方差齐性。\n",
    "# S-W检验\n",
    "W, p_value = shapiro(df_melt['装填量']) # 执行S-W检验\n",
    "print(f'统计量W={W:.5f}, p值={p_value:.4g}') # 显示检验结果\n",
    "\n",
    "# K-S检验\n",
    "D, p_value = kstest(\n",
    "    df_melt['装填量'], 'norm', alternative='two-sided', mode='asymp',\n",
    "    args=(df_melt['装填量'].mean(), df_melt['装填量'].std())\n",
    ") # 执行K-S检验\n",
    "print(f'统计量D={D:.5f}, p值={p_value:.4g}') # 显示检验结果"
   ]
  },
  {
   "attachments": {},
   "cell_type": "markdown",
   "metadata": {},
   "source": [
    "由于P>0.05，所以不能拒绝原假设。"
   ]
  },
  {
   "attachments": {},
   "cell_type": "markdown",
   "metadata": {},
   "source": [
    "提出方差齐性假设：\n",
    "- $H_0: \\sigma^2_1 = \\sigma^2_2 = \\sigma^2_3 = \\sigma^2_4$ (装填量的方差齐性成立)\n",
    "- $H_1: \\sigma^2_1, \\sigma^2_2, \\sigma^2_3, \\sigma^2_4$ 不全相等 (装填量的方差齐性不成立)"
   ]
  },
  {
   "cell_type": "code",
   "execution_count": 22,
   "metadata": {},
   "outputs": [
    {
     "name": "stdout",
     "output_type": "stream",
     "text": [
      "统计量B=1.39265, p值=0.7073\n",
      "统计量F=0.30864, p值=0.8189\n"
     ]
    }
   ],
   "source": [
    "sample1 = df_melt.loc[df_melt['机器']=='机器1', '装填量'].values # 机器1的装填量数据\n",
    "sample2 = df_melt.loc[df_melt['机器']=='机器2', '装填量'].values # 机器2的装填量数据\n",
    "sample3 = df_melt.loc[df_melt['机器']=='机器3', '装填量'].values # 机器3的装填量数据\n",
    "sample4 = df_melt.loc[df_melt['机器']=='机器4', '装填量'].values # 机器4的装填量数据\n",
    "\n",
    "# Bartlett检验\n",
    "B, p_value = bartlett(sample1, sample2, sample3, sample4) # 执行Bartlett检验\n",
    "print(f'统计量B={B:.5f}, p值={p_value:.4g}') # 显示检验结果\n",
    "\n",
    "# Levene检验\n",
    "F, p_value = levene(sample1, sample2, sample3, sample4) # 执行Levene检验\n",
    "print(f'统计量F={F:.5f}, p值={p_value:.4g}') # 显示检验结果"
   ]
  },
  {
   "attachments": {},
   "cell_type": "markdown",
   "metadata": {},
   "source": [
    "由于P>0.05，所以不能拒绝原假设。"
   ]
  },
  {
   "attachments": {},
   "cell_type": "markdown",
   "metadata": {},
   "source": [
    "### 8.2"
   ]
  },
  {
   "cell_type": "code",
   "execution_count": 23,
   "metadata": {},
   "outputs": [
    {
     "data": {
      "text/html": [
       "<div>\n",
       "<style scoped>\n",
       "    .dataframe tbody tr th:only-of-type {\n",
       "        vertical-align: middle;\n",
       "    }\n",
       "\n",
       "    .dataframe tbody tr th {\n",
       "        vertical-align: top;\n",
       "    }\n",
       "\n",
       "    .dataframe thead th {\n",
       "        text-align: right;\n",
       "    }\n",
       "</style>\n",
       "<table border=\"1\" class=\"dataframe\">\n",
       "  <thead>\n",
       "    <tr style=\"text-align: right;\">\n",
       "      <th></th>\n",
       "      <th>高层管理者</th>\n",
       "      <th>中层管理者</th>\n",
       "      <th>低层管理者</th>\n",
       "    </tr>\n",
       "  </thead>\n",
       "  <tbody>\n",
       "    <tr>\n",
       "      <th>0</th>\n",
       "      <td>7</td>\n",
       "      <td>8</td>\n",
       "      <td>5</td>\n",
       "    </tr>\n",
       "    <tr>\n",
       "      <th>1</th>\n",
       "      <td>7</td>\n",
       "      <td>9</td>\n",
       "      <td>6</td>\n",
       "    </tr>\n",
       "    <tr>\n",
       "      <th>2</th>\n",
       "      <td>8</td>\n",
       "      <td>8</td>\n",
       "      <td>5</td>\n",
       "    </tr>\n",
       "    <tr>\n",
       "      <th>3</th>\n",
       "      <td>7</td>\n",
       "      <td>10</td>\n",
       "      <td>7</td>\n",
       "    </tr>\n",
       "    <tr>\n",
       "      <th>4</th>\n",
       "      <td>9</td>\n",
       "      <td>9</td>\n",
       "      <td>4</td>\n",
       "    </tr>\n",
       "    <tr>\n",
       "      <th>5</th>\n",
       "      <td>8</td>\n",
       "      <td>10</td>\n",
       "      <td>8</td>\n",
       "    </tr>\n",
       "  </tbody>\n",
       "</table>\n",
       "</div>"
      ],
      "text/plain": [
       "   高层管理者  中层管理者  低层管理者\n",
       "0      7      8      5\n",
       "1      7      9      6\n",
       "2      8      8      5\n",
       "3      7     10      7\n",
       "4      9      9      4\n",
       "5      8     10      8"
      ]
     },
     "execution_count": 23,
     "metadata": {},
     "output_type": "execute_result"
    }
   ],
   "source": [
    "df = pd.read_csv('./exercise/chap08/exercise8_2.csv', encoding='gbk') # 读取数据\n",
    "df"
   ]
  },
  {
   "cell_type": "code",
   "execution_count": 25,
   "metadata": {},
   "outputs": [
    {
     "data": {
      "text/html": [
       "<div>\n",
       "<style scoped>\n",
       "    .dataframe tbody tr th:only-of-type {\n",
       "        vertical-align: middle;\n",
       "    }\n",
       "\n",
       "    .dataframe tbody tr th {\n",
       "        vertical-align: top;\n",
       "    }\n",
       "\n",
       "    .dataframe thead th {\n",
       "        text-align: right;\n",
       "    }\n",
       "</style>\n",
       "<table border=\"1\" class=\"dataframe\">\n",
       "  <thead>\n",
       "    <tr style=\"text-align: right;\">\n",
       "      <th></th>\n",
       "      <th>管理者</th>\n",
       "      <th>满意度得分</th>\n",
       "    </tr>\n",
       "  </thead>\n",
       "  <tbody>\n",
       "    <tr>\n",
       "      <th>0</th>\n",
       "      <td>高层管理者</td>\n",
       "      <td>7</td>\n",
       "    </tr>\n",
       "    <tr>\n",
       "      <th>1</th>\n",
       "      <td>高层管理者</td>\n",
       "      <td>7</td>\n",
       "    </tr>\n",
       "    <tr>\n",
       "      <th>2</th>\n",
       "      <td>高层管理者</td>\n",
       "      <td>8</td>\n",
       "    </tr>\n",
       "    <tr>\n",
       "      <th>3</th>\n",
       "      <td>高层管理者</td>\n",
       "      <td>7</td>\n",
       "    </tr>\n",
       "    <tr>\n",
       "      <th>4</th>\n",
       "      <td>高层管理者</td>\n",
       "      <td>9</td>\n",
       "    </tr>\n",
       "  </tbody>\n",
       "</table>\n",
       "</div>"
      ],
      "text/plain": [
       "     管理者  满意度得分\n",
       "0  高层管理者      7\n",
       "1  高层管理者      7\n",
       "2  高层管理者      8\n",
       "3  高层管理者      7\n",
       "4  高层管理者      9"
      ]
     },
     "execution_count": 25,
     "metadata": {},
     "output_type": "execute_result"
    }
   ],
   "source": [
    "# (1) 检验管理者的水平不同是否会导致评分的显著差异（α=0.05），并分析效应量。\n",
    "df_melt = pd.melt(\n",
    "    df, value_vars=['高层管理者', '中层管理者', '低层管理者'],\n",
    "    value_name='满意度得分', var_name='管理者'\n",
    ") # 数据转换\n",
    "df_melt.head() # 显示前5行数据"
   ]
  },
  {
   "attachments": {},
   "cell_type": "markdown",
   "metadata": {},
   "source": [
    "提出假设：\n",
    "- $H_0: \\alpha_1 = \\alpha_2 = \\alpha_3 = 0$(管理者类型对满意度评分的影响不显著)\n",
    "- $H_1: \\alpha_1, \\alpha_2, \\alpha_3$ 至少有一个不等于0(管理者类型对满意度评分的影响显著)"
   ]
  },
  {
   "cell_type": "code",
   "execution_count": 26,
   "metadata": {},
   "outputs": [
    {
     "data": {
      "text/html": [
       "<div>\n",
       "<style scoped>\n",
       "    .dataframe tbody tr th:only-of-type {\n",
       "        vertical-align: middle;\n",
       "    }\n",
       "\n",
       "    .dataframe tbody tr th {\n",
       "        vertical-align: top;\n",
       "    }\n",
       "\n",
       "    .dataframe thead th {\n",
       "        text-align: right;\n",
       "    }\n",
       "</style>\n",
       "<table border=\"1\" class=\"dataframe\">\n",
       "  <thead>\n",
       "    <tr style=\"text-align: right;\">\n",
       "      <th></th>\n",
       "      <th>df</th>\n",
       "      <th>sum_sq</th>\n",
       "      <th>mean_sq</th>\n",
       "      <th>F</th>\n",
       "      <th>PR(&gt;F)</th>\n",
       "    </tr>\n",
       "  </thead>\n",
       "  <tbody>\n",
       "    <tr>\n",
       "      <th>管理者</th>\n",
       "      <td>2.0</td>\n",
       "      <td>30.333333</td>\n",
       "      <td>15.166667</td>\n",
       "      <td>12.522936</td>\n",
       "      <td>0.000633</td>\n",
       "    </tr>\n",
       "    <tr>\n",
       "      <th>Residual</th>\n",
       "      <td>15.0</td>\n",
       "      <td>18.166667</td>\n",
       "      <td>1.211111</td>\n",
       "      <td>NaN</td>\n",
       "      <td>NaN</td>\n",
       "    </tr>\n",
       "  </tbody>\n",
       "</table>\n",
       "</div>"
      ],
      "text/plain": [
       "            df     sum_sq    mean_sq          F    PR(>F)\n",
       "管理者        2.0  30.333333  15.166667  12.522936  0.000633\n",
       "Residual  15.0  18.166667   1.211111        NaN       NaN"
      ]
     },
     "execution_count": 26,
     "metadata": {},
     "output_type": "execute_result"
    }
   ],
   "source": [
    "model = ols('满意度得分 ~ 管理者', data=df_melt).fit() # 拟合方差分析模型\n",
    "anova_table = anova_lm(model, typ=1) # 方差分析表\n",
    "anova_table # 显示方差分析表"
   ]
  },
  {
   "attachments": {},
   "cell_type": "markdown",
   "metadata": {},
   "source": [
    "由于P<0.05, 所以拒绝原假设。"
   ]
  },
  {
   "cell_type": "code",
   "execution_count": 27,
   "metadata": {},
   "outputs": [
    {
     "name": "stderr",
     "output_type": "stream",
     "text": [
      "/home/zmy/mambaforge/lib/python3.10/site-packages/scipy/stats/_stats_py.py:1736: UserWarning: kurtosistest only valid for n>=20 ... continuing anyway, n=18\n",
      "  warnings.warn(\"kurtosistest only valid for n>=20 ... continuing \"\n"
     ]
    },
    {
     "data": {
      "text/html": [
       "<table class=\"simpletable\">\n",
       "<caption>OLS Regression Results</caption>\n",
       "<tr>\n",
       "  <th>Dep. Variable:</th>          <td>满意度得分</td>      <th>  R-squared:         </th> <td>   0.625</td>\n",
       "</tr>\n",
       "<tr>\n",
       "  <th>Model:</th>                   <td>OLS</td>       <th>  Adj. R-squared:    </th> <td>   0.575</td>\n",
       "</tr>\n",
       "<tr>\n",
       "  <th>Method:</th>             <td>Least Squares</td>  <th>  F-statistic:       </th> <td>   12.52</td>\n",
       "</tr>\n",
       "<tr>\n",
       "  <th>Date:</th>             <td>Tue, 16 May 2023</td> <th>  Prob (F-statistic):</th> <td>0.000633</td>\n",
       "</tr>\n",
       "<tr>\n",
       "  <th>Time:</th>                 <td>10:45:58</td>     <th>  Log-Likelihood:    </th> <td> -25.624</td>\n",
       "</tr>\n",
       "<tr>\n",
       "  <th>No. Observations:</th>      <td>    18</td>      <th>  AIC:               </th> <td>   57.25</td>\n",
       "</tr>\n",
       "<tr>\n",
       "  <th>Df Residuals:</th>          <td>    15</td>      <th>  BIC:               </th> <td>   59.92</td>\n",
       "</tr>\n",
       "<tr>\n",
       "  <th>Df Model:</th>              <td>     2</td>      <th>                     </th>     <td> </td>   \n",
       "</tr>\n",
       "<tr>\n",
       "  <th>Covariance Type:</th>      <td>nonrobust</td>    <th>                     </th>     <td> </td>   \n",
       "</tr>\n",
       "</table>\n",
       "<table class=\"simpletable\">\n",
       "<tr>\n",
       "        <td></td>          <th>coef</th>     <th>std err</th>      <th>t</th>      <th>P>|t|</th>  <th>[0.025</th>    <th>0.975]</th>  \n",
       "</tr>\n",
       "<tr>\n",
       "  <th>Intercept</th>    <td>    9.0000</td> <td>    0.449</td> <td>   20.032</td> <td> 0.000</td> <td>    8.042</td> <td>    9.958</td>\n",
       "</tr>\n",
       "<tr>\n",
       "  <th>管理者[T.低层管理者]</th> <td>   -3.1667</td> <td>    0.635</td> <td>   -4.984</td> <td> 0.000</td> <td>   -4.521</td> <td>   -1.812</td>\n",
       "</tr>\n",
       "<tr>\n",
       "  <th>管理者[T.高层管理者]</th> <td>   -1.3333</td> <td>    0.635</td> <td>   -2.098</td> <td> 0.053</td> <td>   -2.688</td> <td>    0.021</td>\n",
       "</tr>\n",
       "</table>\n",
       "<table class=\"simpletable\">\n",
       "<tr>\n",
       "  <th>Omnibus:</th>       <td> 0.544</td> <th>  Durbin-Watson:     </th> <td>   2.815</td>\n",
       "</tr>\n",
       "<tr>\n",
       "  <th>Prob(Omnibus):</th> <td> 0.762</td> <th>  Jarque-Bera (JB):  </th> <td>   0.598</td>\n",
       "</tr>\n",
       "<tr>\n",
       "  <th>Skew:</th>          <td> 0.329</td> <th>  Prob(JB):          </th> <td>   0.742</td>\n",
       "</tr>\n",
       "<tr>\n",
       "  <th>Kurtosis:</th>      <td> 2.396</td> <th>  Cond. No.          </th> <td>    3.73</td>\n",
       "</tr>\n",
       "</table><br/><br/>Notes:<br/>[1] Standard Errors assume that the covariance matrix of the errors is correctly specified."
      ],
      "text/plain": [
       "<class 'statsmodels.iolib.summary.Summary'>\n",
       "\"\"\"\n",
       "                            OLS Regression Results                            \n",
       "==============================================================================\n",
       "Dep. Variable:                  满意度得分   R-squared:                       0.625\n",
       "Model:                            OLS   Adj. R-squared:                  0.575\n",
       "Method:                 Least Squares   F-statistic:                     12.52\n",
       "Date:                Tue, 16 May 2023   Prob (F-statistic):           0.000633\n",
       "Time:                        10:45:58   Log-Likelihood:                -25.624\n",
       "No. Observations:                  18   AIC:                             57.25\n",
       "Df Residuals:                      15   BIC:                             59.92\n",
       "Df Model:                           2                                         \n",
       "Covariance Type:            nonrobust                                         \n",
       "================================================================================\n",
       "                   coef    std err          t      P>|t|      [0.025      0.975]\n",
       "--------------------------------------------------------------------------------\n",
       "Intercept        9.0000      0.449     20.032      0.000       8.042       9.958\n",
       "管理者[T.低层管理者]    -3.1667      0.635     -4.984      0.000      -4.521      -1.812\n",
       "管理者[T.高层管理者]    -1.3333      0.635     -2.098      0.053      -2.688       0.021\n",
       "==============================================================================\n",
       "Omnibus:                        0.544   Durbin-Watson:                   2.815\n",
       "Prob(Omnibus):                  0.762   Jarque-Bera (JB):                0.598\n",
       "Skew:                           0.329   Prob(JB):                        0.742\n",
       "Kurtosis:                       2.396   Cond. No.                         3.73\n",
       "==============================================================================\n",
       "\n",
       "Notes:\n",
       "[1] Standard Errors assume that the covariance matrix of the errors is correctly specified.\n",
       "\"\"\""
      ]
     },
     "execution_count": 27,
     "metadata": {},
     "output_type": "execute_result"
    }
   ],
   "source": [
    "model.summary() # 显示模型汇总信息"
   ]
  },
  {
   "cell_type": "code",
   "execution_count": 28,
   "metadata": {},
   "outputs": [
    {
     "name": "stdout",
     "output_type": "stream",
     "text": [
      "效应量为 0.6254\n"
     ]
    }
   ],
   "source": [
    "print(f'效应量为 {model.rsquared:.4g}') # 显示效应量"
   ]
  },
  {
   "cell_type": "code",
   "execution_count": 29,
   "metadata": {},
   "outputs": [
    {
     "data": {
      "text/html": [
       "<table class=\"simpletable\">\n",
       "<caption>Multiple Comparison of Means - Tukey HSD, FWER=0.05</caption>\n",
       "<tr>\n",
       "  <th>group1</th> <th>group2</th> <th>meandiff</th>  <th>p-adj</th>  <th>lower</th>   <th>upper</th>  <th>reject</th>\n",
       "</tr>\n",
       "<tr>\n",
       "   <td>中层管理者</td>  <td>低层管理者</td>  <td>-3.1667</td> <td>0.0005</td> <td>-4.817</td>  <td>-1.5163</td>  <td>True</td> \n",
       "</tr>\n",
       "<tr>\n",
       "   <td>中层管理者</td>  <td>高层管理者</td>  <td>-1.3333</td> <td>0.1238</td> <td>-2.9837</td>  <td>0.317</td>   <td>False</td>\n",
       "</tr>\n",
       "<tr>\n",
       "   <td>低层管理者</td>  <td>高层管理者</td>  <td>1.8333</td>  <td>0.0288</td>  <td>0.183</td>  <td>3.4837</td>   <td>True</td> \n",
       "</tr>\n",
       "</table>"
      ],
      "text/plain": [
       "<class 'statsmodels.iolib.table.SimpleTable'>"
      ]
     },
     "execution_count": 29,
     "metadata": {},
     "output_type": "execute_result"
    }
   ],
   "source": [
    "# (2) 采用HSD方法比较管理者的评分之间的差异。\n",
    "mc = MultiComparison(df_melt['满意度得分'], df_melt['管理者']) # 创建多重比较对象\n",
    "mc.tukeyhsd(alpha=0.05).summary() # 执行多重比较"
   ]
  },
  {
   "attachments": {},
   "cell_type": "markdown",
   "metadata": {},
   "source": [
    "结果显示，中层管理者与低层管理者、低层管理者与高层管理者之间的差异显著，中层管理者与高层管理者之间的差异不显著。"
   ]
  },
  {
   "attachments": {},
   "cell_type": "markdown",
   "metadata": {},
   "source": [
    "提出正态性假设：\n",
    "- $H_0:$ 满意度评分服从正态分布\n",
    "- $H_1:$ 满意度评分不服从正态分布"
   ]
  },
  {
   "cell_type": "code",
   "execution_count": 30,
   "metadata": {},
   "outputs": [
    {
     "name": "stdout",
     "output_type": "stream",
     "text": [
      "统计量W=0.94141, p值=0.3063\n",
      "统计量D=0.17195, p值=0.6617\n"
     ]
    }
   ],
   "source": [
    "# (3) 检验满意度评分是否满足正态性和方差齐性。\n",
    "# S-W检验\n",
    "W, p_value = shapiro(df_melt['满意度得分']) # 执行S-W检验\n",
    "print(f'统计量W={W:.5f}, p值={p_value:.4g}') # 显示检验结果\n",
    "\n",
    "# K-S检验\n",
    "D, p_value = kstest(\n",
    "    df_melt['满意度得分'], 'norm', alternative='two-sided', mode='asymp',\n",
    "    args=(df_melt['满意度得分'].mean(), df_melt['满意度得分'].std())\n",
    ") # 执行K-S检验\n",
    "print(f'统计量D={D:.5f}, p值={p_value:.4g}') # 显示检验结果"
   ]
  },
  {
   "attachments": {},
   "cell_type": "markdown",
   "metadata": {},
   "source": [
    "由于P>0.05，所以不能拒绝原假设。"
   ]
  },
  {
   "attachments": {},
   "cell_type": "markdown",
   "metadata": {},
   "source": [
    "提出方差齐性假设：\n",
    "- $H_0: \\sigma^2_1 = \\sigma^2_2 = \\sigma^2_3$ (满意度评分的方差齐性成立)\n",
    "- $H_1: \\sigma^2_1, \\sigma^2_2, \\sigma^2_3$ 不全相等 (满意度评分的方差齐性不成立)"
   ]
  },
  {
   "cell_type": "code",
   "execution_count": 31,
   "metadata": {},
   "outputs": [
    {
     "name": "stdout",
     "output_type": "stream",
     "text": [
      "统计量B=1.97464, p值=0.3726\n",
      "统计量F=1.36364, p值=0.2857\n"
     ]
    }
   ],
   "source": [
    "sample1 = df_melt.loc[df_melt['管理者']=='高层管理者', '满意度得分'].values # 高层管理者满意度得分数据\n",
    "sample2 = df_melt.loc[df_melt['管理者']=='中层管理者', '满意度得分'].values # 中层管理者满意度得分数据\n",
    "sample3 = df_melt.loc[df_melt['管理者']=='低层管理者', '满意度得分'].values # 低层管理者满意度得分数据\n",
    "\n",
    "# Bartlett检验\n",
    "B, p_value = bartlett(sample1, sample2, sample3) # 执行Bartlett检验\n",
    "print(f'统计量B={B:.5f}, p值={p_value:.4g}') # 显示检验结果\n",
    "\n",
    "# Levene检验\n",
    "F, p_value = levene(sample1, sample2, sample3) # 执行Levene检验\n",
    "print(f'统计量F={F:.5f}, p值={p_value:.4g}') # 显示检验结果"
   ]
  },
  {
   "attachments": {},
   "cell_type": "markdown",
   "metadata": {},
   "source": [
    "由于P>0.05，所以不能拒绝原假设。"
   ]
  },
  {
   "attachments": {},
   "cell_type": "markdown",
   "metadata": {},
   "source": [
    "### 8.3"
   ]
  },
  {
   "cell_type": "code",
   "execution_count": 32,
   "metadata": {},
   "outputs": [
    {
     "data": {
      "text/html": [
       "<div>\n",
       "<style scoped>\n",
       "    .dataframe tbody tr th:only-of-type {\n",
       "        vertical-align: middle;\n",
       "    }\n",
       "\n",
       "    .dataframe tbody tr th {\n",
       "        vertical-align: top;\n",
       "    }\n",
       "\n",
       "    .dataframe thead th {\n",
       "        text-align: right;\n",
       "    }\n",
       "</style>\n",
       "<table border=\"1\" class=\"dataframe\">\n",
       "  <thead>\n",
       "    <tr style=\"text-align: right;\">\n",
       "      <th></th>\n",
       "      <th>实验号</th>\n",
       "      <th>企业A</th>\n",
       "      <th>企业B</th>\n",
       "      <th>企业C</th>\n",
       "    </tr>\n",
       "  </thead>\n",
       "  <tbody>\n",
       "    <tr>\n",
       "      <th>0</th>\n",
       "      <td>1</td>\n",
       "      <td>50</td>\n",
       "      <td>32</td>\n",
       "      <td>45</td>\n",
       "    </tr>\n",
       "    <tr>\n",
       "      <th>1</th>\n",
       "      <td>2</td>\n",
       "      <td>50</td>\n",
       "      <td>28</td>\n",
       "      <td>42</td>\n",
       "    </tr>\n",
       "    <tr>\n",
       "      <th>2</th>\n",
       "      <td>3</td>\n",
       "      <td>43</td>\n",
       "      <td>30</td>\n",
       "      <td>38</td>\n",
       "    </tr>\n",
       "    <tr>\n",
       "      <th>3</th>\n",
       "      <td>4</td>\n",
       "      <td>40</td>\n",
       "      <td>34</td>\n",
       "      <td>48</td>\n",
       "    </tr>\n",
       "    <tr>\n",
       "      <th>4</th>\n",
       "      <td>5</td>\n",
       "      <td>39</td>\n",
       "      <td>26</td>\n",
       "      <td>40</td>\n",
       "    </tr>\n",
       "  </tbody>\n",
       "</table>\n",
       "</div>"
      ],
      "text/plain": [
       "   实验号  企业A  企业B  企业C\n",
       "0    1   50   32   45\n",
       "1    2   50   28   42\n",
       "2    3   43   30   38\n",
       "3    4   40   34   48\n",
       "4    5   39   26   40"
      ]
     },
     "execution_count": 32,
     "metadata": {},
     "output_type": "execute_result"
    }
   ],
   "source": [
    "df = pd.read_csv('./exercise/chap08/exercise8_3.csv', encoding='gbk') # 读取数据\n",
    "df"
   ]
  },
  {
   "cell_type": "code",
   "execution_count": 34,
   "metadata": {},
   "outputs": [
    {
     "data": {
      "text/html": [
       "<div>\n",
       "<style scoped>\n",
       "    .dataframe tbody tr th:only-of-type {\n",
       "        vertical-align: middle;\n",
       "    }\n",
       "\n",
       "    .dataframe tbody tr th {\n",
       "        vertical-align: top;\n",
       "    }\n",
       "\n",
       "    .dataframe thead th {\n",
       "        text-align: right;\n",
       "    }\n",
       "</style>\n",
       "<table border=\"1\" class=\"dataframe\">\n",
       "  <thead>\n",
       "    <tr style=\"text-align: right;\">\n",
       "      <th></th>\n",
       "      <th>企业</th>\n",
       "      <th>电池使用寿命</th>\n",
       "    </tr>\n",
       "  </thead>\n",
       "  <tbody>\n",
       "    <tr>\n",
       "      <th>0</th>\n",
       "      <td>企业A</td>\n",
       "      <td>50</td>\n",
       "    </tr>\n",
       "    <tr>\n",
       "      <th>1</th>\n",
       "      <td>企业A</td>\n",
       "      <td>50</td>\n",
       "    </tr>\n",
       "    <tr>\n",
       "      <th>2</th>\n",
       "      <td>企业A</td>\n",
       "      <td>43</td>\n",
       "    </tr>\n",
       "    <tr>\n",
       "      <th>3</th>\n",
       "      <td>企业A</td>\n",
       "      <td>40</td>\n",
       "    </tr>\n",
       "    <tr>\n",
       "      <th>4</th>\n",
       "      <td>企业A</td>\n",
       "      <td>39</td>\n",
       "    </tr>\n",
       "  </tbody>\n",
       "</table>\n",
       "</div>"
      ],
      "text/plain": [
       "    企业  电池使用寿命\n",
       "0  企业A      50\n",
       "1  企业A      50\n",
       "2  企业A      43\n",
       "3  企业A      40\n",
       "4  企业A      39"
      ]
     },
     "execution_count": 34,
     "metadata": {},
     "output_type": "execute_result"
    }
   ],
   "source": [
    "# (1) 分析3个企业生产的电池平均使用寿命之间有无显著差异（α=0.05），并分析效应量。\n",
    "df_melt = pd.melt(\n",
    "    df, value_vars=['企业A', '企业B', '企业C'],\n",
    "    value_name='电池使用寿命', var_name='企业'\n",
    ") # 数据转换\n",
    "df_melt.head() # 显示前5行数据"
   ]
  },
  {
   "attachments": {},
   "cell_type": "markdown",
   "metadata": {},
   "source": [
    "提出假设：\n",
    "- $H_0: \\alpha_1 = \\alpha_2 = \\alpha_3 = 0$(企业对电池使用寿命的影响不显著)\n",
    "- $H_1: \\alpha_1, \\alpha_2, \\alpha_3$ 至少有一个不等于0(企业对电池使用寿命的影响显著)"
   ]
  },
  {
   "cell_type": "code",
   "execution_count": 35,
   "metadata": {},
   "outputs": [
    {
     "data": {
      "text/html": [
       "<div>\n",
       "<style scoped>\n",
       "    .dataframe tbody tr th:only-of-type {\n",
       "        vertical-align: middle;\n",
       "    }\n",
       "\n",
       "    .dataframe tbody tr th {\n",
       "        vertical-align: top;\n",
       "    }\n",
       "\n",
       "    .dataframe thead th {\n",
       "        text-align: right;\n",
       "    }\n",
       "</style>\n",
       "<table border=\"1\" class=\"dataframe\">\n",
       "  <thead>\n",
       "    <tr style=\"text-align: right;\">\n",
       "      <th></th>\n",
       "      <th>df</th>\n",
       "      <th>sum_sq</th>\n",
       "      <th>mean_sq</th>\n",
       "      <th>F</th>\n",
       "      <th>PR(&gt;F)</th>\n",
       "    </tr>\n",
       "  </thead>\n",
       "  <tbody>\n",
       "    <tr>\n",
       "      <th>企业</th>\n",
       "      <td>2.0</td>\n",
       "      <td>615.6</td>\n",
       "      <td>307.800000</td>\n",
       "      <td>17.068392</td>\n",
       "      <td>0.00031</td>\n",
       "    </tr>\n",
       "    <tr>\n",
       "      <th>Residual</th>\n",
       "      <td>12.0</td>\n",
       "      <td>216.4</td>\n",
       "      <td>18.033333</td>\n",
       "      <td>NaN</td>\n",
       "      <td>NaN</td>\n",
       "    </tr>\n",
       "  </tbody>\n",
       "</table>\n",
       "</div>"
      ],
      "text/plain": [
       "            df  sum_sq     mean_sq          F   PR(>F)\n",
       "企业         2.0   615.6  307.800000  17.068392  0.00031\n",
       "Residual  12.0   216.4   18.033333        NaN      NaN"
      ]
     },
     "execution_count": 35,
     "metadata": {},
     "output_type": "execute_result"
    }
   ],
   "source": [
    "model = ols('电池使用寿命 ~ 企业', data=df_melt).fit() # 拟合方差分析模型\n",
    "anova_table = anova_lm(model, typ=1) # 方差分析表\n",
    "anova_table # 显示方差分析表"
   ]
  },
  {
   "attachments": {},
   "cell_type": "markdown",
   "metadata": {},
   "source": [
    "由于P<0.05, 所以拒绝原假设。"
   ]
  },
  {
   "cell_type": "code",
   "execution_count": 36,
   "metadata": {},
   "outputs": [
    {
     "data": {
      "text/html": [
       "<table class=\"simpletable\">\n",
       "<caption>Multiple Comparison of Means - Tukey HSD, FWER=0.05</caption>\n",
       "<tr>\n",
       "  <th>group1</th> <th>group2</th> <th>meandiff</th>  <th>p-adj</th>   <th>lower</th>   <th>upper</th>  <th>reject</th>\n",
       "</tr>\n",
       "<tr>\n",
       "    <td>企业A</td>    <td>企业B</td>    <td>-14.4</td>  <td>0.0005</td> <td>-21.5653</td> <td>-7.2347</td>  <td>True</td> \n",
       "</tr>\n",
       "<tr>\n",
       "    <td>企业A</td>    <td>企业C</td>    <td>-1.8</td>   <td>0.7847</td>  <td>-8.9653</td> <td>5.3653</td>   <td>False</td>\n",
       "</tr>\n",
       "<tr>\n",
       "    <td>企业B</td>    <td>企业C</td>    <td>12.6</td>   <td>0.0014</td>  <td>5.4347</td>  <td>19.7653</td>  <td>True</td> \n",
       "</tr>\n",
       "</table>"
      ],
      "text/plain": [
       "<class 'statsmodels.iolib.table.SimpleTable'>"
      ]
     },
     "execution_count": 36,
     "metadata": {},
     "output_type": "execute_result"
    }
   ],
   "source": [
    "# (2) 如果有差异，用HSD方法检验哪些企业之间有差异。\n",
    "mc = MultiComparison(df_melt['电池使用寿命'], df_melt['企业']) # 创建多重比较对象\n",
    "mc.tukeyhsd(alpha=0.05).summary() # 执行多重比较"
   ]
  },
  {
   "attachments": {},
   "cell_type": "markdown",
   "metadata": {},
   "source": [
    "结果显示，企业A与企业B、企业B与企业C之间的差异显著，企业A与企业C之间的差异不显著。"
   ]
  },
  {
   "attachments": {},
   "cell_type": "markdown",
   "metadata": {},
   "source": [
    "### 8.4"
   ]
  },
  {
   "cell_type": "code",
   "execution_count": 37,
   "metadata": {},
   "outputs": [
    {
     "data": {
      "text/html": [
       "<div>\n",
       "<style scoped>\n",
       "    .dataframe tbody tr th:only-of-type {\n",
       "        vertical-align: middle;\n",
       "    }\n",
       "\n",
       "    .dataframe tbody tr th {\n",
       "        vertical-align: top;\n",
       "    }\n",
       "\n",
       "    .dataframe thead th {\n",
       "        text-align: right;\n",
       "    }\n",
       "</style>\n",
       "<table border=\"1\" class=\"dataframe\">\n",
       "  <thead>\n",
       "    <tr style=\"text-align: right;\">\n",
       "      <th></th>\n",
       "      <th>品种</th>\n",
       "      <th>施肥方案1</th>\n",
       "      <th>施肥方案2</th>\n",
       "      <th>施肥方案3</th>\n",
       "      <th>施肥方案4</th>\n",
       "    </tr>\n",
       "  </thead>\n",
       "  <tbody>\n",
       "    <tr>\n",
       "      <th>0</th>\n",
       "      <td>1</td>\n",
       "      <td>12.0</td>\n",
       "      <td>9.5</td>\n",
       "      <td>10.4</td>\n",
       "      <td>9.7</td>\n",
       "    </tr>\n",
       "    <tr>\n",
       "      <th>1</th>\n",
       "      <td>2</td>\n",
       "      <td>13.7</td>\n",
       "      <td>11.5</td>\n",
       "      <td>12.4</td>\n",
       "      <td>9.6</td>\n",
       "    </tr>\n",
       "    <tr>\n",
       "      <th>2</th>\n",
       "      <td>3</td>\n",
       "      <td>14.3</td>\n",
       "      <td>12.3</td>\n",
       "      <td>11.4</td>\n",
       "      <td>11.1</td>\n",
       "    </tr>\n",
       "    <tr>\n",
       "      <th>3</th>\n",
       "      <td>4</td>\n",
       "      <td>14.2</td>\n",
       "      <td>14.0</td>\n",
       "      <td>12.5</td>\n",
       "      <td>12.0</td>\n",
       "    </tr>\n",
       "    <tr>\n",
       "      <th>4</th>\n",
       "      <td>5</td>\n",
       "      <td>13.0</td>\n",
       "      <td>14.0</td>\n",
       "      <td>13.1</td>\n",
       "      <td>11.4</td>\n",
       "    </tr>\n",
       "  </tbody>\n",
       "</table>\n",
       "</div>"
      ],
      "text/plain": [
       "   品种  施肥方案1  施肥方案2  施肥方案3  施肥方案4\n",
       "0   1   12.0    9.5   10.4    9.7\n",
       "1   2   13.7   11.5   12.4    9.6\n",
       "2   3   14.3   12.3   11.4   11.1\n",
       "3   4   14.2   14.0   12.5   12.0\n",
       "4   5   13.0   14.0   13.1   11.4"
      ]
     },
     "execution_count": 37,
     "metadata": {},
     "output_type": "execute_result"
    }
   ],
   "source": [
    "df = pd.read_csv('./exercise/chap08/exercise8_4.csv', encoding='gbk') # 读取数据\n",
    "df"
   ]
  },
  {
   "cell_type": "code",
   "execution_count": 38,
   "metadata": {},
   "outputs": [
    {
     "data": {
      "text/html": [
       "<div>\n",
       "<style scoped>\n",
       "    .dataframe tbody tr th:only-of-type {\n",
       "        vertical-align: middle;\n",
       "    }\n",
       "\n",
       "    .dataframe tbody tr th {\n",
       "        vertical-align: top;\n",
       "    }\n",
       "\n",
       "    .dataframe thead th {\n",
       "        text-align: right;\n",
       "    }\n",
       "</style>\n",
       "<table border=\"1\" class=\"dataframe\">\n",
       "  <thead>\n",
       "    <tr style=\"text-align: right;\">\n",
       "      <th></th>\n",
       "      <th>品种</th>\n",
       "      <th>施肥方案</th>\n",
       "      <th>产量</th>\n",
       "    </tr>\n",
       "  </thead>\n",
       "  <tbody>\n",
       "    <tr>\n",
       "      <th>0</th>\n",
       "      <td>1</td>\n",
       "      <td>施肥方案1</td>\n",
       "      <td>12.0</td>\n",
       "    </tr>\n",
       "    <tr>\n",
       "      <th>1</th>\n",
       "      <td>2</td>\n",
       "      <td>施肥方案1</td>\n",
       "      <td>13.7</td>\n",
       "    </tr>\n",
       "    <tr>\n",
       "      <th>2</th>\n",
       "      <td>3</td>\n",
       "      <td>施肥方案1</td>\n",
       "      <td>14.3</td>\n",
       "    </tr>\n",
       "    <tr>\n",
       "      <th>3</th>\n",
       "      <td>4</td>\n",
       "      <td>施肥方案1</td>\n",
       "      <td>14.2</td>\n",
       "    </tr>\n",
       "    <tr>\n",
       "      <th>4</th>\n",
       "      <td>5</td>\n",
       "      <td>施肥方案1</td>\n",
       "      <td>13.0</td>\n",
       "    </tr>\n",
       "  </tbody>\n",
       "</table>\n",
       "</div>"
      ],
      "text/plain": [
       "   品种   施肥方案    产量\n",
       "0   1  施肥方案1  12.0\n",
       "1   2  施肥方案1  13.7\n",
       "2   3  施肥方案1  14.3\n",
       "3   4  施肥方案1  14.2\n",
       "4   5  施肥方案1  13.0"
      ]
     },
     "execution_count": 38,
     "metadata": {},
     "output_type": "execute_result"
    }
   ],
   "source": [
    "# (1) 检验不同品种和施肥方案对产量的影响是否显著（α=0.05）。\n",
    "df_melt = pd.melt(\n",
    "    df, id_vars=['品种'], value_vars=['施肥方案1', '施肥方案2', '施肥方案3', '施肥方案4'],\n",
    "    value_name='产量', var_name='施肥方案'\n",
    ") # 数据转换\n",
    "df_melt.head() # 显示前5行数据"
   ]
  },
  {
   "attachments": {},
   "cell_type": "markdown",
   "metadata": {},
   "source": [
    "提出对于品种的假设：\n",
    "- $H_0: \\alpha_1 = \\cdots = \\alpha_i, i = 1, 2, 3, 4, 5$(品种对产量的影响不显著) \n",
    "- $H_1: \\alpha_1, \\cdots, \\alpha_i$ 不全相等(品种对产量的影响显著)\n",
    "\n",
    "提出对于施肥方案的假设：\n",
    "- $H_0: \\beta_1 = \\cdots = \\beta_j, j = 1, 2, 3, 4$(施肥方案对产量的影响不显著)\n",
    "- $H_1: \\beta_1, \\cdots, \\beta_j$ 不全相等(施肥方案对产量的影响显著)\n"
   ]
  },
  {
   "cell_type": "code",
   "execution_count": 48,
   "metadata": {},
   "outputs": [
    {
     "data": {
      "text/html": [
       "<div>\n",
       "<style scoped>\n",
       "    .dataframe tbody tr th:only-of-type {\n",
       "        vertical-align: middle;\n",
       "    }\n",
       "\n",
       "    .dataframe tbody tr th {\n",
       "        vertical-align: top;\n",
       "    }\n",
       "\n",
       "    .dataframe thead th {\n",
       "        text-align: right;\n",
       "    }\n",
       "</style>\n",
       "<table border=\"1\" class=\"dataframe\">\n",
       "  <thead>\n",
       "    <tr style=\"text-align: right;\">\n",
       "      <th></th>\n",
       "      <th>df</th>\n",
       "      <th>sum_sq</th>\n",
       "      <th>mean_sq</th>\n",
       "      <th>F</th>\n",
       "      <th>PR(&gt;F)</th>\n",
       "    </tr>\n",
       "  </thead>\n",
       "  <tbody>\n",
       "    <tr>\n",
       "      <th>C(品种)</th>\n",
       "      <td>4.0</td>\n",
       "      <td>19.0670</td>\n",
       "      <td>4.766750</td>\n",
       "      <td>7.239716</td>\n",
       "      <td>0.003315</td>\n",
       "    </tr>\n",
       "    <tr>\n",
       "      <th>施肥方案</th>\n",
       "      <td>3.0</td>\n",
       "      <td>18.1815</td>\n",
       "      <td>6.060500</td>\n",
       "      <td>9.204658</td>\n",
       "      <td>0.001949</td>\n",
       "    </tr>\n",
       "    <tr>\n",
       "      <th>Residual</th>\n",
       "      <td>12.0</td>\n",
       "      <td>7.9010</td>\n",
       "      <td>0.658417</td>\n",
       "      <td>NaN</td>\n",
       "      <td>NaN</td>\n",
       "    </tr>\n",
       "  </tbody>\n",
       "</table>\n",
       "</div>"
      ],
      "text/plain": [
       "            df   sum_sq   mean_sq         F    PR(>F)\n",
       "C(品种)      4.0  19.0670  4.766750  7.239716  0.003315\n",
       "施肥方案       3.0  18.1815  6.060500  9.204658  0.001949\n",
       "Residual  12.0   7.9010  0.658417       NaN       NaN"
      ]
     },
     "execution_count": 48,
     "metadata": {},
     "output_type": "execute_result"
    }
   ],
   "source": [
    "model = ols('产量 ~ C(品种) + 施肥方案', data=df_melt).fit() # 拟合方差分析模型\n",
    "anova_table = anova_lm(model, typ=1) # 方差分析表\n",
    "anova_table # 显示方差分析表"
   ]
  },
  {
   "attachments": {},
   "cell_type": "markdown",
   "metadata": {},
   "source": [
    "由于P<0.05, 所以均拒绝原假设。"
   ]
  },
  {
   "cell_type": "code",
   "execution_count": 43,
   "metadata": {},
   "outputs": [
    {
     "data": {
      "text/html": [
       "<table class=\"simpletable\">\n",
       "<caption>OLS Regression Results</caption>\n",
       "<tr>\n",
       "  <th>Dep. Variable:</th>           <td>产量</td>        <th>  R-squared:         </th> <td>   0.825</td>\n",
       "</tr>\n",
       "<tr>\n",
       "  <th>Model:</th>                   <td>OLS</td>       <th>  Adj. R-squared:    </th> <td>   0.723</td>\n",
       "</tr>\n",
       "<tr>\n",
       "  <th>Method:</th>             <td>Least Squares</td>  <th>  F-statistic:       </th> <td>   8.082</td>\n",
       "</tr>\n",
       "<tr>\n",
       "  <th>Date:</th>             <td>Tue, 16 May 2023</td> <th>  Prob (F-statistic):</th> <td>0.000955</td>\n",
       "</tr>\n",
       "<tr>\n",
       "  <th>Time:</th>                 <td>11:06:20</td>     <th>  Log-Likelihood:    </th> <td> -19.091</td>\n",
       "</tr>\n",
       "<tr>\n",
       "  <th>No. Observations:</th>      <td>    20</td>      <th>  AIC:               </th> <td>   54.18</td>\n",
       "</tr>\n",
       "<tr>\n",
       "  <th>Df Residuals:</th>          <td>    12</td>      <th>  BIC:               </th> <td>   62.15</td>\n",
       "</tr>\n",
       "<tr>\n",
       "  <th>Df Model:</th>              <td>     7</td>      <th>                     </th>     <td> </td>   \n",
       "</tr>\n",
       "<tr>\n",
       "  <th>Covariance Type:</th>      <td>nonrobust</td>    <th>                     </th>     <td> </td>   \n",
       "</tr>\n",
       "</table>\n",
       "<table class=\"simpletable\">\n",
       "<tr>\n",
       "        <td></td>           <th>coef</th>     <th>std err</th>      <th>t</th>      <th>P>|t|</th>  <th>[0.025</th>    <th>0.975]</th>  \n",
       "</tr>\n",
       "<tr>\n",
       "  <th>Intercept</th>     <td>   11.7350</td> <td>    0.513</td> <td>   22.867</td> <td> 0.000</td> <td>   10.617</td> <td>   12.853</td>\n",
       "</tr>\n",
       "<tr>\n",
       "  <th>C(品种)[T.2]</th>    <td>    1.4000</td> <td>    0.574</td> <td>    2.440</td> <td> 0.031</td> <td>    0.150</td> <td>    2.650</td>\n",
       "</tr>\n",
       "<tr>\n",
       "  <th>C(品种)[T.3]</th>    <td>    1.8750</td> <td>    0.574</td> <td>    3.268</td> <td> 0.007</td> <td>    0.625</td> <td>    3.125</td>\n",
       "</tr>\n",
       "<tr>\n",
       "  <th>C(品种)[T.4]</th>    <td>    2.7750</td> <td>    0.574</td> <td>    4.836</td> <td> 0.000</td> <td>    1.525</td> <td>    4.025</td>\n",
       "</tr>\n",
       "<tr>\n",
       "  <th>C(品种)[T.5]</th>    <td>    2.4750</td> <td>    0.574</td> <td>    4.314</td> <td> 0.001</td> <td>    1.225</td> <td>    3.725</td>\n",
       "</tr>\n",
       "<tr>\n",
       "  <th>施肥方案[T.施肥方案2]</th> <td>   -1.1800</td> <td>    0.513</td> <td>   -2.299</td> <td> 0.040</td> <td>   -2.298</td> <td>   -0.062</td>\n",
       "</tr>\n",
       "<tr>\n",
       "  <th>施肥方案[T.施肥方案3]</th> <td>   -1.4800</td> <td>    0.513</td> <td>   -2.884</td> <td> 0.014</td> <td>   -2.598</td> <td>   -0.362</td>\n",
       "</tr>\n",
       "<tr>\n",
       "  <th>施肥方案[T.施肥方案4]</th> <td>   -2.6800</td> <td>    0.513</td> <td>   -5.222</td> <td> 0.000</td> <td>   -3.798</td> <td>   -1.562</td>\n",
       "</tr>\n",
       "</table>\n",
       "<table class=\"simpletable\">\n",
       "<tr>\n",
       "  <th>Omnibus:</th>       <td> 1.845</td> <th>  Durbin-Watson:     </th> <td>   1.350</td>\n",
       "</tr>\n",
       "<tr>\n",
       "  <th>Prob(Omnibus):</th> <td> 0.398</td> <th>  Jarque-Bera (JB):  </th> <td>   1.241</td>\n",
       "</tr>\n",
       "<tr>\n",
       "  <th>Skew:</th>          <td>-0.353</td> <th>  Prob(JB):          </th> <td>   0.538</td>\n",
       "</tr>\n",
       "<tr>\n",
       "  <th>Kurtosis:</th>      <td> 2.004</td> <th>  Cond. No.          </th> <td>    6.42</td>\n",
       "</tr>\n",
       "</table><br/><br/>Notes:<br/>[1] Standard Errors assume that the covariance matrix of the errors is correctly specified."
      ],
      "text/plain": [
       "<class 'statsmodels.iolib.summary.Summary'>\n",
       "\"\"\"\n",
       "                            OLS Regression Results                            \n",
       "==============================================================================\n",
       "Dep. Variable:                     产量   R-squared:                       0.825\n",
       "Model:                            OLS   Adj. R-squared:                  0.723\n",
       "Method:                 Least Squares   F-statistic:                     8.082\n",
       "Date:                Tue, 16 May 2023   Prob (F-statistic):           0.000955\n",
       "Time:                        11:06:20   Log-Likelihood:                -19.091\n",
       "No. Observations:                  20   AIC:                             54.18\n",
       "Df Residuals:                      12   BIC:                             62.15\n",
       "Df Model:                           7                                         \n",
       "Covariance Type:            nonrobust                                         \n",
       "=================================================================================\n",
       "                    coef    std err          t      P>|t|      [0.025      0.975]\n",
       "---------------------------------------------------------------------------------\n",
       "Intercept        11.7350      0.513     22.867      0.000      10.617      12.853\n",
       "C(品种)[T.2]        1.4000      0.574      2.440      0.031       0.150       2.650\n",
       "C(品种)[T.3]        1.8750      0.574      3.268      0.007       0.625       3.125\n",
       "C(品种)[T.4]        2.7750      0.574      4.836      0.000       1.525       4.025\n",
       "C(品种)[T.5]        2.4750      0.574      4.314      0.001       1.225       3.725\n",
       "施肥方案[T.施肥方案2]    -1.1800      0.513     -2.299      0.040      -2.298      -0.062\n",
       "施肥方案[T.施肥方案3]    -1.4800      0.513     -2.884      0.014      -2.598      -0.362\n",
       "施肥方案[T.施肥方案4]    -2.6800      0.513     -5.222      0.000      -3.798      -1.562\n",
       "==============================================================================\n",
       "Omnibus:                        1.845   Durbin-Watson:                   1.350\n",
       "Prob(Omnibus):                  0.398   Jarque-Bera (JB):                1.241\n",
       "Skew:                          -0.353   Prob(JB):                        0.538\n",
       "Kurtosis:                       2.004   Cond. No.                         6.42\n",
       "==============================================================================\n",
       "\n",
       "Notes:\n",
       "[1] Standard Errors assume that the covariance matrix of the errors is correctly specified.\n",
       "\"\"\""
      ]
     },
     "execution_count": 43,
     "metadata": {},
     "output_type": "execute_result"
    }
   ],
   "source": [
    "model.summary() # 显示模型汇总信息"
   ]
  },
  {
   "cell_type": "code",
   "execution_count": 49,
   "metadata": {},
   "outputs": [
    {
     "data": {
      "text/html": [
       "<div>\n",
       "<style scoped>\n",
       "    .dataframe tbody tr th:only-of-type {\n",
       "        vertical-align: middle;\n",
       "    }\n",
       "\n",
       "    .dataframe tbody tr th {\n",
       "        vertical-align: top;\n",
       "    }\n",
       "\n",
       "    .dataframe thead th {\n",
       "        text-align: right;\n",
       "    }\n",
       "</style>\n",
       "<table border=\"1\" class=\"dataframe\">\n",
       "  <thead>\n",
       "    <tr style=\"text-align: right;\">\n",
       "      <th></th>\n",
       "      <th>df</th>\n",
       "      <th>sum_sq</th>\n",
       "      <th>mean_sq</th>\n",
       "      <th>F</th>\n",
       "      <th>PR(&gt;F)</th>\n",
       "      <th>eta_sq_part</th>\n",
       "    </tr>\n",
       "  </thead>\n",
       "  <tbody>\n",
       "    <tr>\n",
       "      <th>C(品种)</th>\n",
       "      <td>4.0</td>\n",
       "      <td>19.0670</td>\n",
       "      <td>4.766750</td>\n",
       "      <td>7.239716</td>\n",
       "      <td>0.003315</td>\n",
       "      <td>0.707023</td>\n",
       "    </tr>\n",
       "    <tr>\n",
       "      <th>施肥方案</th>\n",
       "      <td>3.0</td>\n",
       "      <td>18.1815</td>\n",
       "      <td>6.060500</td>\n",
       "      <td>9.204658</td>\n",
       "      <td>0.001949</td>\n",
       "      <td>0.697077</td>\n",
       "    </tr>\n",
       "    <tr>\n",
       "      <th>Residual</th>\n",
       "      <td>12.0</td>\n",
       "      <td>7.9010</td>\n",
       "      <td>0.658417</td>\n",
       "      <td>NaN</td>\n",
       "      <td>NaN</td>\n",
       "      <td>NaN</td>\n",
       "    </tr>\n",
       "  </tbody>\n",
       "</table>\n",
       "</div>"
      ],
      "text/plain": [
       "            df   sum_sq   mean_sq         F    PR(>F)  eta_sq_part\n",
       "C(品种)      4.0  19.0670  4.766750  7.239716  0.003315     0.707023\n",
       "施肥方案       3.0  18.1815  6.060500  9.204658  0.001949     0.697077\n",
       "Residual  12.0   7.9010  0.658417       NaN       NaN          NaN"
      ]
     },
     "execution_count": 49,
     "metadata": {},
     "output_type": "execute_result"
    }
   ],
   "source": [
    "# (2) 计算偏效应量并进行分析。\n",
    "anova_table['eta_sq_part'] = anova_table['sum_sq'] / (anova_table['sum_sq'] + anova_table.loc['Residual', 'sum_sq']) # 计算偏效应量\n",
    "anova_table.loc['Residual', 'eta_sq_part'] = np.nan # 将残差的偏效应量设置为缺失值\n",
    "anova_table # 显示方差分析表"
   ]
  },
  {
   "attachments": {},
   "cell_type": "markdown",
   "metadata": {},
   "source": [
    "偏效应分析结果表明：\n",
    "- 在排除施肥方案的影响后，品种因子解释了产量误差的70.70%\n",
    "- 在排除品种的影响后，施肥方案因子解释了产量误差的69.71%"
   ]
  },
  {
   "attachments": {},
   "cell_type": "markdown",
   "metadata": {},
   "source": [
    "### 8.5"
   ]
  },
  {
   "cell_type": "code",
   "execution_count": 50,
   "metadata": {},
   "outputs": [
    {
     "data": {
      "text/html": [
       "<div>\n",
       "<style scoped>\n",
       "    .dataframe tbody tr th:only-of-type {\n",
       "        vertical-align: middle;\n",
       "    }\n",
       "\n",
       "    .dataframe tbody tr th {\n",
       "        vertical-align: top;\n",
       "    }\n",
       "\n",
       "    .dataframe thead th {\n",
       "        text-align: right;\n",
       "    }\n",
       "</style>\n",
       "<table border=\"1\" class=\"dataframe\">\n",
       "  <thead>\n",
       "    <tr style=\"text-align: right;\">\n",
       "      <th></th>\n",
       "      <th>时段</th>\n",
       "      <th>路段1</th>\n",
       "      <th>路段2</th>\n",
       "      <th>路段3</th>\n",
       "    </tr>\n",
       "  </thead>\n",
       "  <tbody>\n",
       "    <tr>\n",
       "      <th>0</th>\n",
       "      <td>高峰期</td>\n",
       "      <td>36.5</td>\n",
       "      <td>28.1</td>\n",
       "      <td>32.4</td>\n",
       "    </tr>\n",
       "    <tr>\n",
       "      <th>1</th>\n",
       "      <td>高峰期</td>\n",
       "      <td>34.1</td>\n",
       "      <td>29.9</td>\n",
       "      <td>33.0</td>\n",
       "    </tr>\n",
       "    <tr>\n",
       "      <th>2</th>\n",
       "      <td>高峰期</td>\n",
       "      <td>37.2</td>\n",
       "      <td>32.2</td>\n",
       "      <td>36.2</td>\n",
       "    </tr>\n",
       "    <tr>\n",
       "      <th>3</th>\n",
       "      <td>高峰期</td>\n",
       "      <td>35.6</td>\n",
       "      <td>31.5</td>\n",
       "      <td>35.5</td>\n",
       "    </tr>\n",
       "    <tr>\n",
       "      <th>4</th>\n",
       "      <td>高峰期</td>\n",
       "      <td>38.0</td>\n",
       "      <td>30.1</td>\n",
       "      <td>35.1</td>\n",
       "    </tr>\n",
       "    <tr>\n",
       "      <th>5</th>\n",
       "      <td>非高峰期</td>\n",
       "      <td>30.6</td>\n",
       "      <td>27.6</td>\n",
       "      <td>31.8</td>\n",
       "    </tr>\n",
       "    <tr>\n",
       "      <th>6</th>\n",
       "      <td>非高峰期</td>\n",
       "      <td>27.9</td>\n",
       "      <td>24.3</td>\n",
       "      <td>28.0</td>\n",
       "    </tr>\n",
       "    <tr>\n",
       "      <th>7</th>\n",
       "      <td>非高峰期</td>\n",
       "      <td>32.4</td>\n",
       "      <td>22.0</td>\n",
       "      <td>26.7</td>\n",
       "    </tr>\n",
       "    <tr>\n",
       "      <th>8</th>\n",
       "      <td>非高峰期</td>\n",
       "      <td>31.8</td>\n",
       "      <td>25.4</td>\n",
       "      <td>29.3</td>\n",
       "    </tr>\n",
       "    <tr>\n",
       "      <th>9</th>\n",
       "      <td>非高峰期</td>\n",
       "      <td>27.3</td>\n",
       "      <td>21.7</td>\n",
       "      <td>25.6</td>\n",
       "    </tr>\n",
       "  </tbody>\n",
       "</table>\n",
       "</div>"
      ],
      "text/plain": [
       "     时段   路段1   路段2   路段3\n",
       "0   高峰期  36.5  28.1  32.4\n",
       "1   高峰期  34.1  29.9  33.0\n",
       "2   高峰期  37.2  32.2  36.2\n",
       "3   高峰期  35.6  31.5  35.5\n",
       "4   高峰期  38.0  30.1  35.1\n",
       "5  非高峰期  30.6  27.6  31.8\n",
       "6  非高峰期  27.9  24.3  28.0\n",
       "7  非高峰期  32.4  22.0  26.7\n",
       "8  非高峰期  31.8  25.4  29.3\n",
       "9  非高峰期  27.3  21.7  25.6"
      ]
     },
     "execution_count": 50,
     "metadata": {},
     "output_type": "execute_result"
    }
   ],
   "source": [
    "df = pd.read_csv('./exercise/chap08/exercise8_5.csv', encoding='gbk') # 读取数据\n",
    "df"
   ]
  },
  {
   "cell_type": "code",
   "execution_count": 51,
   "metadata": {},
   "outputs": [
    {
     "data": {
      "text/html": [
       "<div>\n",
       "<style scoped>\n",
       "    .dataframe tbody tr th:only-of-type {\n",
       "        vertical-align: middle;\n",
       "    }\n",
       "\n",
       "    .dataframe tbody tr th {\n",
       "        vertical-align: top;\n",
       "    }\n",
       "\n",
       "    .dataframe thead th {\n",
       "        text-align: right;\n",
       "    }\n",
       "</style>\n",
       "<table border=\"1\" class=\"dataframe\">\n",
       "  <thead>\n",
       "    <tr style=\"text-align: right;\">\n",
       "      <th></th>\n",
       "      <th>时段</th>\n",
       "      <th>路段</th>\n",
       "      <th>行车时间</th>\n",
       "    </tr>\n",
       "  </thead>\n",
       "  <tbody>\n",
       "    <tr>\n",
       "      <th>0</th>\n",
       "      <td>高峰期</td>\n",
       "      <td>路段1</td>\n",
       "      <td>36.5</td>\n",
       "    </tr>\n",
       "    <tr>\n",
       "      <th>1</th>\n",
       "      <td>高峰期</td>\n",
       "      <td>路段1</td>\n",
       "      <td>34.1</td>\n",
       "    </tr>\n",
       "    <tr>\n",
       "      <th>2</th>\n",
       "      <td>高峰期</td>\n",
       "      <td>路段1</td>\n",
       "      <td>37.2</td>\n",
       "    </tr>\n",
       "    <tr>\n",
       "      <th>3</th>\n",
       "      <td>高峰期</td>\n",
       "      <td>路段1</td>\n",
       "      <td>35.6</td>\n",
       "    </tr>\n",
       "    <tr>\n",
       "      <th>4</th>\n",
       "      <td>高峰期</td>\n",
       "      <td>路段1</td>\n",
       "      <td>38.0</td>\n",
       "    </tr>\n",
       "  </tbody>\n",
       "</table>\n",
       "</div>"
      ],
      "text/plain": [
       "    时段   路段  行车时间\n",
       "0  高峰期  路段1  36.5\n",
       "1  高峰期  路段1  34.1\n",
       "2  高峰期  路段1  37.2\n",
       "3  高峰期  路段1  35.6\n",
       "4  高峰期  路段1  38.0"
      ]
     },
     "execution_count": 51,
     "metadata": {},
     "output_type": "execute_result"
    }
   ],
   "source": [
    "# (1) 分析路段、时段以及路段与时段交互作用对行车时间的影响（α=0.05）。\n",
    "df_melt = pd.melt(\n",
    "    df, id_vars=['时段'], value_vars=['路段1', '路段2', '路段3'],\n",
    "    value_name='行车时间', var_name='路段'\n",
    ") # 数据转换\n",
    "df_melt.head() # 显示前5行数据"
   ]
  },
  {
   "attachments": {},
   "cell_type": "markdown",
   "metadata": {},
   "source": [
    "提出对于时段的假设：\n",
    "- $H_0: \\alpha_1 = \\alpha_2 = 0$(时段对行车时间的影响不显著)\n",
    "- $H_1: \\alpha_1, \\alpha_2$ 至少有一个不等于0(时段对行车时间的影响显著)\n",
    "\n",
    "提出对于路段的假设：\n",
    "- $H_0: \\beta_1 = \\beta_2 = \\beta_3 = 0$(路段对行车时间的影响不显著)\n",
    "- $H_1: \\beta_1, \\beta_2, \\beta_3$ 至少有一个不等于0(路段对行车时间的影响显著)\n",
    "\n",
    "提出对于时段与路段交互作用的假设：\n",
    "- $H_0: \\gamma_{ij} = 0, i = 1, 2, j = 1, 2, 3$(时段与路段交互作用对行车时间的影响不显著)\n",
    "- $H_1: \\gamma_{ij}$ 至少有一个不等于0(时段与路段交互作用对行车时间的影响显著) "
   ]
  },
  {
   "cell_type": "code",
   "execution_count": 53,
   "metadata": {},
   "outputs": [
    {
     "data": {
      "text/html": [
       "<div>\n",
       "<style scoped>\n",
       "    .dataframe tbody tr th:only-of-type {\n",
       "        vertical-align: middle;\n",
       "    }\n",
       "\n",
       "    .dataframe tbody tr th {\n",
       "        vertical-align: top;\n",
       "    }\n",
       "\n",
       "    .dataframe thead th {\n",
       "        text-align: right;\n",
       "    }\n",
       "</style>\n",
       "<table border=\"1\" class=\"dataframe\">\n",
       "  <thead>\n",
       "    <tr style=\"text-align: right;\">\n",
       "      <th></th>\n",
       "      <th>df</th>\n",
       "      <th>sum_sq</th>\n",
       "      <th>mean_sq</th>\n",
       "      <th>F</th>\n",
       "      <th>PR(&gt;F)</th>\n",
       "    </tr>\n",
       "  </thead>\n",
       "  <tbody>\n",
       "    <tr>\n",
       "      <th>时段</th>\n",
       "      <td>1.0</td>\n",
       "      <td>288.300000</td>\n",
       "      <td>288.300000</td>\n",
       "      <td>70.331368</td>\n",
       "      <td>1.355779e-08</td>\n",
       "    </tr>\n",
       "    <tr>\n",
       "      <th>路段</th>\n",
       "      <td>2.0</td>\n",
       "      <td>180.514667</td>\n",
       "      <td>90.257333</td>\n",
       "      <td>22.018459</td>\n",
       "      <td>3.711926e-06</td>\n",
       "    </tr>\n",
       "    <tr>\n",
       "      <th>时段:路段</th>\n",
       "      <td>2.0</td>\n",
       "      <td>0.024000</td>\n",
       "      <td>0.012000</td>\n",
       "      <td>0.002927</td>\n",
       "      <td>9.970772e-01</td>\n",
       "    </tr>\n",
       "    <tr>\n",
       "      <th>Residual</th>\n",
       "      <td>24.0</td>\n",
       "      <td>98.380000</td>\n",
       "      <td>4.099167</td>\n",
       "      <td>NaN</td>\n",
       "      <td>NaN</td>\n",
       "    </tr>\n",
       "  </tbody>\n",
       "</table>\n",
       "</div>"
      ],
      "text/plain": [
       "            df      sum_sq     mean_sq          F        PR(>F)\n",
       "时段         1.0  288.300000  288.300000  70.331368  1.355779e-08\n",
       "路段         2.0  180.514667   90.257333  22.018459  3.711926e-06\n",
       "时段:路段      2.0    0.024000    0.012000   0.002927  9.970772e-01\n",
       "Residual  24.0   98.380000    4.099167        NaN           NaN"
      ]
     },
     "execution_count": 53,
     "metadata": {},
     "output_type": "execute_result"
    }
   ],
   "source": [
    "model = ols('行车时间 ~ 时段 + 路段 + 时段:路段', data=df_melt).fit() # 拟合方差分析模型\n",
    "anova_table = anova_lm(model, typ=1) # 方差分析表\n",
    "anova_table # 显示方差分析表"
   ]
  },
  {
   "attachments": {},
   "cell_type": "markdown",
   "metadata": {},
   "source": [
    "结果显示：\n",
    "- 对于时段、路段效应检验，P<0.05，所以拒绝原假设。\n",
    "- 对于交互作用效应检验，P>0.05，所以不能拒绝原假设。"
   ]
  },
  {
   "cell_type": "code",
   "execution_count": 54,
   "metadata": {},
   "outputs": [
    {
     "data": {
      "text/html": [
       "<table class=\"simpletable\">\n",
       "<caption>OLS Regression Results</caption>\n",
       "<tr>\n",
       "  <th>Dep. Variable:</th>          <td>行车时间</td>       <th>  R-squared:         </th> <td>   0.827</td>\n",
       "</tr>\n",
       "<tr>\n",
       "  <th>Model:</th>                   <td>OLS</td>       <th>  Adj. R-squared:    </th> <td>   0.790</td>\n",
       "</tr>\n",
       "<tr>\n",
       "  <th>Method:</th>             <td>Least Squares</td>  <th>  F-statistic:       </th> <td>   22.87</td>\n",
       "</tr>\n",
       "<tr>\n",
       "  <th>Date:</th>             <td>Tue, 16 May 2023</td> <th>  Prob (F-statistic):</th> <td>2.07e-08</td>\n",
       "</tr>\n",
       "<tr>\n",
       "  <th>Time:</th>                 <td>11:22:03</td>     <th>  Log-Likelihood:    </th> <td> -60.383</td>\n",
       "</tr>\n",
       "<tr>\n",
       "  <th>No. Observations:</th>      <td>    30</td>      <th>  AIC:               </th> <td>   132.8</td>\n",
       "</tr>\n",
       "<tr>\n",
       "  <th>Df Residuals:</th>          <td>    24</td>      <th>  BIC:               </th> <td>   141.2</td>\n",
       "</tr>\n",
       "<tr>\n",
       "  <th>Df Model:</th>              <td>     5</td>      <th>                     </th>     <td> </td>   \n",
       "</tr>\n",
       "<tr>\n",
       "  <th>Covariance Type:</th>      <td>nonrobust</td>    <th>                     </th>     <td> </td>   \n",
       "</tr>\n",
       "</table>\n",
       "<table class=\"simpletable\">\n",
       "<tr>\n",
       "           <td></td>              <th>coef</th>     <th>std err</th>      <th>t</th>      <th>P>|t|</th>  <th>[0.025</th>    <th>0.975]</th>  \n",
       "</tr>\n",
       "<tr>\n",
       "  <th>Intercept</th>           <td>   30.0000</td> <td>    0.905</td> <td>   33.133</td> <td> 0.000</td> <td>   28.131</td> <td>   31.869</td>\n",
       "</tr>\n",
       "<tr>\n",
       "  <th>时段[T.高峰期]</th>           <td>    6.2800</td> <td>    1.280</td> <td>    4.904</td> <td> 0.000</td> <td>    3.637</td> <td>    8.923</td>\n",
       "</tr>\n",
       "<tr>\n",
       "  <th>路段[T.路段2]</th>           <td>   -5.8000</td> <td>    1.280</td> <td>   -4.529</td> <td> 0.000</td> <td>   -8.443</td> <td>   -3.157</td>\n",
       "</tr>\n",
       "<tr>\n",
       "  <th>路段[T.路段3]</th>           <td>   -1.7200</td> <td>    1.280</td> <td>   -1.343</td> <td> 0.192</td> <td>   -4.363</td> <td>    0.923</td>\n",
       "</tr>\n",
       "<tr>\n",
       "  <th>时段[T.高峰期]:路段[T.路段2]</th> <td>   -0.1200</td> <td>    1.811</td> <td>   -0.066</td> <td> 0.948</td> <td>   -3.857</td> <td>    3.617</td>\n",
       "</tr>\n",
       "<tr>\n",
       "  <th>时段[T.高峰期]:路段[T.路段3]</th> <td>   -0.1200</td> <td>    1.811</td> <td>   -0.066</td> <td> 0.948</td> <td>   -3.857</td> <td>    3.617</td>\n",
       "</tr>\n",
       "</table>\n",
       "<table class=\"simpletable\">\n",
       "<tr>\n",
       "  <th>Omnibus:</th>       <td> 2.972</td> <th>  Durbin-Watson:     </th> <td>   1.985</td>\n",
       "</tr>\n",
       "<tr>\n",
       "  <th>Prob(Omnibus):</th> <td> 0.226</td> <th>  Jarque-Bera (JB):  </th> <td>   1.391</td>\n",
       "</tr>\n",
       "<tr>\n",
       "  <th>Skew:</th>          <td> 0.078</td> <th>  Prob(JB):          </th> <td>   0.499</td>\n",
       "</tr>\n",
       "<tr>\n",
       "  <th>Kurtosis:</th>      <td> 1.957</td> <th>  Cond. No.          </th> <td>    9.77</td>\n",
       "</tr>\n",
       "</table><br/><br/>Notes:<br/>[1] Standard Errors assume that the covariance matrix of the errors is correctly specified."
      ],
      "text/plain": [
       "<class 'statsmodels.iolib.summary.Summary'>\n",
       "\"\"\"\n",
       "                            OLS Regression Results                            \n",
       "==============================================================================\n",
       "Dep. Variable:                   行车时间   R-squared:                       0.827\n",
       "Model:                            OLS   Adj. R-squared:                  0.790\n",
       "Method:                 Least Squares   F-statistic:                     22.87\n",
       "Date:                Tue, 16 May 2023   Prob (F-statistic):           2.07e-08\n",
       "Time:                        11:22:03   Log-Likelihood:                -60.383\n",
       "No. Observations:                  30   AIC:                             132.8\n",
       "Df Residuals:                      24   BIC:                             141.2\n",
       "Df Model:                           5                                         \n",
       "Covariance Type:            nonrobust                                         \n",
       "=======================================================================================\n",
       "                          coef    std err          t      P>|t|      [0.025      0.975]\n",
       "---------------------------------------------------------------------------------------\n",
       "Intercept              30.0000      0.905     33.133      0.000      28.131      31.869\n",
       "时段[T.高峰期]               6.2800      1.280      4.904      0.000       3.637       8.923\n",
       "路段[T.路段2]              -5.8000      1.280     -4.529      0.000      -8.443      -3.157\n",
       "路段[T.路段3]              -1.7200      1.280     -1.343      0.192      -4.363       0.923\n",
       "时段[T.高峰期]:路段[T.路段2]    -0.1200      1.811     -0.066      0.948      -3.857       3.617\n",
       "时段[T.高峰期]:路段[T.路段3]    -0.1200      1.811     -0.066      0.948      -3.857       3.617\n",
       "==============================================================================\n",
       "Omnibus:                        2.972   Durbin-Watson:                   1.985\n",
       "Prob(Omnibus):                  0.226   Jarque-Bera (JB):                1.391\n",
       "Skew:                           0.078   Prob(JB):                        0.499\n",
       "Kurtosis:                       1.957   Cond. No.                         9.77\n",
       "==============================================================================\n",
       "\n",
       "Notes:\n",
       "[1] Standard Errors assume that the covariance matrix of the errors is correctly specified.\n",
       "\"\"\""
      ]
     },
     "execution_count": 54,
     "metadata": {},
     "output_type": "execute_result"
    }
   ],
   "source": [
    "model.summary() # 显示模型汇总信息"
   ]
  },
  {
   "cell_type": "code",
   "execution_count": 55,
   "metadata": {},
   "outputs": [
    {
     "data": {
      "text/html": [
       "<div>\n",
       "<style scoped>\n",
       "    .dataframe tbody tr th:only-of-type {\n",
       "        vertical-align: middle;\n",
       "    }\n",
       "\n",
       "    .dataframe tbody tr th {\n",
       "        vertical-align: top;\n",
       "    }\n",
       "\n",
       "    .dataframe thead th {\n",
       "        text-align: right;\n",
       "    }\n",
       "</style>\n",
       "<table border=\"1\" class=\"dataframe\">\n",
       "  <thead>\n",
       "    <tr style=\"text-align: right;\">\n",
       "      <th></th>\n",
       "      <th>df</th>\n",
       "      <th>sum_sq</th>\n",
       "      <th>mean_sq</th>\n",
       "      <th>F</th>\n",
       "      <th>PR(&gt;F)</th>\n",
       "      <th>eta_sq_part</th>\n",
       "    </tr>\n",
       "  </thead>\n",
       "  <tbody>\n",
       "    <tr>\n",
       "      <th>时段</th>\n",
       "      <td>1.0</td>\n",
       "      <td>288.300000</td>\n",
       "      <td>288.300000</td>\n",
       "      <td>70.331368</td>\n",
       "      <td>1.355779e-08</td>\n",
       "      <td>0.745578</td>\n",
       "    </tr>\n",
       "    <tr>\n",
       "      <th>路段</th>\n",
       "      <td>2.0</td>\n",
       "      <td>180.514667</td>\n",
       "      <td>90.257333</td>\n",
       "      <td>22.018459</td>\n",
       "      <td>3.711926e-06</td>\n",
       "      <td>0.647250</td>\n",
       "    </tr>\n",
       "    <tr>\n",
       "      <th>时段:路段</th>\n",
       "      <td>2.0</td>\n",
       "      <td>0.024000</td>\n",
       "      <td>0.012000</td>\n",
       "      <td>0.002927</td>\n",
       "      <td>9.970772e-01</td>\n",
       "      <td>0.000244</td>\n",
       "    </tr>\n",
       "    <tr>\n",
       "      <th>Residual</th>\n",
       "      <td>24.0</td>\n",
       "      <td>98.380000</td>\n",
       "      <td>4.099167</td>\n",
       "      <td>NaN</td>\n",
       "      <td>NaN</td>\n",
       "      <td>NaN</td>\n",
       "    </tr>\n",
       "  </tbody>\n",
       "</table>\n",
       "</div>"
      ],
      "text/plain": [
       "            df      sum_sq     mean_sq          F        PR(>F)  eta_sq_part\n",
       "时段         1.0  288.300000  288.300000  70.331368  1.355779e-08     0.745578\n",
       "路段         2.0  180.514667   90.257333  22.018459  3.711926e-06     0.647250\n",
       "时段:路段      2.0    0.024000    0.012000   0.002927  9.970772e-01     0.000244\n",
       "Residual  24.0   98.380000    4.099167        NaN           NaN          NaN"
      ]
     },
     "execution_count": 55,
     "metadata": {},
     "output_type": "execute_result"
    }
   ],
   "source": [
    "# (2) 计算偏效应量并进行分析。\n",
    "anova_table['eta_sq_part'] = anova_table['sum_sq'] / (anova_table['sum_sq'] + anova_table.loc['Residual', 'sum_sq']) # 计算偏效应量\n",
    "anova_table.loc['Residual', 'eta_sq_part'] = np.nan # 将残差的偏效应量设置为缺失值\n",
    "anova_table # 显示方差分析表"
   ]
  },
  {
   "attachments": {},
   "cell_type": "markdown",
   "metadata": {},
   "source": [
    "偏效应分析结果表明：\n",
    "- 在排除路段和交互效应的影响后，时段因子解释了行车时间误差的74.56%\n",
    "- 在排除时段和交互效应的影响后，路段因子解释了行车时间误差的64.73%\n",
    "- 在排除时段和路段的影响后，交互效应因子解释了行车时间误差的0.024%"
   ]
  }
 ],
 "metadata": {
  "kernelspec": {
   "display_name": "base",
   "language": "python",
   "name": "python3"
  },
  "language_info": {
   "codemirror_mode": {
    "name": "ipython",
    "version": 3
   },
   "file_extension": ".py",
   "mimetype": "text/x-python",
   "name": "python",
   "nbconvert_exporter": "python",
   "pygments_lexer": "ipython3",
   "version": "3.10.10"
  },
  "orig_nbformat": 4
 },
 "nbformat": 4,
 "nbformat_minor": 2
}
