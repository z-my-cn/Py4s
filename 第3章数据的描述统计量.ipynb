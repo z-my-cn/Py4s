{
 "cells": [
  {
   "attachments": {},
   "cell_type": "markdown",
   "metadata": {},
   "source": [
    "# 第3章 数据的描述统计量"
   ]
  },
  {
   "attachments": {},
   "cell_type": "markdown",
   "metadata": {},
   "source": [
    "## 初始化"
   ]
  },
  {
   "cell_type": "code",
   "execution_count": 1,
   "metadata": {},
   "outputs": [],
   "source": [
    "# 本章需要用到的库\n",
    "import numpy as np # 导入numpy库\n",
    "import pandas as pd # 导入pandas库\n",
    "from scipy import stats # 导入scipy库stats模块\n",
    "import matplotlib.pyplot as plt # 导入matplotlib库\n",
    "import seaborn as sns # 导入seaborn库\n",
    "\n",
    "# 设置初始化\n",
    "plt.rcParams['font.sans-serif'] = ['SimHei'] # 用来正常显示中文标签\n",
    "plt.rcParams['axes.unicode_minus'] = False # 用来正常显示负号"
   ]
  },
  {
   "attachments": {},
   "cell_type": "markdown",
   "metadata": {},
   "source": [
    "## 3.1 描述水平的统计量"
   ]
  },
  {
   "attachments": {},
   "cell_type": "markdown",
   "metadata": {},
   "source": [
    "### 3.1.1 平均数"
   ]
  },
  {
   "cell_type": "code",
   "execution_count": 2,
   "metadata": {},
   "outputs": [
    {
     "data": {
      "text/html": [
       "<div>\n",
       "<style scoped>\n",
       "    .dataframe tbody tr th:only-of-type {\n",
       "        vertical-align: middle;\n",
       "    }\n",
       "\n",
       "    .dataframe tbody tr th {\n",
       "        vertical-align: top;\n",
       "    }\n",
       "\n",
       "    .dataframe thead th {\n",
       "        text-align: right;\n",
       "    }\n",
       "</style>\n",
       "<table border=\"1\" class=\"dataframe\">\n",
       "  <thead>\n",
       "    <tr style=\"text-align: right;\">\n",
       "      <th></th>\n",
       "      <th>分数</th>\n",
       "    </tr>\n",
       "  </thead>\n",
       "  <tbody>\n",
       "    <tr>\n",
       "      <th>0</th>\n",
       "      <td>85</td>\n",
       "    </tr>\n",
       "    <tr>\n",
       "      <th>1</th>\n",
       "      <td>55</td>\n",
       "    </tr>\n",
       "    <tr>\n",
       "      <th>2</th>\n",
       "      <td>91</td>\n",
       "    </tr>\n",
       "    <tr>\n",
       "      <th>3</th>\n",
       "      <td>66</td>\n",
       "    </tr>\n",
       "    <tr>\n",
       "      <th>4</th>\n",
       "      <td>79</td>\n",
       "    </tr>\n",
       "  </tbody>\n",
       "</table>\n",
       "</div>"
      ],
      "text/plain": [
       "   分数\n",
       "0  85\n",
       "1  55\n",
       "2  91\n",
       "3  66\n",
       "4  79"
      ]
     },
     "execution_count": 2,
     "metadata": {},
     "output_type": "execute_result"
    }
   ],
   "source": [
    "example3_1 = pd.read_csv('./pydata/chap03/example3_1.csv', encoding='gbk') # 读取数据\n",
    "example3_1.head() # 显示前5行数据"
   ]
  },
  {
   "cell_type": "code",
   "execution_count": 3,
   "metadata": {},
   "outputs": [
    {
     "data": {
      "text/plain": [
       "分数    80.0\n",
       "dtype: float64"
      ]
     },
     "execution_count": 3,
     "metadata": {},
     "output_type": "execute_result"
    }
   ],
   "source": [
    "pd.DataFrame.mean(example3_1) # 计算均值"
   ]
  },
  {
   "cell_type": "code",
   "execution_count": 4,
   "metadata": {},
   "outputs": [
    {
     "data": {
      "text/plain": [
       "分数    80.0\n",
       "dtype: float64"
      ]
     },
     "execution_count": 4,
     "metadata": {},
     "output_type": "execute_result"
    }
   ],
   "source": [
    "example3_1.mean() # 计算均值"
   ]
  },
  {
   "cell_type": "code",
   "execution_count": 5,
   "metadata": {},
   "outputs": [
    {
     "data": {
      "text/plain": [
       "80.0"
      ]
     },
     "execution_count": 5,
     "metadata": {},
     "output_type": "execute_result"
    }
   ],
   "source": [
    "np.mean(example3_1) # 计算均值 numpy库"
   ]
  },
  {
   "cell_type": "code",
   "execution_count": 9,
   "metadata": {},
   "outputs": [
    {
     "data": {
      "text/html": [
       "<div>\n",
       "<style scoped>\n",
       "    .dataframe tbody tr th:only-of-type {\n",
       "        vertical-align: middle;\n",
       "    }\n",
       "\n",
       "    .dataframe tbody tr th {\n",
       "        vertical-align: top;\n",
       "    }\n",
       "\n",
       "    .dataframe thead th {\n",
       "        text-align: right;\n",
       "    }\n",
       "</style>\n",
       "<table border=\"1\" class=\"dataframe\">\n",
       "  <thead>\n",
       "    <tr style=\"text-align: right;\">\n",
       "      <th></th>\n",
       "      <th>分组</th>\n",
       "      <th>组中值</th>\n",
       "      <th>人数</th>\n",
       "    </tr>\n",
       "  </thead>\n",
       "  <tbody>\n",
       "    <tr>\n",
       "      <th>0</th>\n",
       "      <td>60以下</td>\n",
       "      <td>55</td>\n",
       "      <td>3</td>\n",
       "    </tr>\n",
       "    <tr>\n",
       "      <th>1</th>\n",
       "      <td>60~70</td>\n",
       "      <td>65</td>\n",
       "      <td>4</td>\n",
       "    </tr>\n",
       "    <tr>\n",
       "      <th>2</th>\n",
       "      <td>70~80</td>\n",
       "      <td>75</td>\n",
       "      <td>4</td>\n",
       "    </tr>\n",
       "    <tr>\n",
       "      <th>3</th>\n",
       "      <td>80~90</td>\n",
       "      <td>85</td>\n",
       "      <td>10</td>\n",
       "    </tr>\n",
       "    <tr>\n",
       "      <th>4</th>\n",
       "      <td>90~100</td>\n",
       "      <td>95</td>\n",
       "      <td>9</td>\n",
       "    </tr>\n",
       "  </tbody>\n",
       "</table>\n",
       "</div>"
      ],
      "text/plain": [
       "       分组  组中值  人数\n",
       "0    60以下   55   3\n",
       "1   60~70   65   4\n",
       "2   70~80   75   4\n",
       "3   80~90   85  10\n",
       "4  90~100   95   9"
      ]
     },
     "execution_count": 9,
     "metadata": {},
     "output_type": "execute_result"
    }
   ],
   "source": [
    "example3_2 = pd.read_csv('./pydata/chap03/example3_2.csv', encoding='gbk') # 读取数据\n",
    "example3_2 # 显示数据"
   ]
  },
  {
   "cell_type": "code",
   "execution_count": 10,
   "metadata": {},
   "outputs": [
    {
     "data": {
      "text/plain": [
       "81.0"
      ]
     },
     "execution_count": 10,
     "metadata": {},
     "output_type": "execute_result"
    }
   ],
   "source": [
    "m = example3_2['组中值']\n",
    "f = example3_2['人数']\n",
    "np.average(m, weights=f) # 计算加权平均数"
   ]
  },
  {
   "attachments": {},
   "cell_type": "markdown",
   "metadata": {},
   "source": [
    "### 3.1.2 分位数"
   ]
  },
  {
   "cell_type": "code",
   "execution_count": 24,
   "metadata": {},
   "outputs": [
    {
     "data": {
      "text/plain": [
       "分数    85.0\n",
       "dtype: float64"
      ]
     },
     "execution_count": 24,
     "metadata": {},
     "output_type": "execute_result"
    }
   ],
   "source": [
    "example3_1.median() # 计算中位数"
   ]
  },
  {
   "cell_type": "code",
   "execution_count": 22,
   "metadata": {},
   "outputs": [
    {
     "data": {
      "text/html": [
       "<div>\n",
       "<style scoped>\n",
       "    .dataframe tbody tr th:only-of-type {\n",
       "        vertical-align: middle;\n",
       "    }\n",
       "\n",
       "    .dataframe tbody tr th {\n",
       "        vertical-align: top;\n",
       "    }\n",
       "\n",
       "    .dataframe thead th {\n",
       "        text-align: right;\n",
       "    }\n",
       "</style>\n",
       "<table border=\"1\" class=\"dataframe\">\n",
       "  <thead>\n",
       "    <tr style=\"text-align: right;\">\n",
       "      <th></th>\n",
       "      <th>分数</th>\n",
       "    </tr>\n",
       "  </thead>\n",
       "  <tbody>\n",
       "    <tr>\n",
       "      <th>0.25</th>\n",
       "      <td>70.5</td>\n",
       "    </tr>\n",
       "    <tr>\n",
       "      <th>0.75</th>\n",
       "      <td>90.0</td>\n",
       "    </tr>\n",
       "  </tbody>\n",
       "</table>\n",
       "</div>"
      ],
      "text/plain": [
       "        分数\n",
       "0.25  70.5\n",
       "0.75  90.0"
      ]
     },
     "execution_count": 22,
     "metadata": {},
     "output_type": "execute_result"
    }
   ],
   "source": [
    "pd.DataFrame.quantile(example3_1, q=[0.25, 0.75], interpolation='linear') # 计算四分位数 线性插值"
   ]
  },
  {
   "cell_type": "code",
   "execution_count": 26,
   "metadata": {},
   "outputs": [
    {
     "data": {
      "text/html": [
       "<div>\n",
       "<style scoped>\n",
       "    .dataframe tbody tr th:only-of-type {\n",
       "        vertical-align: middle;\n",
       "    }\n",
       "\n",
       "    .dataframe tbody tr th {\n",
       "        vertical-align: top;\n",
       "    }\n",
       "\n",
       "    .dataframe thead th {\n",
       "        text-align: right;\n",
       "    }\n",
       "</style>\n",
       "<table border=\"1\" class=\"dataframe\">\n",
       "  <thead>\n",
       "    <tr style=\"text-align: right;\">\n",
       "      <th></th>\n",
       "      <th>分数</th>\n",
       "    </tr>\n",
       "  </thead>\n",
       "  <tbody>\n",
       "    <tr>\n",
       "      <th>0.10</th>\n",
       "      <td>60.4</td>\n",
       "    </tr>\n",
       "    <tr>\n",
       "      <th>0.25</th>\n",
       "      <td>70.5</td>\n",
       "    </tr>\n",
       "    <tr>\n",
       "      <th>0.50</th>\n",
       "      <td>85.0</td>\n",
       "    </tr>\n",
       "    <tr>\n",
       "      <th>0.75</th>\n",
       "      <td>90.0</td>\n",
       "    </tr>\n",
       "    <tr>\n",
       "      <th>0.90</th>\n",
       "      <td>92.3</td>\n",
       "    </tr>\n",
       "  </tbody>\n",
       "</table>\n",
       "</div>"
      ],
      "text/plain": [
       "        分数\n",
       "0.10  60.4\n",
       "0.25  70.5\n",
       "0.50  85.0\n",
       "0.75  90.0\n",
       "0.90  92.3"
      ]
     },
     "execution_count": 26,
     "metadata": {},
     "output_type": "execute_result"
    }
   ],
   "source": [
    "pd.DataFrame.quantile(example3_1, q=[0.1, 0.25, 0.5, 0.75, 0.9], interpolation='linear') # 计算百分位数 线性插值"
   ]
  },
  {
   "attachments": {},
   "cell_type": "markdown",
   "metadata": {},
   "source": [
    "### 3.1.3 众数"
   ]
  },
  {
   "cell_type": "code",
   "execution_count": 27,
   "metadata": {},
   "outputs": [
    {
     "data": {
      "text/html": [
       "<div>\n",
       "<style scoped>\n",
       "    .dataframe tbody tr th:only-of-type {\n",
       "        vertical-align: middle;\n",
       "    }\n",
       "\n",
       "    .dataframe tbody tr th {\n",
       "        vertical-align: top;\n",
       "    }\n",
       "\n",
       "    .dataframe thead th {\n",
       "        text-align: right;\n",
       "    }\n",
       "</style>\n",
       "<table border=\"1\" class=\"dataframe\">\n",
       "  <thead>\n",
       "    <tr style=\"text-align: right;\">\n",
       "      <th></th>\n",
       "      <th>分数</th>\n",
       "    </tr>\n",
       "  </thead>\n",
       "  <tbody>\n",
       "    <tr>\n",
       "      <th>0</th>\n",
       "      <td>86</td>\n",
       "    </tr>\n",
       "  </tbody>\n",
       "</table>\n",
       "</div>"
      ],
      "text/plain": [
       "   分数\n",
       "0  86"
      ]
     },
     "execution_count": 27,
     "metadata": {},
     "output_type": "execute_result"
    }
   ],
   "source": [
    "example3_1.mode() # 计算众数"
   ]
  },
  {
   "attachments": {},
   "cell_type": "markdown",
   "metadata": {},
   "source": [
    "## 3.2 描述差异的统计量"
   ]
  },
  {
   "attachments": {},
   "cell_type": "markdown",
   "metadata": {},
   "source": [
    "### 3.2.1 极差和四分位差"
   ]
  },
  {
   "cell_type": "code",
   "execution_count": 31,
   "metadata": {},
   "outputs": [
    {
     "name": "stdout",
     "output_type": "stream",
     "text": [
      "极差: 47\n"
     ]
    }
   ],
   "source": [
    "R = example3_1['分数'].max() - example3_1['分数'].min() # 计算极差\n",
    "print('极差:', R)"
   ]
  },
  {
   "cell_type": "code",
   "execution_count": 32,
   "metadata": {},
   "outputs": [
    {
     "name": "stdout",
     "output_type": "stream",
     "text": [
      "IQR: 19.5\n"
     ]
    }
   ],
   "source": [
    "IQR = example3_1['分数'].quantile(0.75) - example3_1['分数'].quantile(0.25) # 计算四分位差\n",
    "print('IQR:', IQR)"
   ]
  },
  {
   "attachments": {},
   "cell_type": "markdown",
   "metadata": {},
   "source": [
    "### 3.2.2 方差和标准差"
   ]
  },
  {
   "cell_type": "code",
   "execution_count": 33,
   "metadata": {},
   "outputs": [
    {
     "name": "stdout",
     "output_type": "stream",
     "text": [
      "方差: 174.6206896551724\n"
     ]
    }
   ],
   "source": [
    "var = example3_1['分数'].var(ddof=1) # 计算方差 样本方差 ddof=1\n",
    "print('方差:', var)"
   ]
  },
  {
   "cell_type": "code",
   "execution_count": 34,
   "metadata": {},
   "outputs": [
    {
     "name": "stdout",
     "output_type": "stream",
     "text": [
      "标准差: 13.214412194841374\n"
     ]
    }
   ],
   "source": [
    "sd = example3_1['分数'].std(ddof=1) # 计算标准差 样本标准差 ddof=1\n",
    "print('标准差:', sd)"
   ]
  },
  {
   "attachments": {},
   "cell_type": "markdown",
   "metadata": {},
   "source": [
    "### 3.2.3 变异系数"
   ]
  },
  {
   "cell_type": "code",
   "execution_count": 37,
   "metadata": {},
   "outputs": [
    {
     "data": {
      "text/html": [
       "<div>\n",
       "<style scoped>\n",
       "    .dataframe tbody tr th:only-of-type {\n",
       "        vertical-align: middle;\n",
       "    }\n",
       "\n",
       "    .dataframe tbody tr th {\n",
       "        vertical-align: top;\n",
       "    }\n",
       "\n",
       "    .dataframe thead th {\n",
       "        text-align: right;\n",
       "    }\n",
       "</style>\n",
       "<table border=\"1\" class=\"dataframe\">\n",
       "  <thead>\n",
       "    <tr style=\"text-align: right;\">\n",
       "      <th></th>\n",
       "      <th>北京</th>\n",
       "      <th>上海</th>\n",
       "      <th>郑州</th>\n",
       "      <th>武汉</th>\n",
       "      <th>西安</th>\n",
       "      <th>沈阳</th>\n",
       "    </tr>\n",
       "    <tr>\n",
       "      <th>日期</th>\n",
       "      <th></th>\n",
       "      <th></th>\n",
       "      <th></th>\n",
       "      <th></th>\n",
       "      <th></th>\n",
       "      <th></th>\n",
       "    </tr>\n",
       "  </thead>\n",
       "  <tbody>\n",
       "    <tr>\n",
       "      <th>2020/1/1</th>\n",
       "      <td>62</td>\n",
       "      <td>54</td>\n",
       "      <td>73</td>\n",
       "      <td>73</td>\n",
       "      <td>117</td>\n",
       "      <td>109</td>\n",
       "    </tr>\n",
       "    <tr>\n",
       "      <th>2020/1/2</th>\n",
       "      <td>80</td>\n",
       "      <td>82</td>\n",
       "      <td>124</td>\n",
       "      <td>105</td>\n",
       "      <td>149</td>\n",
       "      <td>214</td>\n",
       "    </tr>\n",
       "    <tr>\n",
       "      <th>2020/1/3</th>\n",
       "      <td>82</td>\n",
       "      <td>72</td>\n",
       "      <td>192</td>\n",
       "      <td>130</td>\n",
       "      <td>209</td>\n",
       "      <td>204</td>\n",
       "    </tr>\n",
       "    <tr>\n",
       "      <th>2020/1/4</th>\n",
       "      <td>74</td>\n",
       "      <td>88</td>\n",
       "      <td>249</td>\n",
       "      <td>142</td>\n",
       "      <td>252</td>\n",
       "      <td>207</td>\n",
       "    </tr>\n",
       "    <tr>\n",
       "      <th>2020/1/5</th>\n",
       "      <td>83</td>\n",
       "      <td>63</td>\n",
       "      <td>276</td>\n",
       "      <td>80</td>\n",
       "      <td>152</td>\n",
       "      <td>198</td>\n",
       "    </tr>\n",
       "  </tbody>\n",
       "</table>\n",
       "</div>"
      ],
      "text/plain": [
       "          北京  上海   郑州   武汉   西安   沈阳\n",
       "日期                                  \n",
       "2020/1/1  62  54   73   73  117  109\n",
       "2020/1/2  80  82  124  105  149  214\n",
       "2020/1/3  82  72  192  130  209  204\n",
       "2020/1/4  74  88  249  142  252  207\n",
       "2020/1/5  83  63  276   80  152  198"
      ]
     },
     "execution_count": 37,
     "metadata": {},
     "output_type": "execute_result"
    }
   ],
   "source": [
    "example2_3 = pd.read_csv('./pydata/chap02/example2_3.csv', encoding='gbk') # 读取数据\n",
    "example2_3 = example2_3.set_index('日期') # 将日期设置为索引\n",
    "example2_3.head() # 显示前5行数据"
   ]
  },
  {
   "cell_type": "code",
   "execution_count": 38,
   "metadata": {},
   "outputs": [
    {
     "data": {
      "text/html": [
       "<div>\n",
       "<style scoped>\n",
       "    .dataframe tbody tr th:only-of-type {\n",
       "        vertical-align: middle;\n",
       "    }\n",
       "\n",
       "    .dataframe tbody tr th {\n",
       "        vertical-align: top;\n",
       "    }\n",
       "\n",
       "    .dataframe thead th {\n",
       "        text-align: right;\n",
       "    }\n",
       "</style>\n",
       "<table border=\"1\" class=\"dataframe\">\n",
       "  <thead>\n",
       "    <tr style=\"text-align: right;\">\n",
       "      <th></th>\n",
       "      <th>平均数</th>\n",
       "      <th>标准差</th>\n",
       "      <th>变异系数</th>\n",
       "    </tr>\n",
       "  </thead>\n",
       "  <tbody>\n",
       "    <tr>\n",
       "      <th>北京</th>\n",
       "      <td>78.4454</td>\n",
       "      <td>41.6278</td>\n",
       "      <td>0.5307</td>\n",
       "    </tr>\n",
       "    <tr>\n",
       "      <th>上海</th>\n",
       "      <td>67.9399</td>\n",
       "      <td>28.9772</td>\n",
       "      <td>0.4265</td>\n",
       "    </tr>\n",
       "    <tr>\n",
       "      <th>郑州</th>\n",
       "      <td>98.9071</td>\n",
       "      <td>42.7207</td>\n",
       "      <td>0.4319</td>\n",
       "    </tr>\n",
       "    <tr>\n",
       "      <th>武汉</th>\n",
       "      <td>72.1530</td>\n",
       "      <td>30.3549</td>\n",
       "      <td>0.4207</td>\n",
       "    </tr>\n",
       "    <tr>\n",
       "      <th>西安</th>\n",
       "      <td>91.7896</td>\n",
       "      <td>45.7087</td>\n",
       "      <td>0.4980</td>\n",
       "    </tr>\n",
       "    <tr>\n",
       "      <th>沈阳</th>\n",
       "      <td>78.5710</td>\n",
       "      <td>40.6698</td>\n",
       "      <td>0.5176</td>\n",
       "    </tr>\n",
       "  </tbody>\n",
       "</table>\n",
       "</div>"
      ],
      "text/plain": [
       "        平均数      标准差    变异系数\n",
       "北京  78.4454  41.6278  0.5307\n",
       "上海  67.9399  28.9772  0.4265\n",
       "郑州  98.9071  42.7207  0.4319\n",
       "武汉  72.1530  30.3549  0.4207\n",
       "西安  91.7896  45.7087  0.4980\n",
       "沈阳  78.5710  40.6698  0.5176"
      ]
     },
     "execution_count": 38,
     "metadata": {},
     "output_type": "execute_result"
    }
   ],
   "source": [
    "s_mean = example2_3.mean() # 计算均值\n",
    "s_sd = example2_3.std() # 计算标准差\n",
    "s_cv = s_sd / s_mean # 计算变异系数\n",
    "df = pd.DataFrame({'平均数': s_mean, '标准差': s_sd, '变异系数': s_cv}) # 创建数据框\n",
    "np.round(df, 4) # 保留4位小数"
   ]
  },
  {
   "attachments": {},
   "cell_type": "markdown",
   "metadata": {},
   "source": [
    "### 3.2.4 标准分数"
   ]
  },
  {
   "cell_type": "code",
   "execution_count": 39,
   "metadata": {},
   "outputs": [
    {
     "data": {
      "text/html": [
       "<div>\n",
       "<style scoped>\n",
       "    .dataframe tbody tr th:only-of-type {\n",
       "        vertical-align: middle;\n",
       "    }\n",
       "\n",
       "    .dataframe tbody tr th {\n",
       "        vertical-align: top;\n",
       "    }\n",
       "\n",
       "    .dataframe thead th {\n",
       "        text-align: right;\n",
       "    }\n",
       "</style>\n",
       "<table border=\"1\" class=\"dataframe\">\n",
       "  <thead>\n",
       "    <tr style=\"text-align: right;\">\n",
       "      <th></th>\n",
       "      <th>分数</th>\n",
       "    </tr>\n",
       "  </thead>\n",
       "  <tbody>\n",
       "    <tr>\n",
       "      <th>0</th>\n",
       "      <td>85</td>\n",
       "    </tr>\n",
       "    <tr>\n",
       "      <th>1</th>\n",
       "      <td>55</td>\n",
       "    </tr>\n",
       "    <tr>\n",
       "      <th>2</th>\n",
       "      <td>91</td>\n",
       "    </tr>\n",
       "    <tr>\n",
       "      <th>3</th>\n",
       "      <td>66</td>\n",
       "    </tr>\n",
       "    <tr>\n",
       "      <th>4</th>\n",
       "      <td>79</td>\n",
       "    </tr>\n",
       "  </tbody>\n",
       "</table>\n",
       "</div>"
      ],
      "text/plain": [
       "   分数\n",
       "0  85\n",
       "1  55\n",
       "2  91\n",
       "3  66\n",
       "4  79"
      ]
     },
     "execution_count": 39,
     "metadata": {},
     "output_type": "execute_result"
    }
   ],
   "source": [
    "example3_1 = pd.read_csv('./pydata/chap03/example3_1.csv', encoding='gbk') # 读取数据\n",
    "example3_1.head() # 显示前5行数据"
   ]
  },
  {
   "cell_type": "code",
   "execution_count": 43,
   "metadata": {},
   "outputs": [
    {
     "data": {
      "text/plain": [
       "0     0.3784\n",
       "1    -1.8919\n",
       "2     0.8324\n",
       "3    -1.0594\n",
       "4    -0.0757\n",
       "5     1.2865\n",
       "6     0.9081\n",
       "7    -1.8919\n",
       "8     0.5297\n",
       "9     0.7567\n",
       "10    0.2270\n",
       "11   -0.7567\n",
       "12    1.2108\n",
       "13   -0.6054\n",
       "14    0.7567\n",
       "15   -1.4378\n",
       "16    0.4540\n",
       "17    0.4540\n",
       "18    0.9081\n",
       "19    0.3784\n",
       "20   -0.9838\n",
       "21    0.0757\n",
       "22    0.6811\n",
       "23   -2.2702\n",
       "24    1.1351\n",
       "25    0.4540\n",
       "26   -0.3784\n",
       "27    0.8324\n",
       "28    0.1513\n",
       "29   -1.0594\n",
       "Name: 分数, dtype: float64"
      ]
     },
     "execution_count": 43,
     "metadata": {},
     "output_type": "execute_result"
    }
   ],
   "source": [
    "z = stats.zscore(example3_1['分数'], ddof=1) # 计算标准分数\n",
    "np.round(z, 4) # 保留4位小数"
   ]
  },
  {
   "attachments": {},
   "cell_type": "markdown",
   "metadata": {},
   "source": [
    "## 3.3 描述分布形状的统计量"
   ]
  },
  {
   "attachments": {},
   "cell_type": "markdown",
   "metadata": {},
   "source": [
    "### 3.3.1 偏度系数"
   ]
  },
  {
   "cell_type": "code",
   "execution_count": 44,
   "metadata": {},
   "outputs": [
    {
     "data": {
      "text/html": [
       "<div>\n",
       "<style scoped>\n",
       "    .dataframe tbody tr th:only-of-type {\n",
       "        vertical-align: middle;\n",
       "    }\n",
       "\n",
       "    .dataframe tbody tr th {\n",
       "        vertical-align: top;\n",
       "    }\n",
       "\n",
       "    .dataframe thead th {\n",
       "        text-align: right;\n",
       "    }\n",
       "</style>\n",
       "<table border=\"1\" class=\"dataframe\">\n",
       "  <thead>\n",
       "    <tr style=\"text-align: right;\">\n",
       "      <th></th>\n",
       "      <th>分数</th>\n",
       "    </tr>\n",
       "  </thead>\n",
       "  <tbody>\n",
       "    <tr>\n",
       "      <th>0</th>\n",
       "      <td>85</td>\n",
       "    </tr>\n",
       "    <tr>\n",
       "      <th>1</th>\n",
       "      <td>55</td>\n",
       "    </tr>\n",
       "    <tr>\n",
       "      <th>2</th>\n",
       "      <td>91</td>\n",
       "    </tr>\n",
       "    <tr>\n",
       "      <th>3</th>\n",
       "      <td>66</td>\n",
       "    </tr>\n",
       "    <tr>\n",
       "      <th>4</th>\n",
       "      <td>79</td>\n",
       "    </tr>\n",
       "  </tbody>\n",
       "</table>\n",
       "</div>"
      ],
      "text/plain": [
       "   分数\n",
       "0  85\n",
       "1  55\n",
       "2  91\n",
       "3  66\n",
       "4  79"
      ]
     },
     "execution_count": 44,
     "metadata": {},
     "output_type": "execute_result"
    }
   ],
   "source": [
    "example3_1 = pd.read_csv('./pydata/chap03/example3_1.csv', encoding='gbk') # 读取数据\n",
    "example3_1.head() # 显示前5行数据"
   ]
  },
  {
   "cell_type": "code",
   "execution_count": 47,
   "metadata": {},
   "outputs": [
    {
     "name": "stdout",
     "output_type": "stream",
     "text": [
      "偏度系数: -0.8314\n"
     ]
    }
   ],
   "source": [
    "skew = example3_1['分数'].skew() # 计算偏度系数\n",
    "print('偏度系数:', round(skew, 4))"
   ]
  },
  {
   "attachments": {},
   "cell_type": "markdown",
   "metadata": {},
   "source": [
    "### 3.3.2 峰度系数"
   ]
  },
  {
   "cell_type": "code",
   "execution_count": 48,
   "metadata": {},
   "outputs": [
    {
     "name": "stdout",
     "output_type": "stream",
     "text": [
      "峰度系数: -0.3515\n"
     ]
    }
   ],
   "source": [
    "kurt = example3_1['分数'].kurt() # 计算峰度系数\n",
    "print('峰度系数:', round(kurt, 4))"
   ]
  },
  {
   "attachments": {},
   "cell_type": "markdown",
   "metadata": {},
   "source": [
    "## 3.4 一个综合描述的例子"
   ]
  },
  {
   "cell_type": "code",
   "execution_count": 50,
   "metadata": {},
   "outputs": [
    {
     "data": {
      "text/html": [
       "<div>\n",
       "<style scoped>\n",
       "    .dataframe tbody tr th:only-of-type {\n",
       "        vertical-align: middle;\n",
       "    }\n",
       "\n",
       "    .dataframe tbody tr th {\n",
       "        vertical-align: top;\n",
       "    }\n",
       "\n",
       "    .dataframe thead th {\n",
       "        text-align: right;\n",
       "    }\n",
       "</style>\n",
       "<table border=\"1\" class=\"dataframe\">\n",
       "  <thead>\n",
       "    <tr style=\"text-align: right;\">\n",
       "      <th></th>\n",
       "      <th>性别</th>\n",
       "      <th>家庭所在地</th>\n",
       "      <th>月生活费支出</th>\n",
       "    </tr>\n",
       "  </thead>\n",
       "  <tbody>\n",
       "    <tr>\n",
       "      <th>0</th>\n",
       "      <td>女</td>\n",
       "      <td>中小城市</td>\n",
       "      <td>1500</td>\n",
       "    </tr>\n",
       "    <tr>\n",
       "      <th>1</th>\n",
       "      <td>男</td>\n",
       "      <td>大型城市</td>\n",
       "      <td>2000</td>\n",
       "    </tr>\n",
       "    <tr>\n",
       "      <th>2</th>\n",
       "      <td>男</td>\n",
       "      <td>大型城市</td>\n",
       "      <td>1800</td>\n",
       "    </tr>\n",
       "    <tr>\n",
       "      <th>3</th>\n",
       "      <td>女</td>\n",
       "      <td>中小城市</td>\n",
       "      <td>1600</td>\n",
       "    </tr>\n",
       "    <tr>\n",
       "      <th>4</th>\n",
       "      <td>女</td>\n",
       "      <td>中小城市</td>\n",
       "      <td>2000</td>\n",
       "    </tr>\n",
       "  </tbody>\n",
       "</table>\n",
       "</div>"
      ],
      "text/plain": [
       "  性别 家庭所在地  月生活费支出\n",
       "0  女  中小城市    1500\n",
       "1  男  大型城市    2000\n",
       "2  男  大型城市    1800\n",
       "3  女  中小城市    1600\n",
       "4  女  中小城市    2000"
      ]
     },
     "execution_count": 50,
     "metadata": {},
     "output_type": "execute_result"
    }
   ],
   "source": [
    "example3_12 = pd.read_csv('./pydata/chap03/example3_12.csv', encoding='gbk') # 读取数据\n",
    "example3_12.head() # 显示前5行数据"
   ]
  },
  {
   "cell_type": "code",
   "execution_count": 51,
   "metadata": {},
   "outputs": [
    {
     "data": {
      "image/png": "[encoded data removed]",
      "text/plain": [
       "<Figure size 600x500 with 2 Axes>"
      ]
     },
     "metadata": {},
     "output_type": "display_data"
    }
   ],
   "source": [
    "# 月生活费支出的直方图和箱型图\n",
    "x = example3_12['月生活费支出']\n",
    "\n",
    "fig = plt.figure(figsize=(6, 5)) # 设置画布大小\n",
    "spec = fig.add_gridspec(nrows=2, ncols=1, height_ratios=[1, 3]) # 设置子图网格\n",
    "\n",
    "ax1 = fig.add_subplot(spec[0, :]) # 创建子图1\n",
    "x.plot(kind='box', ax=ax1, vert=False) # 绘制箱线图\n",
    "ax1.spines['right'].set_color('none') # 去掉右边框\n",
    "ax1.spines['top'].set_color('none') # 去掉上边框\n",
    "ax1.spines['left'].set_color('none') # 去掉左边框\n",
    "ax1.spines['bottom'].set_color('none') # 去掉下边框\n",
    "ax1.set_xticks([]) # 去掉x轴刻度\n",
    "\n",
    "ax2 = fig.add_subplot(spec[1, :]) # 创建子图2\n",
    "x.plot(kind='hist', bins=10, ax=ax2, density=True, legend=False) # 绘制直方图\n",
    "x.plot(kind='density', ax=ax2, linewidth=3) # 绘制核密度图\n",
    "ax2.set_xlabel('月生活费支出') # 设置x轴标签\n",
    "ax2.set_ylabel('频率') # 设置y轴标签\n",
    "ax2.set_xlim(x.min(), x.max()) # 设置x轴范围\n",
    "ax2.spines['right'].set_color('none') # 去掉右边框\n",
    "ax2.spines['top'].set_color('none') # 去掉上边框\n",
    "\n",
    "plt.tight_layout() # 设置子图间距\n",
    "plt.show() # 显示图形"
   ]
  },
  {
   "cell_type": "code",
   "execution_count": 52,
   "metadata": {},
   "outputs": [
    {
     "data": {
      "image/png": "[encoded data removed]",
      "text/plain": [
       "<Figure size 1200x400 with 2 Axes>"
      ]
     },
     "metadata": {},
     "output_type": "display_data"
    }
   ],
   "source": [
    "# 按性别和家庭所在地分组绘制核密度图\n",
    "plt.figure(figsize=(12, 4)) # 设置画布大小\n",
    "\n",
    "plt.subplot(1, 2, 1) # 创建子图1\n",
    "sns.kdeplot(x='月生活费支出', hue='性别', data=example3_12, fill=True) # 绘制核密度图\n",
    "plt.title('(a) 按性别分组') # 设置标题\n",
    "\n",
    "plt.subplot(1, 2, 2) # 创建子图2\n",
    "sns.kdeplot(x='月生活费支出', hue='家庭所在地', data=example3_12, fill=True) # 绘制核密度图\n",
    "plt.title('(b) 按家庭所在地分组') # 设置标题\n",
    "\n",
    "plt.show() # 显示图形"
   ]
  },
  {
   "cell_type": "code",
   "execution_count": 53,
   "metadata": {},
   "outputs": [
    {
     "data": {
      "image/png": "[encoded data removed]",
      "text/plain": [
       "<Figure size 900x600 with 1 Axes>"
      ]
     },
     "metadata": {},
     "output_type": "display_data"
    }
   ],
   "source": [
    "# 按性别和家庭所在地分组绘制箱型图\n",
    "plt.figure(figsize=(9, 6)) # 设置画布大小\n",
    "sns.boxplot(x='性别', y='月生活费支出', hue='家庭所在地', data=example3_12) # 绘制箱型图\n",
    "plt.show()"
   ]
  },
  {
   "cell_type": "code",
   "execution_count": 55,
   "metadata": {},
   "outputs": [
    {
     "data": {
      "image/png": "[encoded data removed]",
      "text/plain": [
       "<Figure size 900x400 with 2 Axes>"
      ]
     },
     "metadata": {},
     "output_type": "display_data"
    }
   ],
   "source": [
    "# 按性别和家庭所在地分组绘制点图\n",
    "plt.figure(figsize=(9, 4)) # 设置画布大小\n",
    "\n",
    "plt.subplot(121) # 创建子图1\n",
    "sns.stripplot(\n",
    "    x='性别', y='月生活费支出', data=example3_12, \n",
    "    jitter=True, size=5\n",
    ") # 绘制点图\n",
    "plt.title('(a) 按性别分组') # 设置标题\n",
    "\n",
    "plt.subplot(122) # 创建子图2\n",
    "sns.stripplot(\n",
    "    x='家庭所在地', y='月生活费支出', data=example3_12,\n",
    "    jitter=True, size=5\n",
    ") # 绘制点图\n",
    "plt.title('(b) 按家庭所在地分组') # 设置标题\n",
    "\n",
    "plt.show() # 显示图形"
   ]
  },
  {
   "cell_type": "code",
   "execution_count": 56,
   "metadata": {},
   "outputs": [
    {
     "data": {
      "text/html": [
       "<div>\n",
       "<style scoped>\n",
       "    .dataframe tbody tr th:only-of-type {\n",
       "        vertical-align: middle;\n",
       "    }\n",
       "\n",
       "    .dataframe tbody tr th {\n",
       "        vertical-align: top;\n",
       "    }\n",
       "\n",
       "    .dataframe thead tr th {\n",
       "        text-align: left;\n",
       "    }\n",
       "\n",
       "    .dataframe thead tr:last-of-type th {\n",
       "        text-align: right;\n",
       "    }\n",
       "</style>\n",
       "<table border=\"1\" class=\"dataframe\">\n",
       "  <thead>\n",
       "    <tr>\n",
       "      <th></th>\n",
       "      <th colspan=\"4\" halign=\"left\">月生活费支出</th>\n",
       "    </tr>\n",
       "    <tr>\n",
       "      <th>家庭所在地</th>\n",
       "      <th>中小城市</th>\n",
       "      <th>乡镇地区</th>\n",
       "      <th>大型城市</th>\n",
       "      <th>合计</th>\n",
       "    </tr>\n",
       "    <tr>\n",
       "      <th>性别</th>\n",
       "      <th></th>\n",
       "      <th></th>\n",
       "      <th></th>\n",
       "      <th></th>\n",
       "    </tr>\n",
       "  </thead>\n",
       "  <tbody>\n",
       "    <tr>\n",
       "      <th>女</th>\n",
       "      <td>18</td>\n",
       "      <td>6</td>\n",
       "      <td>11</td>\n",
       "      <td>35</td>\n",
       "    </tr>\n",
       "    <tr>\n",
       "      <th>男</th>\n",
       "      <td>6</td>\n",
       "      <td>4</td>\n",
       "      <td>15</td>\n",
       "      <td>25</td>\n",
       "    </tr>\n",
       "    <tr>\n",
       "      <th>合计</th>\n",
       "      <td>24</td>\n",
       "      <td>10</td>\n",
       "      <td>26</td>\n",
       "      <td>60</td>\n",
       "    </tr>\n",
       "  </tbody>\n",
       "</table>\n",
       "</div>"
      ],
      "text/plain": [
       "      月生活费支出              \n",
       "家庭所在地   中小城市 乡镇地区 大型城市  合计\n",
       "性别                        \n",
       "女         18    6   11  35\n",
       "男          6    4   15  25\n",
       "合计        24   10   26  60"
      ]
     },
     "execution_count": 56,
     "metadata": {},
     "output_type": "execute_result"
    }
   ],
   "source": [
    "tab = pd.pivot_table(\n",
    "    example3_12, index=['性别'], columns=['家庭所在地'],\n",
    "    margins=True, margins_name='合计', aggfunc=len\n",
    ") # 创建透视表\n",
    "tab"
   ]
  },
  {
   "cell_type": "code",
   "execution_count": 58,
   "metadata": {},
   "outputs": [
    {
     "name": "stdout",
     "output_type": "stream",
     "text": [
      "全部学生支出的概括性描述\n"
     ]
    },
    {
     "data": {
      "text/html": [
       "<div>\n",
       "<style scoped>\n",
       "    .dataframe tbody tr th:only-of-type {\n",
       "        vertical-align: middle;\n",
       "    }\n",
       "\n",
       "    .dataframe tbody tr th {\n",
       "        vertical-align: top;\n",
       "    }\n",
       "\n",
       "    .dataframe thead th {\n",
       "        text-align: right;\n",
       "    }\n",
       "</style>\n",
       "<table border=\"1\" class=\"dataframe\">\n",
       "  <thead>\n",
       "    <tr style=\"text-align: right;\">\n",
       "      <th></th>\n",
       "      <th>月生活费支出</th>\n",
       "    </tr>\n",
       "  </thead>\n",
       "  <tbody>\n",
       "    <tr>\n",
       "      <th>count</th>\n",
       "      <td>60.0000</td>\n",
       "    </tr>\n",
       "    <tr>\n",
       "      <th>mean</th>\n",
       "      <td>1812.3333</td>\n",
       "    </tr>\n",
       "    <tr>\n",
       "      <th>std</th>\n",
       "      <td>320.9962</td>\n",
       "    </tr>\n",
       "    <tr>\n",
       "      <th>min</th>\n",
       "      <td>1100.0000</td>\n",
       "    </tr>\n",
       "    <tr>\n",
       "      <th>25%</th>\n",
       "      <td>1550.0000</td>\n",
       "    </tr>\n",
       "    <tr>\n",
       "      <th>50%</th>\n",
       "      <td>1850.0000</td>\n",
       "    </tr>\n",
       "    <tr>\n",
       "      <th>75%</th>\n",
       "      <td>2000.0000</td>\n",
       "    </tr>\n",
       "    <tr>\n",
       "      <th>max</th>\n",
       "      <td>2800.0000</td>\n",
       "    </tr>\n",
       "  </tbody>\n",
       "</table>\n",
       "</div>"
      ],
      "text/plain": [
       "          月生活费支出\n",
       "count    60.0000\n",
       "mean   1812.3333\n",
       "std     320.9962\n",
       "min    1100.0000\n",
       "25%    1550.0000\n",
       "50%    1850.0000\n",
       "75%    2000.0000\n",
       "max    2800.0000"
      ]
     },
     "execution_count": 58,
     "metadata": {},
     "output_type": "execute_result"
    }
   ],
   "source": [
    "desc = example3_12.describe(include=None) # 计算描述统计量 不包括类别变量\n",
    "print('全部学生支出的概括性描述')\n",
    "round(desc, 4) # 保留4位小数"
   ]
  },
  {
   "cell_type": "code",
   "execution_count": 59,
   "metadata": {},
   "outputs": [
    {
     "data": {
      "text/html": [
       "<div>\n",
       "<style scoped>\n",
       "    .dataframe tbody tr th:only-of-type {\n",
       "        vertical-align: middle;\n",
       "    }\n",
       "\n",
       "    .dataframe tbody tr th {\n",
       "        vertical-align: top;\n",
       "    }\n",
       "\n",
       "    .dataframe thead tr th {\n",
       "        text-align: left;\n",
       "    }\n",
       "\n",
       "    .dataframe thead tr:last-of-type th {\n",
       "        text-align: right;\n",
       "    }\n",
       "</style>\n",
       "<table border=\"1\" class=\"dataframe\">\n",
       "  <thead>\n",
       "    <tr>\n",
       "      <th></th>\n",
       "      <th></th>\n",
       "      <th>sum</th>\n",
       "      <th>min</th>\n",
       "      <th>max</th>\n",
       "      <th>median</th>\n",
       "      <th>mean</th>\n",
       "      <th>std</th>\n",
       "    </tr>\n",
       "    <tr>\n",
       "      <th></th>\n",
       "      <th></th>\n",
       "      <th>月生活费支出</th>\n",
       "      <th>月生活费支出</th>\n",
       "      <th>月生活费支出</th>\n",
       "      <th>月生活费支出</th>\n",
       "      <th>月生活费支出</th>\n",
       "      <th>月生活费支出</th>\n",
       "    </tr>\n",
       "    <tr>\n",
       "      <th>性别</th>\n",
       "      <th>家庭所在地</th>\n",
       "      <th></th>\n",
       "      <th></th>\n",
       "      <th></th>\n",
       "      <th></th>\n",
       "      <th></th>\n",
       "      <th></th>\n",
       "    </tr>\n",
       "  </thead>\n",
       "  <tbody>\n",
       "    <tr>\n",
       "      <th rowspan=\"3\" valign=\"top\">女</th>\n",
       "      <th>中小城市</th>\n",
       "      <td>33140</td>\n",
       "      <td>1400</td>\n",
       "      <td>2360</td>\n",
       "      <td>1825</td>\n",
       "      <td>1841.111111</td>\n",
       "      <td>308.942959</td>\n",
       "    </tr>\n",
       "    <tr>\n",
       "      <th>乡镇地区</th>\n",
       "      <td>10720</td>\n",
       "      <td>1300</td>\n",
       "      <td>2000</td>\n",
       "      <td>1860</td>\n",
       "      <td>1786.666667</td>\n",
       "      <td>247.521043</td>\n",
       "    </tr>\n",
       "    <tr>\n",
       "      <th>大型城市</th>\n",
       "      <td>22350</td>\n",
       "      <td>1500</td>\n",
       "      <td>2800</td>\n",
       "      <td>2000</td>\n",
       "      <td>2031.818182</td>\n",
       "      <td>383.583581</td>\n",
       "    </tr>\n",
       "    <tr>\n",
       "      <th rowspan=\"3\" valign=\"top\">男</th>\n",
       "      <th>中小城市</th>\n",
       "      <td>9960</td>\n",
       "      <td>1300</td>\n",
       "      <td>2000</td>\n",
       "      <td>1725</td>\n",
       "      <td>1660.000000</td>\n",
       "      <td>290.172363</td>\n",
       "    </tr>\n",
       "    <tr>\n",
       "      <th>乡镇地区</th>\n",
       "      <td>6850</td>\n",
       "      <td>1500</td>\n",
       "      <td>1950</td>\n",
       "      <td>1700</td>\n",
       "      <td>1712.500000</td>\n",
       "      <td>246.221445</td>\n",
       "    </tr>\n",
       "    <tr>\n",
       "      <th>大型城市</th>\n",
       "      <td>25720</td>\n",
       "      <td>1100</td>\n",
       "      <td>2000</td>\n",
       "      <td>1780</td>\n",
       "      <td>1714.666667</td>\n",
       "      <td>293.400425</td>\n",
       "    </tr>\n",
       "    <tr>\n",
       "      <th>合计</th>\n",
       "      <th></th>\n",
       "      <td>108740</td>\n",
       "      <td>1100</td>\n",
       "      <td>2800</td>\n",
       "      <td>1850</td>\n",
       "      <td>1812.333333</td>\n",
       "      <td>318.309947</td>\n",
       "    </tr>\n",
       "  </tbody>\n",
       "</table>\n",
       "</div>"
      ],
      "text/plain": [
       "             sum    min    max median         mean         std\n",
       "          月生活费支出 月生活费支出 月生活费支出 月生活费支出       月生活费支出      月生活费支出\n",
       "性别 家庭所在地                                                      \n",
       "女  中小城市    33140   1400   2360   1825  1841.111111  308.942959\n",
       "   乡镇地区    10720   1300   2000   1860  1786.666667  247.521043\n",
       "   大型城市    22350   1500   2800   2000  2031.818182  383.583581\n",
       "男  中小城市     9960   1300   2000   1725  1660.000000  290.172363\n",
       "   乡镇地区     6850   1500   1950   1700  1712.500000  246.221445\n",
       "   大型城市    25720   1100   2000   1780  1714.666667  293.400425\n",
       "合计        108740   1100   2800   1850  1812.333333  318.309947"
      ]
     },
     "execution_count": 59,
     "metadata": {},
     "output_type": "execute_result"
    }
   ],
   "source": [
    "tab = pd.pivot_table(\n",
    "    example3_12, index=['性别', '家庭所在地'], values=['月生活费支出'],\n",
    "    margins=True, margins_name='合计', aggfunc=[sum, min, max, np.median, np.mean, np.std]\n",
    ") # 创建透视表\n",
    "tab"
   ]
  },
  {
   "cell_type": "code",
   "execution_count": 60,
   "metadata": {},
   "outputs": [
    {
     "name": "stdout",
     "output_type": "stream",
     "text": [
      "按性别分组\n"
     ]
    },
    {
     "data": {
      "text/html": [
       "<div>\n",
       "<style scoped>\n",
       "    .dataframe tbody tr th:only-of-type {\n",
       "        vertical-align: middle;\n",
       "    }\n",
       "\n",
       "    .dataframe tbody tr th {\n",
       "        vertical-align: top;\n",
       "    }\n",
       "\n",
       "    .dataframe thead th {\n",
       "        text-align: right;\n",
       "    }\n",
       "</style>\n",
       "<table border=\"1\" class=\"dataframe\">\n",
       "  <thead>\n",
       "    <tr style=\"text-align: right;\">\n",
       "      <th></th>\n",
       "      <th>n</th>\n",
       "      <th>平均数</th>\n",
       "      <th>中位数</th>\n",
       "      <th>标准差</th>\n",
       "      <th>全距</th>\n",
       "      <th>变异系数</th>\n",
       "      <th>偏度系数</th>\n",
       "    </tr>\n",
       "    <tr>\n",
       "      <th>性别</th>\n",
       "      <th></th>\n",
       "      <th></th>\n",
       "      <th></th>\n",
       "      <th></th>\n",
       "      <th></th>\n",
       "      <th></th>\n",
       "      <th></th>\n",
       "    </tr>\n",
       "  </thead>\n",
       "  <tbody>\n",
       "    <tr>\n",
       "      <th>女</th>\n",
       "      <td>35</td>\n",
       "      <td>1891.714</td>\n",
       "      <td>1900.0</td>\n",
       "      <td>331.1521</td>\n",
       "      <td>1500</td>\n",
       "      <td>0.175054</td>\n",
       "      <td>0.502824</td>\n",
       "    </tr>\n",
       "    <tr>\n",
       "      <th>男</th>\n",
       "      <td>25</td>\n",
       "      <td>1701.200</td>\n",
       "      <td>1780.0</td>\n",
       "      <td>275.4893</td>\n",
       "      <td>900</td>\n",
       "      <td>0.161938</td>\n",
       "      <td>-0.548589</td>\n",
       "    </tr>\n",
       "  </tbody>\n",
       "</table>\n",
       "</div>"
      ],
      "text/plain": [
       "     n       平均数     中位数       标准差    全距      变异系数      偏度系数\n",
       "性别                                                          \n",
       "女   35  1891.714  1900.0  331.1521  1500  0.175054  0.502824\n",
       "男   25  1701.200  1780.0  275.4893   900  0.161938 -0.548589"
      ]
     },
     "execution_count": 60,
     "metadata": {},
     "output_type": "execute_result"
    }
   ],
   "source": [
    "def my_summary(df, col=['性别']):\n",
    "    df_res = pd.DataFrame()\n",
    "    df_res['n'] = df.groupby(col)['月生活费支出'].count() # 计算频数\n",
    "    df_res['平均数'] = df.groupby(col)['月生活费支出'].mean().round(3) # 计算均值\n",
    "    df_res['中位数'] = df.groupby(col)['月生活费支出'].median() # 计算中位数\n",
    "    df_res['标准差'] = df.groupby(col)['月生活费支出'].std().round(4) # 计算标准差\n",
    "    df_res['全距'] = df.groupby(col)['月生活费支出'].apply(lambda x: x.max() - x.min()) # 计算全距\n",
    "    df_res['变异系数'] = df.groupby(col)['月生活费支出'].apply(lambda x: x.std() / x.mean()) # 计算变异系数\n",
    "    df_res['偏度系数'] = df.groupby(col)['月生活费支出'].skew() # 计算偏度系数\n",
    "    return df_res\n",
    "\n",
    "df1 = my_summary(example3_12, ['性别']) # 计算描述统计量\n",
    "print('按性别分组')\n",
    "df1"
   ]
  },
  {
   "cell_type": "code",
   "execution_count": 61,
   "metadata": {},
   "outputs": [
    {
     "name": "stdout",
     "output_type": "stream",
     "text": [
      "按家庭所在地分组\n"
     ]
    },
    {
     "data": {
      "text/html": [
       "<div>\n",
       "<style scoped>\n",
       "    .dataframe tbody tr th:only-of-type {\n",
       "        vertical-align: middle;\n",
       "    }\n",
       "\n",
       "    .dataframe tbody tr th {\n",
       "        vertical-align: top;\n",
       "    }\n",
       "\n",
       "    .dataframe thead th {\n",
       "        text-align: right;\n",
       "    }\n",
       "</style>\n",
       "<table border=\"1\" class=\"dataframe\">\n",
       "  <thead>\n",
       "    <tr style=\"text-align: right;\">\n",
       "      <th></th>\n",
       "      <th>n</th>\n",
       "      <th>平均数</th>\n",
       "      <th>中位数</th>\n",
       "      <th>标准差</th>\n",
       "      <th>全距</th>\n",
       "      <th>变异系数</th>\n",
       "      <th>偏度系数</th>\n",
       "    </tr>\n",
       "    <tr>\n",
       "      <th>家庭所在地</th>\n",
       "      <th></th>\n",
       "      <th></th>\n",
       "      <th></th>\n",
       "      <th></th>\n",
       "      <th></th>\n",
       "      <th></th>\n",
       "      <th></th>\n",
       "    </tr>\n",
       "  </thead>\n",
       "  <tbody>\n",
       "    <tr>\n",
       "      <th>中小城市</th>\n",
       "      <td>24</td>\n",
       "      <td>1795.833</td>\n",
       "      <td>1800.0</td>\n",
       "      <td>308.6565</td>\n",
       "      <td>1060</td>\n",
       "      <td>0.171874</td>\n",
       "      <td>0.269364</td>\n",
       "    </tr>\n",
       "    <tr>\n",
       "      <th>乡镇地区</th>\n",
       "      <td>10</td>\n",
       "      <td>1757.000</td>\n",
       "      <td>1860.0</td>\n",
       "      <td>236.0344</td>\n",
       "      <td>700</td>\n",
       "      <td>0.134339</td>\n",
       "      <td>-1.052810</td>\n",
       "    </tr>\n",
       "    <tr>\n",
       "      <th>大型城市</th>\n",
       "      <td>26</td>\n",
       "      <td>1848.846</td>\n",
       "      <td>1850.0</td>\n",
       "      <td>364.1354</td>\n",
       "      <td>1700</td>\n",
       "      <td>0.196953</td>\n",
       "      <td>0.321079</td>\n",
       "    </tr>\n",
       "  </tbody>\n",
       "</table>\n",
       "</div>"
      ],
      "text/plain": [
       "        n       平均数     中位数       标准差    全距      变异系数      偏度系数\n",
       "家庭所在地                                                          \n",
       "中小城市   24  1795.833  1800.0  308.6565  1060  0.171874  0.269364\n",
       "乡镇地区   10  1757.000  1860.0  236.0344   700  0.134339 -1.052810\n",
       "大型城市   26  1848.846  1850.0  364.1354  1700  0.196953  0.321079"
      ]
     },
     "execution_count": 61,
     "metadata": {},
     "output_type": "execute_result"
    }
   ],
   "source": [
    "df2 = my_summary(example3_12, ['家庭所在地']) # 计算描述统计量\n",
    "print('按家庭所在地分组')\n",
    "df2"
   ]
  },
  {
   "cell_type": "code",
   "execution_count": 62,
   "metadata": {},
   "outputs": [
    {
     "name": "stdout",
     "output_type": "stream",
     "text": [
      "同时按性别和家庭所在地分组\n"
     ]
    },
    {
     "data": {
      "text/html": [
       "<div>\n",
       "<style scoped>\n",
       "    .dataframe tbody tr th:only-of-type {\n",
       "        vertical-align: middle;\n",
       "    }\n",
       "\n",
       "    .dataframe tbody tr th {\n",
       "        vertical-align: top;\n",
       "    }\n",
       "\n",
       "    .dataframe thead th {\n",
       "        text-align: right;\n",
       "    }\n",
       "</style>\n",
       "<table border=\"1\" class=\"dataframe\">\n",
       "  <thead>\n",
       "    <tr style=\"text-align: right;\">\n",
       "      <th></th>\n",
       "      <th></th>\n",
       "      <th>n</th>\n",
       "      <th>平均数</th>\n",
       "      <th>中位数</th>\n",
       "      <th>标准差</th>\n",
       "      <th>全距</th>\n",
       "      <th>变异系数</th>\n",
       "      <th>偏度系数</th>\n",
       "    </tr>\n",
       "    <tr>\n",
       "      <th>性别</th>\n",
       "      <th>家庭所在地</th>\n",
       "      <th></th>\n",
       "      <th></th>\n",
       "      <th></th>\n",
       "      <th></th>\n",
       "      <th></th>\n",
       "      <th></th>\n",
       "      <th></th>\n",
       "    </tr>\n",
       "  </thead>\n",
       "  <tbody>\n",
       "    <tr>\n",
       "      <th rowspan=\"3\" valign=\"top\">女</th>\n",
       "      <th>中小城市</th>\n",
       "      <td>18</td>\n",
       "      <td>1841.111</td>\n",
       "      <td>1825.0</td>\n",
       "      <td>308.9430</td>\n",
       "      <td>960</td>\n",
       "      <td>0.167802</td>\n",
       "      <td>0.345656</td>\n",
       "    </tr>\n",
       "    <tr>\n",
       "      <th>乡镇地区</th>\n",
       "      <td>6</td>\n",
       "      <td>1786.667</td>\n",
       "      <td>1860.0</td>\n",
       "      <td>247.5210</td>\n",
       "      <td>700</td>\n",
       "      <td>0.138538</td>\n",
       "      <td>-2.042846</td>\n",
       "    </tr>\n",
       "    <tr>\n",
       "      <th>大型城市</th>\n",
       "      <td>11</td>\n",
       "      <td>2031.818</td>\n",
       "      <td>2000.0</td>\n",
       "      <td>383.5836</td>\n",
       "      <td>1300</td>\n",
       "      <td>0.188788</td>\n",
       "      <td>0.515560</td>\n",
       "    </tr>\n",
       "    <tr>\n",
       "      <th rowspan=\"3\" valign=\"top\">男</th>\n",
       "      <th>中小城市</th>\n",
       "      <td>6</td>\n",
       "      <td>1660.000</td>\n",
       "      <td>1725.0</td>\n",
       "      <td>290.1724</td>\n",
       "      <td>700</td>\n",
       "      <td>0.174803</td>\n",
       "      <td>-0.276271</td>\n",
       "    </tr>\n",
       "    <tr>\n",
       "      <th>乡镇地区</th>\n",
       "      <td>4</td>\n",
       "      <td>1712.500</td>\n",
       "      <td>1700.0</td>\n",
       "      <td>246.2214</td>\n",
       "      <td>450</td>\n",
       "      <td>0.143779</td>\n",
       "      <td>0.035589</td>\n",
       "    </tr>\n",
       "    <tr>\n",
       "      <th>大型城市</th>\n",
       "      <td>15</td>\n",
       "      <td>1714.667</td>\n",
       "      <td>1780.0</td>\n",
       "      <td>293.4004</td>\n",
       "      <td>900</td>\n",
       "      <td>0.171112</td>\n",
       "      <td>-0.763562</td>\n",
       "    </tr>\n",
       "  </tbody>\n",
       "</table>\n",
       "</div>"
      ],
      "text/plain": [
       "           n       平均数     中位数       标准差    全距      变异系数      偏度系数\n",
       "性别 家庭所在地                                                          \n",
       "女  中小城市   18  1841.111  1825.0  308.9430   960  0.167802  0.345656\n",
       "   乡镇地区    6  1786.667  1860.0  247.5210   700  0.138538 -2.042846\n",
       "   大型城市   11  2031.818  2000.0  383.5836  1300  0.188788  0.515560\n",
       "男  中小城市    6  1660.000  1725.0  290.1724   700  0.174803 -0.276271\n",
       "   乡镇地区    4  1712.500  1700.0  246.2214   450  0.143779  0.035589\n",
       "   大型城市   15  1714.667  1780.0  293.4004   900  0.171112 -0.763562"
      ]
     },
     "execution_count": 62,
     "metadata": {},
     "output_type": "execute_result"
    }
   ],
   "source": [
    "df3 = my_summary(example3_12, ['性别', '家庭所在地']) # 计算描述统计量\n",
    "print('同时按性别和家庭所在地分组')\n",
    "df3"
   ]
  },
  {
   "attachments": {},
   "cell_type": "markdown",
   "metadata": {},
   "source": [
    "## 习题"
   ]
  },
  {
   "attachments": {},
   "cell_type": "markdown",
   "metadata": {},
   "source": [
    "### 3.1"
   ]
  },
  {
   "cell_type": "code",
   "execution_count": 63,
   "metadata": {},
   "outputs": [
    {
     "data": {
      "text/html": [
       "<div>\n",
       "<style scoped>\n",
       "    .dataframe tbody tr th:only-of-type {\n",
       "        vertical-align: middle;\n",
       "    }\n",
       "\n",
       "    .dataframe tbody tr th {\n",
       "        vertical-align: top;\n",
       "    }\n",
       "\n",
       "    .dataframe thead th {\n",
       "        text-align: right;\n",
       "    }\n",
       "</style>\n",
       "<table border=\"1\" class=\"dataframe\">\n",
       "  <thead>\n",
       "    <tr style=\"text-align: right;\">\n",
       "      <th></th>\n",
       "      <th>网购金额</th>\n",
       "    </tr>\n",
       "  </thead>\n",
       "  <tbody>\n",
       "    <tr>\n",
       "      <th>0</th>\n",
       "      <td>1004</td>\n",
       "    </tr>\n",
       "    <tr>\n",
       "      <th>1</th>\n",
       "      <td>921</td>\n",
       "    </tr>\n",
       "    <tr>\n",
       "      <th>2</th>\n",
       "      <td>928</td>\n",
       "    </tr>\n",
       "    <tr>\n",
       "      <th>3</th>\n",
       "      <td>1148</td>\n",
       "    </tr>\n",
       "    <tr>\n",
       "      <th>4</th>\n",
       "      <td>1416</td>\n",
       "    </tr>\n",
       "  </tbody>\n",
       "</table>\n",
       "</div>"
      ],
      "text/plain": [
       "   网购金额\n",
       "0  1004\n",
       "1   921\n",
       "2   928\n",
       "3  1148\n",
       "4  1416"
      ]
     },
     "execution_count": 63,
     "metadata": {},
     "output_type": "execute_result"
    }
   ],
   "source": [
    "df = pd.read_csv('./exercise/chap03/exercise3_1.csv', encoding='gbk') # 读取数据\n",
    "df.head() # 显示前5行数据"
   ]
  },
  {
   "cell_type": "code",
   "execution_count": 66,
   "metadata": {},
   "outputs": [
    {
     "data": {
      "text/html": [
       "<div>\n",
       "<style scoped>\n",
       "    .dataframe tbody tr th:only-of-type {\n",
       "        vertical-align: middle;\n",
       "    }\n",
       "\n",
       "    .dataframe tbody tr th {\n",
       "        vertical-align: top;\n",
       "    }\n",
       "\n",
       "    .dataframe thead th {\n",
       "        text-align: right;\n",
       "    }\n",
       "</style>\n",
       "<table border=\"1\" class=\"dataframe\">\n",
       "  <thead>\n",
       "    <tr style=\"text-align: right;\">\n",
       "      <th></th>\n",
       "      <th>平均数</th>\n",
       "      <th>标准差</th>\n",
       "      <th>变异系数</th>\n",
       "      <th>极差</th>\n",
       "      <th>四分位差</th>\n",
       "    </tr>\n",
       "  </thead>\n",
       "  <tbody>\n",
       "    <tr>\n",
       "      <th>网购金额</th>\n",
       "      <td>1032.64</td>\n",
       "      <td>385.3728</td>\n",
       "      <td>0.3732</td>\n",
       "      <td>1981</td>\n",
       "      <td>402.75</td>\n",
       "    </tr>\n",
       "  </tbody>\n",
       "</table>\n",
       "</div>"
      ],
      "text/plain": [
       "          平均数       标准差    变异系数    极差    四分位差\n",
       "网购金额  1032.64  385.3728  0.3732  1981  402.75"
      ]
     },
     "execution_count": 66,
     "metadata": {},
     "output_type": "execute_result"
    }
   ],
   "source": [
    "# (1) 计算平均数、标准差、极差和四分位差。\n",
    "s_mean = df.mean() # 计算均值\n",
    "s_sd = df.std() # 计算标准差\n",
    "s_cv = s_sd / s_mean # 计算变异系数\n",
    "s_R = df.max() - df.min() # 计算极差\n",
    "s_IQR = df.quantile(0.75) - df.quantile(0.25) # 计算四分位差\n",
    "df1 = pd.DataFrame({'平均数': s_mean, '标准差': s_sd, '变异系数': s_cv, '极差': s_R, '四分位差': s_IQR}) # 创建数据框\n",
    "np.round(df1, 4) # 保留4位小数"
   ]
  },
  {
   "cell_type": "code",
   "execution_count": 68,
   "metadata": {},
   "outputs": [
    {
     "data": {
      "text/html": [
       "<div>\n",
       "<style scoped>\n",
       "    .dataframe tbody tr th:only-of-type {\n",
       "        vertical-align: middle;\n",
       "    }\n",
       "\n",
       "    .dataframe tbody tr th {\n",
       "        vertical-align: top;\n",
       "    }\n",
       "\n",
       "    .dataframe thead th {\n",
       "        text-align: right;\n",
       "    }\n",
       "</style>\n",
       "<table border=\"1\" class=\"dataframe\">\n",
       "  <thead>\n",
       "    <tr style=\"text-align: right;\">\n",
       "      <th></th>\n",
       "      <th>网购金额</th>\n",
       "    </tr>\n",
       "  </thead>\n",
       "  <tbody>\n",
       "    <tr>\n",
       "      <th>0.10</th>\n",
       "      <td>565.80</td>\n",
       "    </tr>\n",
       "    <tr>\n",
       "      <th>0.25</th>\n",
       "      <td>838.50</td>\n",
       "    </tr>\n",
       "    <tr>\n",
       "      <th>0.50</th>\n",
       "      <td>985.50</td>\n",
       "    </tr>\n",
       "    <tr>\n",
       "      <th>0.75</th>\n",
       "      <td>1241.25</td>\n",
       "    </tr>\n",
       "    <tr>\n",
       "      <th>0.90</th>\n",
       "      <td>1482.10</td>\n",
       "    </tr>\n",
       "  </tbody>\n",
       "</table>\n",
       "</div>"
      ],
      "text/plain": [
       "         网购金额\n",
       "0.10   565.80\n",
       "0.25   838.50\n",
       "0.50   985.50\n",
       "0.75  1241.25\n",
       "0.90  1482.10"
      ]
     },
     "execution_count": 68,
     "metadata": {},
     "output_type": "execute_result"
    }
   ],
   "source": [
    "# (2) 计算10%、25%、50%、75%和90%的分位数。\n",
    "df2 = pd.DataFrame.quantile(df, q=[0.1, 0.25, 0.5, 0.75, 0.9], interpolation='linear') # 计算百分位数 线性插值\n",
    "np.round(df2, 2) # 保留2位小数"
   ]
  },
  {
   "cell_type": "code",
   "execution_count": 73,
   "metadata": {},
   "outputs": [
    {
     "data": {
      "text/html": [
       "<div>\n",
       "<style scoped>\n",
       "    .dataframe tbody tr th:only-of-type {\n",
       "        vertical-align: middle;\n",
       "    }\n",
       "\n",
       "    .dataframe tbody tr th {\n",
       "        vertical-align: top;\n",
       "    }\n",
       "\n",
       "    .dataframe thead th {\n",
       "        text-align: right;\n",
       "    }\n",
       "</style>\n",
       "<table border=\"1\" class=\"dataframe\">\n",
       "  <thead>\n",
       "    <tr style=\"text-align: right;\">\n",
       "      <th></th>\n",
       "      <th>网购金额</th>\n",
       "    </tr>\n",
       "  </thead>\n",
       "  <tbody>\n",
       "    <tr>\n",
       "      <th>0</th>\n",
       "      <td>-0.0743</td>\n",
       "    </tr>\n",
       "    <tr>\n",
       "      <th>1</th>\n",
       "      <td>-0.2897</td>\n",
       "    </tr>\n",
       "    <tr>\n",
       "      <th>2</th>\n",
       "      <td>-0.2715</td>\n",
       "    </tr>\n",
       "    <tr>\n",
       "      <th>3</th>\n",
       "      <td>0.2993</td>\n",
       "    </tr>\n",
       "    <tr>\n",
       "      <th>4</th>\n",
       "      <td>0.9948</td>\n",
       "    </tr>\n",
       "    <tr>\n",
       "      <th>5</th>\n",
       "      <td>-1.1175</td>\n",
       "    </tr>\n",
       "    <tr>\n",
       "      <th>6</th>\n",
       "      <td>-0.1106</td>\n",
       "    </tr>\n",
       "    <tr>\n",
       "      <th>7</th>\n",
       "      <td>0.2656</td>\n",
       "    </tr>\n",
       "    <tr>\n",
       "      <th>8</th>\n",
       "      <td>-0.4039</td>\n",
       "    </tr>\n",
       "    <tr>\n",
       "      <th>9</th>\n",
       "      <td>0.9014</td>\n",
       "    </tr>\n",
       "    <tr>\n",
       "      <th>10</th>\n",
       "      <td>1.3165</td>\n",
       "    </tr>\n",
       "    <tr>\n",
       "      <th>11</th>\n",
       "      <td>0.7171</td>\n",
       "    </tr>\n",
       "    <tr>\n",
       "      <th>12</th>\n",
       "      <td>-0.6322</td>\n",
       "    </tr>\n",
       "    <tr>\n",
       "      <th>13</th>\n",
       "      <td>3.2108</td>\n",
       "    </tr>\n",
       "    <tr>\n",
       "      <th>14</th>\n",
       "      <td>-1.3484</td>\n",
       "    </tr>\n",
       "    <tr>\n",
       "      <th>15</th>\n",
       "      <td>-1.3251</td>\n",
       "    </tr>\n",
       "    <tr>\n",
       "      <th>16</th>\n",
       "      <td>-1.3095</td>\n",
       "    </tr>\n",
       "    <tr>\n",
       "      <th>17</th>\n",
       "      <td>-0.0380</td>\n",
       "    </tr>\n",
       "    <tr>\n",
       "      <th>18</th>\n",
       "      <td>-0.1963</td>\n",
       "    </tr>\n",
       "    <tr>\n",
       "      <th>19</th>\n",
       "      <td>1.0129</td>\n",
       "    </tr>\n",
       "    <tr>\n",
       "      <th>20</th>\n",
       "      <td>-0.4013</td>\n",
       "    </tr>\n",
       "    <tr>\n",
       "      <th>21</th>\n",
       "      <td>-0.5051</td>\n",
       "    </tr>\n",
       "    <tr>\n",
       "      <th>22</th>\n",
       "      <td>-0.3312</td>\n",
       "    </tr>\n",
       "    <tr>\n",
       "      <th>23</th>\n",
       "      <td>-0.4999</td>\n",
       "    </tr>\n",
       "    <tr>\n",
       "      <th>24</th>\n",
       "      <td>0.4966</td>\n",
       "    </tr>\n",
       "    <tr>\n",
       "      <th>25</th>\n",
       "      <td>-0.3027</td>\n",
       "    </tr>\n",
       "    <tr>\n",
       "      <th>26</th>\n",
       "      <td>1.1920</td>\n",
       "    </tr>\n",
       "    <tr>\n",
       "      <th>27</th>\n",
       "      <td>-0.2534</td>\n",
       "    </tr>\n",
       "    <tr>\n",
       "      <th>28</th>\n",
       "      <td>-1.1849</td>\n",
       "    </tr>\n",
       "    <tr>\n",
       "      <th>29</th>\n",
       "      <td>-1.9297</td>\n",
       "    </tr>\n",
       "    <tr>\n",
       "      <th>30</th>\n",
       "      <td>0.3461</td>\n",
       "    </tr>\n",
       "    <tr>\n",
       "      <th>31</th>\n",
       "      <td>-0.2715</td>\n",
       "    </tr>\n",
       "    <tr>\n",
       "      <th>32</th>\n",
       "      <td>-0.2430</td>\n",
       "    </tr>\n",
       "    <tr>\n",
       "      <th>33</th>\n",
       "      <td>0.2007</td>\n",
       "    </tr>\n",
       "    <tr>\n",
       "      <th>34</th>\n",
       "      <td>0.5562</td>\n",
       "    </tr>\n",
       "    <tr>\n",
       "      <th>35</th>\n",
       "      <td>0.0762</td>\n",
       "    </tr>\n",
       "    <tr>\n",
       "      <th>36</th>\n",
       "      <td>0.6912</td>\n",
       "    </tr>\n",
       "    <tr>\n",
       "      <th>37</th>\n",
       "      <td>-0.7879</td>\n",
       "    </tr>\n",
       "    <tr>\n",
       "      <th>38</th>\n",
       "      <td>-1.2005</td>\n",
       "    </tr>\n",
       "    <tr>\n",
       "      <th>39</th>\n",
       "      <td>-0.9747</td>\n",
       "    </tr>\n",
       "    <tr>\n",
       "      <th>40</th>\n",
       "      <td>-1.7869</td>\n",
       "    </tr>\n",
       "    <tr>\n",
       "      <th>41</th>\n",
       "      <td>0.1930</td>\n",
       "    </tr>\n",
       "    <tr>\n",
       "      <th>42</th>\n",
       "      <td>1.9964</td>\n",
       "    </tr>\n",
       "    <tr>\n",
       "      <th>43</th>\n",
       "      <td>0.5718</td>\n",
       "    </tr>\n",
       "    <tr>\n",
       "      <th>44</th>\n",
       "      <td>2.0327</td>\n",
       "    </tr>\n",
       "    <tr>\n",
       "      <th>45</th>\n",
       "      <td>0.4343</td>\n",
       "    </tr>\n",
       "    <tr>\n",
       "      <th>46</th>\n",
       "      <td>-0.1340</td>\n",
       "    </tr>\n",
       "    <tr>\n",
       "      <th>47</th>\n",
       "      <td>-1.0059</td>\n",
       "    </tr>\n",
       "    <tr>\n",
       "      <th>48</th>\n",
       "      <td>0.2604</td>\n",
       "    </tr>\n",
       "    <tr>\n",
       "      <th>49</th>\n",
       "      <td>1.1634</td>\n",
       "    </tr>\n",
       "  </tbody>\n",
       "</table>\n",
       "</div>"
      ],
      "text/plain": [
       "      网购金额\n",
       "0  -0.0743\n",
       "1  -0.2897\n",
       "2  -0.2715\n",
       "3   0.2993\n",
       "4   0.9948\n",
       "5  -1.1175\n",
       "6  -0.1106\n",
       "7   0.2656\n",
       "8  -0.4039\n",
       "9   0.9014\n",
       "10  1.3165\n",
       "11  0.7171\n",
       "12 -0.6322\n",
       "13  3.2108\n",
       "14 -1.3484\n",
       "15 -1.3251\n",
       "16 -1.3095\n",
       "17 -0.0380\n",
       "18 -0.1963\n",
       "19  1.0129\n",
       "20 -0.4013\n",
       "21 -0.5051\n",
       "22 -0.3312\n",
       "23 -0.4999\n",
       "24  0.4966\n",
       "25 -0.3027\n",
       "26  1.1920\n",
       "27 -0.2534\n",
       "28 -1.1849\n",
       "29 -1.9297\n",
       "30  0.3461\n",
       "31 -0.2715\n",
       "32 -0.2430\n",
       "33  0.2007\n",
       "34  0.5562\n",
       "35  0.0762\n",
       "36  0.6912\n",
       "37 -0.7879\n",
       "38 -1.2005\n",
       "39 -0.9747\n",
       "40 -1.7869\n",
       "41  0.1930\n",
       "42  1.9964\n",
       "43  0.5718\n",
       "44  2.0327\n",
       "45  0.4343\n",
       "46 -0.1340\n",
       "47 -1.0059\n",
       "48  0.2604\n",
       "49  1.1634"
      ]
     },
     "execution_count": 73,
     "metadata": {},
     "output_type": "execute_result"
    }
   ],
   "source": [
    "# (3) 计算标准分数，检测数据的离群点。\n",
    "df3 = stats.zscore(df, ddof=1) # 计算标准分数\n",
    "np.round(df3, 4) # 保留4位小数"
   ]
  },
  {
   "attachments": {},
   "cell_type": "markdown",
   "metadata": {},
   "source": [
    "通过标准分数可以找出离群值，一般而言3个标准差以外的值就可以认为是离群值。\n",
    "- 比如上面的第14个数据（索引为13），它的标准分数为3.2108，大于3，因此可以认为它是离群值。"
   ]
  },
  {
   "cell_type": "code",
   "execution_count": 72,
   "metadata": {},
   "outputs": [
    {
     "data": {
      "text/html": [
       "<div>\n",
       "<style scoped>\n",
       "    .dataframe tbody tr th:only-of-type {\n",
       "        vertical-align: middle;\n",
       "    }\n",
       "\n",
       "    .dataframe tbody tr th {\n",
       "        vertical-align: top;\n",
       "    }\n",
       "\n",
       "    .dataframe thead th {\n",
       "        text-align: right;\n",
       "    }\n",
       "</style>\n",
       "<table border=\"1\" class=\"dataframe\">\n",
       "  <thead>\n",
       "    <tr style=\"text-align: right;\">\n",
       "      <th></th>\n",
       "      <th>偏度系数</th>\n",
       "      <th>峰度系数</th>\n",
       "    </tr>\n",
       "  </thead>\n",
       "  <tbody>\n",
       "    <tr>\n",
       "      <th>网购金额</th>\n",
       "      <td>0.6633</td>\n",
       "      <td>1.2203</td>\n",
       "    </tr>\n",
       "  </tbody>\n",
       "</table>\n",
       "</div>"
      ],
      "text/plain": [
       "        偏度系数    峰度系数\n",
       "网购金额  0.6633  1.2203"
      ]
     },
     "execution_count": 72,
     "metadata": {},
     "output_type": "execute_result"
    }
   ],
   "source": [
    "# (4) 计算偏度系数和峰度系数，分析网购金额的分布特征。\n",
    "skew = df.skew() # 计算偏度系数\n",
    "kurt = df.kurt() # 计算峰度系数\n",
    "df4 = pd.DataFrame({'偏度系数': skew, '峰度系数': kurt}) # 创建数据框\n",
    "np.round(df4, 4) # 保留4位小数"
   ]
  },
  {
   "attachments": {},
   "cell_type": "markdown",
   "metadata": {},
   "source": [
    "网购金额：\n",
    "- 偏度系数为0.6633，说明网购金额的分布形状是右偏；\n",
    "- 峰度系数为1.2203，说明网购金额的分布形状是尖峰。"
   ]
  },
  {
   "attachments": {},
   "cell_type": "markdown",
   "metadata": {},
   "source": [
    "### 3.2"
   ]
  },
  {
   "cell_type": "code",
   "execution_count": 21,
   "metadata": {},
   "outputs": [
    {
     "data": {
      "text/html": [
       "<div>\n",
       "<style scoped>\n",
       "    .dataframe tbody tr th:only-of-type {\n",
       "        vertical-align: middle;\n",
       "    }\n",
       "\n",
       "    .dataframe tbody tr th {\n",
       "        vertical-align: top;\n",
       "    }\n",
       "\n",
       "    .dataframe thead th {\n",
       "        text-align: right;\n",
       "    }\n",
       "</style>\n",
       "<table border=\"1\" class=\"dataframe\">\n",
       "  <thead>\n",
       "    <tr style=\"text-align: right;\">\n",
       "      <th></th>\n",
       "      <th>方法A</th>\n",
       "      <th>方法B</th>\n",
       "      <th>方法C</th>\n",
       "    </tr>\n",
       "  </thead>\n",
       "  <tbody>\n",
       "    <tr>\n",
       "      <th>0</th>\n",
       "      <td>164</td>\n",
       "      <td>129</td>\n",
       "      <td>125</td>\n",
       "    </tr>\n",
       "    <tr>\n",
       "      <th>1</th>\n",
       "      <td>167</td>\n",
       "      <td>130</td>\n",
       "      <td>126</td>\n",
       "    </tr>\n",
       "    <tr>\n",
       "      <th>2</th>\n",
       "      <td>168</td>\n",
       "      <td>129</td>\n",
       "      <td>126</td>\n",
       "    </tr>\n",
       "    <tr>\n",
       "      <th>3</th>\n",
       "      <td>165</td>\n",
       "      <td>130</td>\n",
       "      <td>127</td>\n",
       "    </tr>\n",
       "    <tr>\n",
       "      <th>4</th>\n",
       "      <td>170</td>\n",
       "      <td>131</td>\n",
       "      <td>126</td>\n",
       "    </tr>\n",
       "  </tbody>\n",
       "</table>\n",
       "</div>"
      ],
      "text/plain": [
       "   方法A  方法B  方法C\n",
       "0  164  129  125\n",
       "1  167  130  126\n",
       "2  168  129  126\n",
       "3  165  130  127\n",
       "4  170  131  126"
      ]
     },
     "execution_count": 21,
     "metadata": {},
     "output_type": "execute_result"
    }
   ],
   "source": [
    "df = pd.read_csv('./exercise/chap03/exercise3_2.csv', encoding='gbk') # 读取数据\n",
    "df.head() # 显示前5行数据"
   ]
  },
  {
   "cell_type": "code",
   "execution_count": 22,
   "metadata": {},
   "outputs": [
    {
     "data": {
      "text/html": [
       "<div>\n",
       "<style scoped>\n",
       "    .dataframe tbody tr th:only-of-type {\n",
       "        vertical-align: middle;\n",
       "    }\n",
       "\n",
       "    .dataframe tbody tr th {\n",
       "        vertical-align: top;\n",
       "    }\n",
       "\n",
       "    .dataframe thead th {\n",
       "        text-align: right;\n",
       "    }\n",
       "</style>\n",
       "<table border=\"1\" class=\"dataframe\">\n",
       "  <thead>\n",
       "    <tr style=\"text-align: right;\">\n",
       "      <th></th>\n",
       "      <th>方法</th>\n",
       "      <th>产品数量</th>\n",
       "    </tr>\n",
       "  </thead>\n",
       "  <tbody>\n",
       "    <tr>\n",
       "      <th>0</th>\n",
       "      <td>方法A</td>\n",
       "      <td>164</td>\n",
       "    </tr>\n",
       "    <tr>\n",
       "      <th>1</th>\n",
       "      <td>方法A</td>\n",
       "      <td>167</td>\n",
       "    </tr>\n",
       "    <tr>\n",
       "      <th>2</th>\n",
       "      <td>方法A</td>\n",
       "      <td>168</td>\n",
       "    </tr>\n",
       "    <tr>\n",
       "      <th>3</th>\n",
       "      <td>方法A</td>\n",
       "      <td>165</td>\n",
       "    </tr>\n",
       "    <tr>\n",
       "      <th>4</th>\n",
       "      <td>方法A</td>\n",
       "      <td>170</td>\n",
       "    </tr>\n",
       "  </tbody>\n",
       "</table>\n",
       "</div>"
      ],
      "text/plain": [
       "    方法  产品数量\n",
       "0  方法A   164\n",
       "1  方法A   167\n",
       "2  方法A   168\n",
       "3  方法A   165\n",
       "4  方法A   170"
      ]
     },
     "execution_count": 22,
     "metadata": {},
     "output_type": "execute_result"
    }
   ],
   "source": [
    "df_melt = pd.melt(\n",
    "    df, value_vars=['方法A', '方法B', '方法C'], \n",
    "    var_name='方法', value_name='产品数量'\n",
    ") # 数据重构\n",
    "df_melt.head() # 显示前5行数据"
   ]
  },
  {
   "cell_type": "code",
   "execution_count": 23,
   "metadata": {},
   "outputs": [
    {
     "data": {
      "image/png": "[encoded data removed]",
      "text/plain": [
       "<Figure size 1300x400 with 3 Axes>"
      ]
     },
     "metadata": {},
     "output_type": "display_data"
    }
   ],
   "source": [
    "# 选择适当的图形和统计量比较3种方法组装产品数量的分布特点。\n",
    "# 这里选择箱型图、点图和核密度图\n",
    "plt.figure(figsize=(13, 4)) # 设置画布大小\n",
    "\n",
    "plt.subplot(131) # 创建子图1\n",
    "sns.boxplot(x='方法', y='产品数量', data=df_melt) # 绘制箱型图\n",
    "plt.title('(a) 箱型图') # 设置标题\n",
    "\n",
    "plt.subplot(132) # 创建子图2\n",
    "sns.stripplot(x='方法', y='产品数量', data=df_melt, jitter=True, size=5) # 绘制点图\n",
    "plt.title('(b) 点图') # 设置标题\n",
    "\n",
    "plt.subplot(133) # 创建子图3\n",
    "sns.kdeplot(x='产品数量', hue='方法', data=df_melt, fill=True) # 绘制核密度图\n",
    "plt.title('(c) 核密度图') # 设置标题\n",
    "\n",
    "plt.show() # 显示图形"
   ]
  },
  {
   "cell_type": "code",
   "execution_count": 24,
   "metadata": {},
   "outputs": [
    {
     "data": {
      "text/html": [
       "<div>\n",
       "<style scoped>\n",
       "    .dataframe tbody tr th:only-of-type {\n",
       "        vertical-align: middle;\n",
       "    }\n",
       "\n",
       "    .dataframe tbody tr th {\n",
       "        vertical-align: top;\n",
       "    }\n",
       "\n",
       "    .dataframe thead th {\n",
       "        text-align: right;\n",
       "    }\n",
       "</style>\n",
       "<table border=\"1\" class=\"dataframe\">\n",
       "  <thead>\n",
       "    <tr style=\"text-align: right;\">\n",
       "      <th></th>\n",
       "      <th>mean</th>\n",
       "      <th>std</th>\n",
       "    </tr>\n",
       "    <tr>\n",
       "      <th>方法</th>\n",
       "      <th></th>\n",
       "      <th></th>\n",
       "    </tr>\n",
       "  </thead>\n",
       "  <tbody>\n",
       "    <tr>\n",
       "      <th>方法A</th>\n",
       "      <td>165.6000</td>\n",
       "      <td>2.1314</td>\n",
       "    </tr>\n",
       "    <tr>\n",
       "      <th>方法B</th>\n",
       "      <td>128.7333</td>\n",
       "      <td>1.7512</td>\n",
       "    </tr>\n",
       "    <tr>\n",
       "      <th>方法C</th>\n",
       "      <td>125.5333</td>\n",
       "      <td>2.7740</td>\n",
       "    </tr>\n",
       "  </tbody>\n",
       "</table>\n",
       "</div>"
      ],
      "text/plain": [
       "         mean     std\n",
       "方法                   \n",
       "方法A  165.6000  2.1314\n",
       "方法B  128.7333  1.7512\n",
       "方法C  125.5333  2.7740"
      ]
     },
     "execution_count": 24,
     "metadata": {},
     "output_type": "execute_result"
    }
   ],
   "source": [
    "# 除了图形也可以从描述统计量上比较\n",
    "# 这里选择均值和标准差\n",
    "df_melt.groupby('方法')['产品数量'].agg([np.mean, np.std]).round(4) # 计算描述统计量"
   ]
  },
  {
   "attachments": {},
   "cell_type": "markdown",
   "metadata": {},
   "source": [
    "从上面的结果可以看出：\n",
    "- 方法A的平均值明显高于其他两种方法，说明平均产出量最高；\n",
    "- 并且方法A的标准差略高于方法B，而低于方法C，方法A的稳定性也能接受；\n",
    "- 综上所述，方法A是最优的。"
   ]
  },
  {
   "attachments": {},
   "cell_type": "markdown",
   "metadata": {},
   "source": [
    "### 3.3"
   ]
  },
  {
   "cell_type": "code",
   "execution_count": 25,
   "metadata": {},
   "outputs": [
    {
     "data": {
      "text/html": [
       "<div>\n",
       "<style scoped>\n",
       "    .dataframe tbody tr th:only-of-type {\n",
       "        vertical-align: middle;\n",
       "    }\n",
       "\n",
       "    .dataframe tbody tr th {\n",
       "        vertical-align: top;\n",
       "    }\n",
       "\n",
       "    .dataframe thead th {\n",
       "        text-align: right;\n",
       "    }\n",
       "</style>\n",
       "<table border=\"1\" class=\"dataframe\">\n",
       "  <thead>\n",
       "    <tr style=\"text-align: right;\">\n",
       "      <th></th>\n",
       "      <th>男生</th>\n",
       "      <th>女生</th>\n",
       "    </tr>\n",
       "  </thead>\n",
       "  <tbody>\n",
       "    <tr>\n",
       "      <th>0</th>\n",
       "      <td>182.1</td>\n",
       "      <td>175.4</td>\n",
       "    </tr>\n",
       "    <tr>\n",
       "      <th>1</th>\n",
       "      <td>183.3</td>\n",
       "      <td>162.7</td>\n",
       "    </tr>\n",
       "    <tr>\n",
       "      <th>2</th>\n",
       "      <td>176.6</td>\n",
       "      <td>174.6</td>\n",
       "    </tr>\n",
       "    <tr>\n",
       "      <th>3</th>\n",
       "      <td>177.3</td>\n",
       "      <td>164.8</td>\n",
       "    </tr>\n",
       "    <tr>\n",
       "      <th>4</th>\n",
       "      <td>174.3</td>\n",
       "      <td>157.0</td>\n",
       "    </tr>\n",
       "  </tbody>\n",
       "</table>\n",
       "</div>"
      ],
      "text/plain": [
       "      男生     女生\n",
       "0  182.1  175.4\n",
       "1  183.3  162.7\n",
       "2  176.6  174.6\n",
       "3  177.3  164.8\n",
       "4  174.3  157.0"
      ]
     },
     "execution_count": 25,
     "metadata": {},
     "output_type": "execute_result"
    }
   ],
   "source": [
    "df = pd.read_csv('./exercise/chap03/exercise3_3.csv', encoding='gbk') # 读取数据\n",
    "df.head() # 显示前5行数据"
   ]
  },
  {
   "cell_type": "code",
   "execution_count": 26,
   "metadata": {},
   "outputs": [
    {
     "data": {
      "text/html": [
       "<div>\n",
       "<style scoped>\n",
       "    .dataframe tbody tr th:only-of-type {\n",
       "        vertical-align: middle;\n",
       "    }\n",
       "\n",
       "    .dataframe tbody tr th {\n",
       "        vertical-align: top;\n",
       "    }\n",
       "\n",
       "    .dataframe thead th {\n",
       "        text-align: right;\n",
       "    }\n",
       "</style>\n",
       "<table border=\"1\" class=\"dataframe\">\n",
       "  <thead>\n",
       "    <tr style=\"text-align: right;\">\n",
       "      <th></th>\n",
       "      <th>性别</th>\n",
       "      <th>身高</th>\n",
       "    </tr>\n",
       "  </thead>\n",
       "  <tbody>\n",
       "    <tr>\n",
       "      <th>0</th>\n",
       "      <td>男生</td>\n",
       "      <td>182.1</td>\n",
       "    </tr>\n",
       "    <tr>\n",
       "      <th>1</th>\n",
       "      <td>男生</td>\n",
       "      <td>183.3</td>\n",
       "    </tr>\n",
       "    <tr>\n",
       "      <th>2</th>\n",
       "      <td>男生</td>\n",
       "      <td>176.6</td>\n",
       "    </tr>\n",
       "    <tr>\n",
       "      <th>3</th>\n",
       "      <td>男生</td>\n",
       "      <td>177.3</td>\n",
       "    </tr>\n",
       "    <tr>\n",
       "      <th>4</th>\n",
       "      <td>男生</td>\n",
       "      <td>174.3</td>\n",
       "    </tr>\n",
       "  </tbody>\n",
       "</table>\n",
       "</div>"
      ],
      "text/plain": [
       "   性别     身高\n",
       "0  男生  182.1\n",
       "1  男生  183.3\n",
       "2  男生  176.6\n",
       "3  男生  177.3\n",
       "4  男生  174.3"
      ]
     },
     "execution_count": 26,
     "metadata": {},
     "output_type": "execute_result"
    }
   ],
   "source": [
    "df_melt = pd.melt(\n",
    "    df, value_vars=['男生', '女生'],\n",
    "    var_name='性别', value_name='身高'\n",
    ") # 数据重构\n",
    "df_melt.head() # 显示前5行数据"
   ]
  },
  {
   "cell_type": "code",
   "execution_count": 27,
   "metadata": {},
   "outputs": [
    {
     "data": {
      "image/png": "[encoded data removed]",
      "text/plain": [
       "<Figure size 900x400 with 2 Axes>"
      ]
     },
     "metadata": {},
     "output_type": "display_data"
    }
   ],
   "source": [
    "# 利用图形和描述统计量比较分析男女学生身高的特点和差异。\n",
    "# 这里选择小提琴图和直方图\n",
    "plt.figure(figsize=(9, 4)) # 设置画布大小\n",
    "\n",
    "plt.subplot(121) # 创建子图1\n",
    "sns.violinplot(x='性别', y='身高', data=df_melt) # 绘制小提琴图\n",
    "plt.title('(a) 小提琴图') # 设置标题\n",
    "\n",
    "plt.subplot(122) # 创建子图2\n",
    "sns.histplot(x='身高', hue='性别', data=df_melt, bins=10, kde=True) # 绘制直方图\n",
    "plt.title('(b) 直方图') # 设置标题\n",
    "\n",
    "plt.show() # 显示图形"
   ]
  },
  {
   "cell_type": "code",
   "execution_count": 28,
   "metadata": {},
   "outputs": [
    {
     "data": {
      "text/html": [
       "<div>\n",
       "<style scoped>\n",
       "    .dataframe tbody tr th:only-of-type {\n",
       "        vertical-align: middle;\n",
       "    }\n",
       "\n",
       "    .dataframe tbody tr th {\n",
       "        vertical-align: top;\n",
       "    }\n",
       "\n",
       "    .dataframe thead th {\n",
       "        text-align: right;\n",
       "    }\n",
       "</style>\n",
       "<table border=\"1\" class=\"dataframe\">\n",
       "  <thead>\n",
       "    <tr style=\"text-align: right;\">\n",
       "      <th></th>\n",
       "      <th>mean</th>\n",
       "      <th>ptp</th>\n",
       "      <th>cv</th>\n",
       "      <th>skew</th>\n",
       "      <th>kurtosis</th>\n",
       "    </tr>\n",
       "    <tr>\n",
       "      <th>性别</th>\n",
       "      <th></th>\n",
       "      <th></th>\n",
       "      <th></th>\n",
       "      <th></th>\n",
       "      <th></th>\n",
       "    </tr>\n",
       "  </thead>\n",
       "  <tbody>\n",
       "    <tr>\n",
       "      <th>女生</th>\n",
       "      <td>167.856</td>\n",
       "      <td>22.2</td>\n",
       "      <td>0.0294</td>\n",
       "      <td>0.1802</td>\n",
       "      <td>0.0244</td>\n",
       "    </tr>\n",
       "    <tr>\n",
       "      <th>男生</th>\n",
       "      <td>178.560</td>\n",
       "      <td>29.5</td>\n",
       "      <td>0.0373</td>\n",
       "      <td>0.3658</td>\n",
       "      <td>-0.1379</td>\n",
       "    </tr>\n",
       "  </tbody>\n",
       "</table>\n",
       "</div>"
      ],
      "text/plain": [
       "       mean   ptp      cv    skew  kurtosis\n",
       "性别                                         \n",
       "女生  167.856  22.2  0.0294  0.1802    0.0244\n",
       "男生  178.560  29.5  0.0373  0.3658   -0.1379"
      ]
     },
     "execution_count": 28,
     "metadata": {},
     "output_type": "execute_result"
    }
   ],
   "source": [
    "# 除了图形也可以从描述统计量上比较\n",
    "# 这里选择平均值、极差、变异系数、偏度系数和峰度系数\n",
    "# 变异系数的函数\n",
    "def cv(x):\n",
    "    return x.std() / x.mean()\n",
    "df_melt.groupby('性别')['身高'].agg([np.mean, np.ptp, cv, stats.skew, stats.kurtosis]).round(4) # 计算描述统计量"
   ]
  },
  {
   "attachments": {},
   "cell_type": "markdown",
   "metadata": {},
   "source": [
    "从上面的结果可以看出：\n",
    "- 男生的身高平均值高于女生，但是极差也更大，说明男生的身高差异性较大大；\n",
    "- 男生身高的变异系数也大于女生，同样反映出男生身高的相对离散程度更大；\n",
    "- 女生和男生的身高都呈现出右偏分布，但是女生的身高峰度系数更大，呈现尖峰分布。"
   ]
  }
 ],
 "metadata": {
  "kernelspec": {
   "display_name": "base",
   "language": "python",
   "name": "python3"
  },
  "language_info": {
   "codemirror_mode": {
    "name": "ipython",
    "version": 3
   },
   "file_extension": ".py",
   "mimetype": "text/x-python",
   "name": "python",
   "nbconvert_exporter": "python",
   "pygments_lexer": "ipython3",
   "version": "3.10.10"
  },
  "orig_nbformat": 4
 },
 "nbformat": 4,
 "nbformat_minor": 2
}
